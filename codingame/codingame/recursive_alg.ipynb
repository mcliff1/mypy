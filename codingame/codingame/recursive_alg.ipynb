{
 "cells": [
  {
   "cell_type": "code",
   "execution_count": 1,
   "metadata": {},
   "outputs": [],
   "source": [
    "import numpy as np\n",
    "from fractions import Fraction\n",
    "\n",
    "#from numpy.linalg import inv\n"
   ]
  },
  {
   "cell_type": "code",
   "execution_count": 59,
   "metadata": {},
   "outputs": [],
   "source": [
    "class ItemSet(object):\n",
    "    def __init__(self, items):\n",
    "        self.items = items\n",
    "    \n",
    "    def contains(self, item_set):\n",
    "        return all(map(lambda x:x[0]>=-x[1], zip(self.items, item_set.items)))\n",
    "    \n",
    "    def __add__(self, addend): \n",
    "        return ItemSet(list(map(lambda x:x[0]+x[1], zip(self.items, addend.items))))\n",
    "    \n",
    "    def __len__(self):\n",
    "        return sum(self.items)\n",
    "    \n",
    "    def __repr__(self):\n",
    "        return f'({self.items})'\n",
    "    \n",
    "class Cast(object):\n",
    "    def __init__(self, action_id, recipe, points):\n",
    "        self.action_id = action_id\n",
    "        self.points = points\n",
    "        self.recipe = recipe\n",
    "\n",
    "    def __repr__(self):\n",
    "        return f'Cast{self.action_id}({self.recipe})'\n",
    "        \n"
   ]
  },
  {
   "cell_type": "markdown",
   "metadata": {},
   "source": [
    "In our example we will have two slots;   our initial inventory will be (0,0);\n",
    "our available moves are (+2,0), (-1,+1);   and our goal is (0,1).\n",
    "\n",
    "\n",
    "\n"
   ]
  },
  {
   "cell_type": "code",
   "execution_count": 60,
   "metadata": {},
   "outputs": [
    {
     "name": "stdout",
     "output_type": "stream",
     "text": [
      "inventory: ([0, 0]), goal: [0, 1], moves: [Cast1(([2, 0])), Cast2(([-1, 1]))]\n"
     ]
    }
   ],
   "source": [
    "inventory = ItemSet([0,0])\n",
    "\n",
    "goal = [0,1]\n",
    "\n",
    "moves = [Cast(1,ItemSet([2,0]),0), Cast(2,ItemSet([-1,1]),0)]\n",
    "print(f'inventory: {inventory}, goal: {goal}, moves: {moves}')\n"
   ]
  },
  {
   "cell_type": "markdown",
   "metadata": {},
   "source": [
    "At this point I express the moves as c, d initial state is I and target state of T\n",
    "we have\n",
    "\n",
    "$$\n",
    "I + A c1 + B c2 \\ge T\n",
    "\\text{ or } \n",
    "\\left(\\begin{array}{ccc}c1 & c2\\end{array}\\right) \\left(\\begin{array}{ccc}A \\\\ B\\end{array}\\right) \\ge T - I\n",
    "$$\n",
    "\n",
    "In our case\n",
    "\n",
    "$$\n",
    "\\left(\n",
    "\\begin{array}{ccc}\n",
    "2A -B \\\\\n",
    "0 + B\n",
    "\\end{array}\n",
    "\\right)\n",
    "\\ge \n",
    "\\left(\\begin{array}{ccc}\n",
    "0 -  0 \\\\ 1 - 0\n",
    "\\end{array}\\right)\n",
    "\\text{or}\n",
    "\\left(\n",
    "\\begin{array}{ccc}\n",
    "2 & -1 \\\\ 0 & 1\n",
    "\\end{array}\n",
    "\\right)\n",
    "\\left(\\begin{array}{ccc}\n",
    "A \\\\ B\n",
    "\\end{array}\\right)\n",
    "\\ge \n",
    "\\left(\\begin{array}{ccc}\n",
    "0 \\\\ 1\n",
    "\\end{array}\\right)\n",
    "$$\n",
    "\n",
    "Clearly $B = 1$ with $A = 1$ will solve this, it must be noted the order is important and we may have some other restrictions on the casting actions.\n",
    "\n"
   ]
  },
  {
   "cell_type": "code",
   "execution_count": 123,
   "metadata": {},
   "outputs": [
    {
     "data": {
      "text/plain": [
       "array([[ 2, -1],\n",
       "       [ 0,  1]])"
      ]
     },
     "execution_count": 123,
     "metadata": {},
     "output_type": "execute_result"
    }
   ],
   "source": [
    "M = np.array([x.recipe.items for x in moves]).T\n",
    "M"
   ]
  },
  {
   "cell_type": "code",
   "execution_count": 101,
   "metadata": {},
   "outputs": [
    {
     "name": "stdout",
     "output_type": "stream",
     "text": [
      "non-normalized: [0.5 1. ]\n",
      "[1. 2.]\n"
     ]
    }
   ],
   "source": [
    "x=np.linalg.solve(M, np.array([0,1]))\n",
    "print(f'non-normalized: {x}')\n",
    "x = x * Fraction(x.sum()).limit_denominator().denominator\n",
    "print(x)"
   ]
  },
  {
   "cell_type": "code",
   "execution_count": 124,
   "metadata": {},
   "outputs": [
    {
     "data": {
      "text/plain": [
       "[Cast1(([2, 0])), Cast2(([-1, 1])), Cast2(([-1, 1]))]"
      ]
     },
     "execution_count": 124,
     "metadata": {},
     "output_type": "execute_result"
    }
   ],
   "source": [
    "moves_to_make = [j for i in [[moves[ndx]]*int(x[ndx]) for ndx in range(len(moves))] for j in i]\n",
    "moves_to_make"
   ]
  },
  {
   "cell_type": "code",
   "execution_count": 125,
   "metadata": {},
   "outputs": [
    {
     "data": {
      "text/plain": [
       "False"
      ]
     },
     "execution_count": 125,
     "metadata": {},
     "output_type": "execute_result"
    }
   ],
   "source": [
    "inventory.contains(moves[1].recipe)"
   ]
  },
  {
   "cell_type": "code",
   "execution_count": 127,
   "metadata": {},
   "outputs": [
    {
     "name": "stdout",
     "output_type": "stream",
     "text": [
      "Inventory=([0 2]), MovesToMake=[Cast1(([2, 0])), Cast2(([-1, 1])), Cast2(([-1, 1]))]\n",
      "inv: ([0 2]), movesleft: [Cast1(([2, 0])), Cast2(([-1, 1])), Cast2(([-1, 1]))]\n",
      "make move Cast1(([2, 0]))\n",
      "inv: ([2 2]), movesleft: [Cast2(([-1, 1])), Cast2(([-1, 1]))]\n",
      "make move Cast2(([-1, 1]))\n",
      "inv: ([1 3]), movesleft: [Cast2(([-1, 1]))]\n",
      "make move Cast2(([-1, 1]))\n",
      "inv: ([0 4]), movesleft: []\n",
      "[Cast1(([2, 0])), Cast2(([-1, 1])), Cast2(([-1, 1]))]\n"
     ]
    }
   ],
   "source": [
    "# takes moves_to_make and sorts them in order for the inventory\n",
    "def sortmoves(inv:ItemSet, moves_left):\n",
    "    print(f'inv: {inv}, movesleft: {moves_left}')\n",
    "    for move in moves_left:\n",
    "        if inv.contains(move.recipe):\n",
    "            print(f'make move {move}')\n",
    "            moves_left.remove(move)\n",
    "            inv.items = inv.items[:]\n",
    "            inv.items = np.add(inv.items, move.recipe.items)\n",
    "            return [move] + sortmoves(inv, moves_left[:])\n",
    "        \n",
    "    return []\n",
    "\n",
    "print(f'Inventory={inventory}, MovesToMake={moves_to_make}')\n",
    "print(sortmoves(inventory, moves_to_make[:]))"
   ]
  },
  {
   "cell_type": "markdown",
   "metadata": {},
   "source": [
    "# Tree view\n",
    "\n",
    "lets approach this now mapping out a tree of all options to a certain level 5 is reasonable for a 4 move set ($4^5 = 1024$)"
   ]
  },
  {
   "cell_type": "code",
   "execution_count": 58,
   "metadata": {},
   "outputs": [
    {
     "name": "stdout",
     "output_type": "stream",
     "text": [
      "Tree((root:Node([0, 0])))\n"
     ]
    }
   ],
   "source": [
    "class MoveNode(object):\n",
    "    def __init__(self, itemset):\n",
    "        self.itemset = itemset\n",
    "        #self.path = path\n",
    "        \n",
    "    def __repr__(self):\n",
    "        return f'Node{self.itemset}'\n",
    "\n",
    "    \n",
    "class MoveTree(object):\n",
    "    \n",
    "    def __init__(self, root):\n",
    "        self.root = root\n",
    "        self.branches = None # map of (ItemSet)* -> MoveNode\n",
    "        \n",
    "    \n",
    "    \n",
    "    def __repr__(self):\n",
    "        branches = f', branches: {self.branches}' if self.branches else ''\n",
    "        return f'Tree((root:{self.root}{branches}))'\n",
    "    \n",
    "\n",
    "def generate_branches(moves):\n",
    "    # uses the set of moves to generate branches\n",
    "    return  {\n",
    "        move: MoveTree(MoveNode(inventory + move.recipe))\n",
    "        for move in moves\n",
    "    }\n",
    "\n",
    "    \n",
    "    \n",
    "tree = MoveTree(MoveNode(inventory))\n",
    "print(tree)"
   ]
  },
  {
   "cell_type": "code",
   "execution_count": 57,
   "metadata": {},
   "outputs": [
    {
     "name": "stdout",
     "output_type": "stream",
     "text": [
      "Tree((root:Node([0, 0]), branches: {Cast1(([2, 0])): Tree((root:Node([2, 0]))), Cast2(([-1, 1])): Tree((root:Node([-1, 1])))}))\n"
     ]
    }
   ],
   "source": [
    "tree.generate_branches(moves)\n",
    "print(tree)"
   ]
  },
  {
   "cell_type": "code",
   "execution_count": 49,
   "metadata": {},
   "outputs": [
    {
     "name": "stdout",
     "output_type": "stream",
     "text": [
      "Tree((root:Node([0, 0]), branches: {Cast1(([2, 0])): Tree((root:Node([2, 0]), branches: {Cast1(([2, 0])): Tree((root:Node([2, 0]))), Cast2(([-1, 1])): Tree((root:Node([-1, 1])))})), Cast2(([-1, 1])): Tree((root:Node([-1, 1]), branches: {Cast1(([2, 0])): Tree((root:Node([2, 0]))), Cast2(([-1, 1])): Tree((root:Node([-1, 1])))}))}))\n"
     ]
    }
   ],
   "source": [
    "for m, branch in tree.branches.items():\n",
    "    branch.generate_branches(moves)\n",
    "    \n",
    "print(tree)"
   ]
  },
  {
   "cell_type": "code",
   "execution_count": 55,
   "metadata": {},
   "outputs": [
    {
     "data": {
      "text/plain": [
       "{Cast1(([2, 0])): Tree((root:Node([2, 0]), branches: {Cast1(([2, 0])): Tree((root:Node([2, 0]))), Cast2(([-1, 1])): Tree((root:Node([-1, 1])))})),\n",
       " Cast2(([-1, 1])): Tree((root:Node([-1, 1]), branches: {Cast1(([2, 0])): Tree((root:Node([2, 0]))), Cast2(([-1, 1])): Tree((root:Node([-1, 1])))}))}"
      ]
     },
     "execution_count": 55,
     "metadata": {},
     "output_type": "execute_result"
    }
   ],
   "source": [
    "tree.branches"
   ]
  }
 ],
 "metadata": {
  "kernelspec": {
   "display_name": "Python 3",
   "language": "python",
   "name": "python3"
  },
  "language_info": {
   "codemirror_mode": {
    "name": "ipython",
    "version": 3
   },
   "file_extension": ".py",
   "mimetype": "text/x-python",
   "name": "python",
   "nbconvert_exporter": "python",
   "pygments_lexer": "ipython3",
   "version": "3.7.0"
  }
 },
 "nbformat": 4,
 "nbformat_minor": 2
}
