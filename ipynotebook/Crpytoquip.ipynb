{
 "cells": [
  {
   "cell_type": "code",
   "execution_count": 3,
   "metadata": {},
   "outputs": [],
   "source": [
    "import nltk\n",
    "import string\n",
    "import random\n",
    "from collections import Counter\n",
    "\n",
    "\n",
    "def apply_cipher(my_quote, my_cipher):\n",
    "    return ''.join(my_cipher.get(letter, letter) for letter in my_quote)\n",
    "\n",
    "def try_word(my_quote, my_cipher, in_word=None, out_word=None):\n",
    "    if in_word and len(in_word) == len(out_word):\n",
    "        c2 = my_cipher.copy()\n",
    "        for ndx, letter in enumerate(in_word):\n",
    "            c2[letter] = out_word[ndx]\n",
    "        return apply_cipher(my_quote, c2)\n",
    "    return None\n",
    "\n",
    "def freq_cnt(the_quote):\n",
    "    counts = Counter(the_quote)\n",
    "    counts.pop(' ', None)\n",
    "    counts.pop(',', None)\n",
    "    counts.pop('.', None)\n",
    "    counts.pop('-', None)\n",
    "    counts.pop('?', None)\n",
    "    #return sorted(counts, key=counts.get, reverse=True)\n",
    "    return counts"
   ]
  },
  {
   "cell_type": "markdown",
   "metadata": {},
   "source": [
    "## 12/31/2018"
   ]
  },
  {
   "cell_type": "code",
   "execution_count": 6,
   "metadata": {},
   "outputs": [],
   "source": [
    "quote = 'xgoy qdl kjtwmzio ego sddoq izkwdle eaoze qdl xoao tyzivjys dy, egze kzvot qdl z t\\'kdao mdtoa'\n",
    "\n",
    "#sample = 'this is just some long random sentence of words that should have some reasonable frequency that can be used to help come up with a key to crack the code.'\n",
    "\n",
    "# lower case letters are \n",
    "string.ascii_lowercase\n",
    "#perms = itertools.permutations(string.ascii_lowercase)\n",
    "#next(perms)\n",
    "#perms[1]\n",
    "#[''.join(p) for p in perms][0]\n",
    "cipher1 = ''.join(random.sample(string.ascii_lowercase, 26))\n",
    "\n",
    "cipher = { 'k': 'M'}\n",
    "\n",
    "\n",
    "#def try_words(my_quote, my_cipher, word_pairs):\n",
    "#    _quote = my_quote\n",
    "#    for pair in word_pairs:\n",
    "#        _quote = try_word(_quote, my_cipher, pair[0], pair[1])\n",
    "#    return _quote"
   ]
  },
  {
   "cell_type": "code",
   "execution_count": 7,
   "metadata": {},
   "outputs": [
    {
     "name": "stdout",
     "output_type": "stream",
     "text": [
      "[' ', 'o', 'd', 'z', 'e', 't', 'y', 'q', 'l', 'k', 'a', 'g', 'i', 'x', 'j', 'w', 'm', 's', 'v', ',', \"'\"]\n",
      "Counter({' ': 16, 'o': 10, 'd': 9, 'z': 7, 'e': 6, 't': 5, 'y': 4, 'q': 4, 'l': 4, 'k': 4, 'a': 4, 'g': 3, 'i': 3, 'x': 2, 'j': 2, 'w': 2, 'm': 2, 's': 2, 'v': 2, ',': 1, \"'\": 1})\n"
     ]
    }
   ],
   "source": [
    "# get a frequency count of everything\n",
    "counts = Counter(quote)\n",
    "# this is a dict, keys are the letters, values are the counts\n",
    "print(sorted(counts, key=counts.get, reverse=True))\n",
    "print(counts)"
   ]
  },
  {
   "cell_type": "code",
   "execution_count": 9,
   "metadata": {},
   "outputs": [
    {
     "data": {
      "text/plain": [
       "\"xgoy qdl Mjtwmzio ego sddoq izMwdle eaoze qdl xoao tyzivjys dy, egze Mzvot qdl z t'Mdao mdtoa\""
      ]
     },
     "execution_count": 9,
     "metadata": {},
     "output_type": "execute_result"
    }
   ],
   "source": [
    "''.join([cipher.get(key, key) for key in quote])"
   ]
  },
  {
   "cell_type": "code",
   "execution_count": 10,
   "metadata": {},
   "outputs": [
    {
     "data": {
      "text/plain": [
       "\"xgoy qdl MjtwmAio ego sddoq iAMwdle eaoAe qdl xoao tyAivjys dy, egAe MAvot qdl A t'Mdao mdtoa\""
      ]
     },
     "execution_count": 10,
     "metadata": {},
     "output_type": "execute_result"
    }
   ],
   "source": [
    "cipher2 = cipher.copy()\n",
    "cipher2['z'] = 'A'\n",
    "apply_cipher(quote, cipher2)"
   ]
  },
  {
   "cell_type": "code",
   "execution_count": 11,
   "metadata": {},
   "outputs": [
    {
     "name": "stdout",
     "output_type": "stream",
     "text": [
      "xgoy THE Mjtwmzio ego sHHoT izMwHEe eaoze THE xoao tyzivjys Hy, egze Mzvot THE z t'MHao mHtoa\n",
      "xgoy FOR Mjtwmzio ego sOOoF izMwORe eaoze FOR xoao tyzivjys Oy, egze Mzvot FOR z t'MOao mOtoa\n",
      "xASy qdl MjtwmziS WAS sddSq izMwdlW WaSzW qdl xSaS tyzivjys dy, WAzW MzvSt qdl z t'MdaS mdtSa\n",
      "xERy qdl MjtwmziR HER sddRq izMwdlH HaRzH qdl xRaR tyzivjys dy, HEzH MzvRt qdl z t'MdaR mdtRa\n",
      "xNDy qdl MjtwmziD END sddDq izMwdlE EaDzE qdl xDaD tyzivjys dy, ENzE MzvDt qdl z t'MdaD mdtDa\n",
      "xHEy qdl MjtwmziE THE sddEq izMwdlT TaEzT qdl xEaE tyzivjys dy, THzT MzvEt qdl z t'MdaE mdtEa\n"
     ]
    }
   ],
   "source": [
    "\n",
    "\n",
    "print(try_word(quote, cipher, 'qdl', 'THE'))\n",
    "print(try_word(quote, cipher, 'qdl', 'FOR'))\n",
    "print(try_word(quote, cipher, 'ego', 'WAS'))\n",
    "print(try_word(quote, cipher, 'ego', 'HER'))\n",
    "print(try_word(quote, cipher, 'ego', 'END'))\n",
    "print(try_word(quote, cipher, 'ego', 'THE'))\n",
    "\n"
   ]
  },
  {
   "cell_type": "code",
   "execution_count": 12,
   "metadata": {},
   "outputs": [
    {
     "data": {
      "text/plain": [
       "\"WHEN YOU MISPLACE THE GOOEY CAMPOUT TREAT YOU WERE SNACKING ON, THAT MAKES YOU A S'MORE LOSER\""
      ]
     },
     "execution_count": 12,
     "metadata": {},
     "output_type": "execute_result"
    }
   ],
   "source": [
    "#try_words(quote, cipher, ['ego', 'THE'])\n",
    "try_word(quote, cipher2, 'egovtamxyijswdlq', 'THEKSRLWNCIGPOUY')"
   ]
  },
  {
   "cell_type": "markdown",
   "metadata": {},
   "source": [
    "## Wed 1/2/19"
   ]
  },
  {
   "cell_type": "code",
   "execution_count": 13,
   "metadata": {},
   "outputs": [
    {
     "name": "stdout",
     "output_type": "stream",
     "text": [
      "Counter({' ': 17, 'r': 10, 'x': 7, 'z': 7, 'y': 6, 'u': 6, 'w': 5, 'b': 4, 'l': 4, 'k': 3, 'f': 3, 'h': 3, 'q': 3, 'c': 3, 'p': 3, 'v': 2, 'i': 2, 'd': 2, ',': 1, '?': 1})\n"
     ]
    },
    {
     "data": {
      "text/plain": [
       "'bv x kxLr kwyxl wy iwufry hryr qbfqLl yrvburc xuc kxuuryLl, hqxp hwdLc lwd ixLL bp? frup rrL'"
      ]
     },
     "execution_count": 13,
     "metadata": {},
     "output_type": "execute_result"
    }
   ],
   "source": [
    "\n",
    "quote = 'bv x kxzr kwyxl wy iwufry hryr qbfqzl yrvburc xuc kxuuryzl, hqxp hwdzc lwd ixzz bp? frup rrz'\n",
    "cipher = {'z': 'L'}\n",
    "counts = Counter(quote)\n",
    "# this is a dict, keys are the letters, values are the counts\n",
    "#print(sorted(counts, key=counts.get, reverse=True))\n",
    "print(counts)\n",
    "apply_cipher(quote, cipher)"
   ]
  },
  {
   "cell_type": "code",
   "execution_count": 14,
   "metadata": {},
   "outputs": [
    {
     "name": "stdout",
     "output_type": "stream",
     "text": [
      "bO A kALE kORAl OR iOSfER HERE qbfqLl REObSEP ASP kASSERLl, HqAp HOdLP lOd iALL bp? fESp EEL\n",
      "bv A GALE GwyAl wy iwufEy hEyE qbfqLl yEvbuEc Auc GAuuEyLl, hqAp hwdLc lwd iALL bp? fEup EEL\n",
      "bv A MALE MwyAl wy iwufEy hEyE qbfqLl yEvbuEc Auc MAuuEyLl, hqAp hwdLc lwd iALL bp? fEup EEL\n",
      "bv A PALE PwyAl wy iwufEy hEyE qbfqLl yEvbuEc Auc PAuuEyLl, hqAp hwdLc lwd iALL bp? fEup EEL\n",
      "bv A TALE TwyAl wy iwufEy hEyE qbfqLl yEvbuEc Auc TAuuEyLl, hqAp hwdLc lwd iALL bp? fEup EEL\n",
      "bv A SALE SwyAl wy iwufEy hEyE qbfqLl yEvbuEc Auc SAuuEyLl, hqAp hwdLc lwd iALL bp? fEup EEL\n",
      "bv A YALE YwyAl wy iwufEy hEyE qbfqLl yEvbuEc Auc YAuuEyLl, hqAp hwdLc lwd iALL bp? fEup EEL\n"
     ]
    }
   ],
   "source": [
    "print(try_word(quote, cipher, 'wrxyuvhc', 'OEARSOHP'))\n",
    "print(try_word(quote, cipher, 'rxk', 'EAG'))\n",
    "print(try_word(quote, cipher, 'rxk', 'EAM'))\n",
    "print(try_word(quote, cipher, 'rxk', 'EAP'))\n",
    "print(try_word(quote, cipher, 'rxk', 'EAT'))\n",
    "print(try_word(quote, cipher, 'rxk', 'EAS'))\n",
    "print(try_word(quote, cipher, 'rxk', 'EAY'))"
   ]
  },
  {
   "cell_type": "code",
   "execution_count": 15,
   "metadata": {},
   "outputs": [
    {
     "name": "stdout",
     "output_type": "stream",
     "text": [
      "bv I FILE FwyIl wy BwufEy hEyE qbfqLl yEvbuEc Iuc FIuuEyLl, hqIp hwdLc lwd BILL bp? fEup EEL\n",
      "bv I MILE MwyIl wy FwufEy hEyE qbfqLl yEvbuEc Iuc MIuuEyLl, hqIp hwdLc lwd FILL bp? fEup EEL\n",
      "bv I PILE PwyIl wy KwufEy hEyE qbfqLl yEvbuEc Iuc PIuuEyLl, hqIp hwdLc lwd KILL bp? fEup EEL\n"
     ]
    }
   ],
   "source": [
    "print(try_word(quote, cipher, 'rxik', 'EIBF'))\n",
    "print(try_word(quote, cipher, 'rxik', 'EIFM'))\n",
    "print(try_word(quote, cipher, 'rxik', 'EIKP'))\n"
   ]
  },
  {
   "cell_type": "code",
   "execution_count": 16,
   "metadata": {},
   "outputs": [
    {
     "name": "stdout",
     "output_type": "stream",
     "text": [
      "bv x kxLE kTOxl TO iTufEO hEOE qbfqLl OEvbuEc xuc kxuuEOLl, hqxp hTdLc lTd ixLL bp? fEup EEL\n",
      "bv I kILE kATIl AT iAufET hETE qbfqLl TEvbuEc Iuc kIuuETLl, hqIp hAdLc lAd iILL bp? fEup EEL\n",
      "bv I kILE kASIl AS iAufES hESE qbfqLl SEvbuEc Iuc kIuuESLl, hqIp hAdLc lAd iILL bp? fEup EEL\n",
      "bv A kALE kISAl IS iIufES hESE qbfqLl SEvbuEc Auc kAuuESLl, hqAp hIdLc lId iALL bp? fEup EEL\n"
     ]
    }
   ],
   "source": [
    "print(try_word(quote, cipher, 'rwy', 'ETO'))\n",
    "print(try_word(quote, cipher, 'rwyx', 'EATI'))\n",
    "print(try_word(quote, cipher, 'rwyx', 'EASI'))\n",
    "print(try_word(quote, cipher, 'rwyx', 'EISA'))"
   ]
  },
  {
   "cell_type": "code",
   "execution_count": 17,
   "metadata": {},
   "outputs": [
    {
     "name": "stdout",
     "output_type": "stream",
     "text": [
      "IF A MALE MORAY OR CONGER WERE HIGHLY REFINED AND MANNERLY, WHAT WOULD YOU CALL IT? GENT EEL\n"
     ]
    }
   ],
   "source": [
    "print(try_word(quote, cipher, 'rbxvphqywdcliufk', 'EIAFTWHROUDYCNGM'))\n"
   ]
  },
  {
   "cell_type": "markdown",
   "metadata": {},
   "source": [
    "## 1/3/19\n",
    "\n",
    "B equals P\n"
   ]
  },
  {
   "cell_type": "code",
   "execution_count": 30,
   "metadata": {},
   "outputs": [
    {
     "name": "stdout",
     "output_type": "stream",
     "text": [
      "Counter({'w': 10, 'b': 9, 'd': 7, 'o': 7, 'a': 7, 'j': 5, 'r': 5, 'v': 4, 't': 3, 'x': 3, 'u': 3, 'p': 2, 'i': 2, 'k': 2, 'h': 2, 'g': 2, 'n': 2})\n"
     ]
    }
   ],
   "source": [
    "quote = 'pjd bwoi bwdpjdrotkwa, h bdwaxrw rotg bohn abjdva buogwda kjxun voiw bdj-vwor axbbuwrwtva.'\n",
    "print(freq_cnt(quote))"
   ]
  },
  {
   "cell_type": "code",
   "execution_count": 31,
   "metadata": {},
   "outputs": [
    {
     "name": "stdout",
     "output_type": "stream",
     "text": [
      "pjd Pwoi Pwdpjdrotkwa, A Pdwaxrw rotg PoAn aPjdva Puogwda kjxun voiw Pdj-vwor axPPuwrwtva.\n",
      "pjd Pwoi Pwdpjdrotkwa, I Pdwaxrw rotg PoIn aPjdva Puogwda kjxun voiw Pdj-vwor axPPuwrwtva.\n"
     ]
    }
   ],
   "source": [
    "cipher = {'b': 'P'}\n",
    "print(try_word(quote, cipher, 'h', 'A'))\n",
    "print(try_word(quote, cipher, 'h', 'I'))"
   ]
  },
  {
   "cell_type": "code",
   "execution_count": 33,
   "metadata": {},
   "outputs": [
    {
     "name": "stdout",
     "output_type": "stream",
     "text": [
      "pjd PSoi PSdpjdrotkSa, I PdSaxrS rotg PoIn aPjdva PuogSda kjxun voiS Pdj-vSor axPPuSrStva.\n",
      "pjd PToi PTdpjdrotkTa, I PdTaxrT rotg PoIn aPjdva PuogTda kjxun voiT Pdj-vTor axPPuTrTtva.\n",
      "pjd PEoi PEdpjdrotkEa, I PdEaxrE rotg PoIn aPjdva PuogEda kjxun voiE Pdj-vEor axPPuErEtva.\n",
      "pjd PRoi PRdpjdrotkRa, I PdRaxrR rotg PoIn aPjdva PuogRda kjxun voiR Pdj-vRor axPPuRrRtva.\n"
     ]
    }
   ],
   "source": [
    "print(try_word(quote, cipher, 'hw', 'IS'))\n",
    "print(try_word(quote, cipher, 'hw', 'IT'))\n",
    "print(try_word(quote, cipher, 'hw', 'IE'))\n",
    "print(try_word(quote, cipher, 'hw', 'IR'))"
   ]
  },
  {
   "cell_type": "code",
   "execution_count": 38,
   "metadata": {},
   "outputs": [
    {
     "name": "stdout",
     "output_type": "stream",
     "text": [
      "THE PRoi PRETHErotkRS, I PERSUrR rotg PoIn SPHEvS POogRES kHUOn voiR PEH-vRor SUPPORrRtvS.\n"
     ]
    }
   ],
   "source": [
    "print(try_word(quote, cipher, 'hpjdaxuw', 'ITHESUOR'))"
   ]
  },
  {
   "cell_type": "code",
   "execution_count": 42,
   "metadata": {},
   "outputs": [
    {
     "name": "stdout",
     "output_type": "stream",
     "text": [
      "pjd PwEi PwdpjdrEtkwa, A Pdwaxrw rEtg PEAK aPjdva PuEgwda kjxuK vEiw Pdj-vwEr axPPuwrwtva.\n",
      "pjd PwEi PwdpjdrEtkwa, A Pdwaxrw rEtg PEAL aPjdva PuEgwda kjxuL vEiw Pdj-vwEr axPPuwrwtva.\n",
      "pjd PwEi PwdpjdrEtkwa, A Pdwaxrw rEtg PEAN aPjdva PuEgwda kjxuN vEiw Pdj-vwEr axPPuwrwtva.\n",
      "pjd PwEi PwdpjdrEtkwa, A Pdwaxrw rEtg PEAR aPjdva PuEgwda kjxuR vEiw Pdj-vwEr axPPuwrwtva.\n",
      "pjd PwEi PwdpjdrEtkwa, A Pdwaxrw rEtg PEAS aPjdva PuEgwda kjxuS vEiw Pdj-vwEr axPPuwrwtva.\n",
      "pjd PwEi PwdpjdrEtkwa, A Pdwaxrw rEtg PEAT aPjdva PuEgwda kjxuT vEiw Pdj-vwEr axPPuwrwtva.\n",
      "pjd PwLi PwdpjdrLtkwa, A Pdwaxrw rLtg PLAN aPjdva PuLgwda kjxuN vLiw Pdj-vwLr axPPuwrwtva.\n",
      "pjd PwLi PwdpjdrLtkwa, A Pdwaxrw rLtg PLAY aPjdva PuLgwda kjxuY vLiw Pdj-vwLr axPPuwrwtva.\n",
      "pjd PwLi PwdpjdrLtkwa, A Pdwaxrw rLtg PLAT aPjdva PuLgwda kjxuT vLiw Pdj-vwLr axPPuwrwtva.\n"
     ]
    }
   ],
   "source": [
    "print(try_word(quote, cipher, 'ohn', 'EAK'))\n",
    "print(try_word(quote, cipher, 'ohn', 'EAL'))\n",
    "print(try_word(quote, cipher, 'ohn', 'EAN'))\n",
    "print(try_word(quote, cipher, 'ohn', 'EAR'))\n",
    "print(try_word(quote, cipher, 'ohn', 'EAS'))\n",
    "print(try_word(quote, cipher, 'ohn', 'EAT'))\n",
    "print(try_word(quote, cipher, 'ohn', 'LAN'))\n",
    "print(try_word(quote, cipher, 'ohn', 'LAY'))\n",
    "print(try_word(quote, cipher, 'ohn', 'LAT'))\n"
   ]
  },
  {
   "cell_type": "code",
   "execution_count": 45,
   "metadata": {},
   "outputs": [
    {
     "name": "stdout",
     "output_type": "stream",
     "text": [
      "pjd PwAi PwdpjdrAtkwa, I Pdwaxrw rAtg PAID aPjdva PuAgwda kjxuD vAiw Pdj-vwAr axPPuwrwtva.\n",
      "pjd PwAi PwdpjdrAtkwa, I Pdwaxrw rAtg PAIK aPjdva PuAgwda kjxuK vAiw Pdj-vwAr axPPuwrwtva.\n",
      "pjd PwAi PwdpjdrAtkwa, I Pdwaxrw rAtg PAIL aPjdva PuAgwda kjxuL vAiw Pdj-vwAr axPPuwrwtva.\n",
      "pjd PwAi PwdpjdrAtkwa, I Pdwaxrw rAtg PAIN aPjdva PuAgwda kjxuN vAiw Pdj-vwAr axPPuwrwtva.\n",
      "pjd PwAi PwdpjdrAtkwa, I Pdwaxrw rAtg PAIR aPjdva PuAgwda kjxuR vAiw Pdj-vwAr axPPuwrwtva.\n"
     ]
    }
   ],
   "source": [
    "print(try_word(quote, cipher, 'ohn', 'AID'))\n",
    "print(try_word(quote, cipher, 'ohn', 'AIK'))\n",
    "print(try_word(quote, cipher, 'ohn', 'AIL'))\n",
    "print(try_word(quote, cipher, 'ohn', 'AIN'))\n",
    "print(try_word(quote, cipher, 'ohn', 'AIR'))\n"
   ]
  },
  {
   "cell_type": "code",
   "execution_count": 44,
   "metadata": {},
   "outputs": [
    {
     "name": "stdout",
     "output_type": "stream",
     "text": [
      "pjd PEAK PEdpjdrAtkEa, I PdEaxrE rAtg PAID aPjdva PuAgEda kjxuD vAKE Pdj-vEAr axPPuErEtva.\n",
      "pjd PEAL PEdpjdrAtkEa, I PdEaxrE rAtg PAID aPjdva PuAgEda kjxuD vALE Pdj-vEAr axPPuErEtva.\n",
      "pjd PEAN PEdpjdrAtkEa, I PdEaxrE rAtg PAID aPjdva PuAgEda kjxuD vANE Pdj-vEAr axPPuErEtva.\n",
      "pjd PEAR PEdpjdrAtkEa, I PdEaxrE rAtg PAID aPjdva PuAgEda kjxuD vARE Pdj-vEAr axPPuErEtva.\n",
      "pjd PEAS PEdpjdrAtkEa, I PdEaxrE rAtg PAID aPjdva PuAgEda kjxuD vASE Pdj-vEAr axPPuErEtva.\n",
      "pjd PEAT PEdpjdrAtkEa, I PdEaxrE rAtg PAID aPjdva PuAgEda kjxuD vATE Pdj-vEAr axPPuErEtva.\n",
      "pjd PLAN PLdpjdrAtkLa, I PdLaxrL rAtg PAID aPjdva PuAgLda kjxuD vANL Pdj-vLAr axPPuLrLtva.\n",
      "pjd PLAY PLdpjdrAtkLa, I PdLaxrL rAtg PAID aPjdva PuAgLda kjxuD vAYL Pdj-vLAr axPPuLrLtva.\n",
      "pjd PLAT PLdpjdrAtkLa, I PdLaxrL rAtg PAID aPjdva PuAgLda kjxuD vATL Pdj-vLAr axPPuLrLtva.\n"
     ]
    }
   ],
   "source": [
    "print(try_word(quote, cipher, 'ohnwi', 'AIDEK'))\n",
    "print(try_word(quote, cipher, 'ohnwi', 'AIDEL'))\n",
    "print(try_word(quote, cipher, 'ohnwi', 'AIDEN'))\n",
    "print(try_word(quote, cipher, 'ohnwi', 'AIDER'))\n",
    "print(try_word(quote, cipher, 'ohnwi', 'AIDES'))\n",
    "print(try_word(quote, cipher, 'ohnwi', 'AIDET'))\n",
    "print(try_word(quote, cipher, 'ohnwi', 'AIDLN'))\n",
    "print(try_word(quote, cipher, 'ohnwi', 'AIDLY'))\n",
    "print(try_word(quote, cipher, 'ohnwi', 'AIDLT'))\n"
   ]
  },
  {
   "cell_type": "code",
   "execution_count": 46,
   "metadata": {},
   "outputs": [
    {
     "name": "stdout",
     "output_type": "stream",
     "text": [
      "pjd PEAK PEdpjdrAtkEa, I PdEaxrE rAtg PAIR aPjdva PuAgEda kjxuR vAKE Pdj-vEAr axPPuErEtva.\n",
      "pjd PEAL PEdpjdrAtkEa, I PdEaxrE rAtg PAIR aPjdva PuAgEda kjxuR vALE Pdj-vEAr axPPuErEtva.\n",
      "pjd PEAN PEdpjdrAtkEa, I PdEaxrE rAtg PAIR aPjdva PuAgEda kjxuR vANE Pdj-vEAr axPPuErEtva.\n",
      "pjd PEAS PEdpjdrAtkEa, I PdEaxrE rAtg PAIR aPjdva PuAgEda kjxuR vASE Pdj-vEAr axPPuErEtva.\n",
      "pjd PEAT PEdpjdrAtkEa, I PdEaxrE rAtg PAIR aPjdva PuAgEda kjxuR vATE Pdj-vEAr axPPuErEtva.\n",
      "pjd PLAN PLdpjdrAtkLa, I PdLaxrL rAtg PAIR aPjdva PuAgLda kjxuR vANL Pdj-vLAr axPPuLrLtva.\n",
      "pjd PLAY PLdpjdrAtkLa, I PdLaxrL rAtg PAIR aPjdva PuAgLda kjxuR vAYL Pdj-vLAr axPPuLrLtva.\n",
      "pjd PLAT PLdpjdrAtkLa, I PdLaxrL rAtg PAIR aPjdva PuAgLda kjxuR vATL Pdj-vLAr axPPuLrLtva.\n"
     ]
    }
   ],
   "source": [
    "print(try_word(quote, cipher, 'ohnwi', 'AIREK'))\n",
    "print(try_word(quote, cipher, 'ohnwi', 'AIREL'))\n",
    "print(try_word(quote, cipher, 'ohnwi', 'AIREN'))\n",
    "print(try_word(quote, cipher, 'ohnwi', 'AIRES'))\n",
    "print(try_word(quote, cipher, 'ohnwi', 'AIRET'))\n",
    "print(try_word(quote, cipher, 'ohnwi', 'AIRLN'))\n",
    "print(try_word(quote, cipher, 'ohnwi', 'AIRLY'))\n",
    "print(try_word(quote, cipher, 'ohnwi', 'AIRLT'))"
   ]
  },
  {
   "cell_type": "code",
   "execution_count": 72,
   "metadata": {},
   "outputs": [
    {
     "name": "stdout",
     "output_type": "stream",
     "text": [
      "pjd PAoi PAdpjdrotkAa, h PdAaxrA rotg Pohn aPjdva PuogAda kjxun voiA Pdj-vAor axPPuArAtva.\n",
      "pjd PACT PAdpjdrCtkAa, h PdAaxrA rCtg PChn aPjdva PuCgAda kjxun vCTA Pdj-vACr axPPuArAtva.\n",
      "pjd PAID PAdpjdrItkAa, h PdAaxrA rItg PIhn aPjdva PuIgAda kjxun vIDA Pdj-vAIr axPPuArAtva.\n",
      "pjd PAIK PAdpjdrItkAa, h PdAaxrA rItg PIhn aPjdva PuIgAda kjxun vIKA Pdj-vAIr axPPuArAtva.\n",
      "pjd PAIL PAdpjdrItkAa, h PdAaxrA rItg PIhn aPjdva PuIgAda kjxun vILA Pdj-vAIr axPPuArAtva.\n",
      "pjd PAIN PAdpjdrItkAa, h PdAaxrA rItg PIhn aPjdva PuIgAda kjxun vINA Pdj-vAIr axPPuArAtva.\n",
      "pjd PAIR PAdpjdrItkAa, h PdAaxrA rItg PIhn aPjdva PuIgAda kjxun vIRA Pdj-vAIr axPPuArAtva.\n",
      "pjd PAIS PAdpjdrItkAa, h PdAaxrA rItg PIhn aPjdva PuIgAda kjxun vISA Pdj-vAIr axPPuArAtva.\n",
      "pjd PALE PAdpjdrLtkAa, h PdAaxrA rLtg PLhn aPjdva PuLgAda kjxun vLEA Pdj-vALr axPPuArAtva.\n",
      "pjd PALM PAdpjdrLtkAa, h PdAaxrA rLtg PLhn aPjdva PuLgAda kjxun vLMA Pdj-vALr axPPuArAtva.\n",
      "pjd PALS PAdpjdrLtkAa, h PdAaxrA rLtg PLhn aPjdva PuLgAda kjxun vLSA Pdj-vALr axPPuArAtva.\n",
      "pjd PALY PAdpjdrLtkAa, h PdAaxrA rLtg PLhn aPjdva PuLgAda kjxun vLYA Pdj-vALr axPPuArAtva.\n"
     ]
    }
   ],
   "source": [
    "# lets work on that really long one that starts with a P\n",
    "# print(try_word(quote, cipher, 'dw', 'EL')) # this is NOT correct\n",
    "# w is an AEHILNORSTUY\n",
    "# 4 letter word start with P\n",
    "# w is AEFHILORSTUY\n",
    "# 7 letter starting with P\n",
    "# w is AEFHILNORSTUYZ\n",
    "#  intersection is   AEHILORSTUY\n",
    "\n",
    "\n",
    "# Assume A\n",
    "#  now a 4 letter word start with PA, and a 12 letter starting with PA\n",
    "print(try_word(quote, cipher, 'w', 'A')) \n",
    "# 4 letter words starting with PA\n",
    "#   oi could be CE CK CO CS CT CY DI DS GE HS ID IK IL IN IR IS\n",
    "#               LE LM LS LY MS ND NE NG NS NT RD RE RK RS RT SE SH\n",
    "#               ST TE TH TS TU TY VE VS WK WL WN WS or YS\n",
    "#print(try_word(quote, cipher, 'woi', 'ACE')) #no\n",
    "#print(try_word(quote, cipher, 'woi', 'ACK')) #no\n",
    "#print(try_word(quote, cipher, 'woi', 'ACO')) #no\n",
    "#print(try_word(quote, cipher, 'woi', 'ACS')) #no\n",
    "print(try_word(quote, cipher, 'woi', 'ACT')) # v is A or O\n",
    "#print(try_word(quote, cipher, 'woi', 'ACY')) #no\n",
    "#print(try_word(quote, cipher, 'woi', 'ADI')) #no\n",
    "#print(try_word(quote, cipher, 'woi', 'ADS')) # no\n",
    "#print(try_word(quote, cipher, 'woi', 'AGE')) # no\n",
    "#print(try_word(quote, cipher, 'woi', 'AHS')) # no\n",
    "print(try_word(quote, cipher, 'woi', 'AID')) # v is S\n",
    "print(try_word(quote, cipher, 'woi', 'AIK')) # v is D, S, T\n",
    "print(try_word(quote, cipher, 'woi', 'AIL')) # v is G, M, N, T\n",
    "print(try_word(quote, cipher, 'woi', 'AIN')) # v is E, K, M, V\n",
    "print(try_word(quote, cipher, 'woi', 'AIR')) # v is L\n",
    "print(try_word(quote, cipher, 'woi', 'AIS'))\n",
    "print(try_word(quote, cipher, 'woi', 'ALE'))\n",
    "print(try_word(quote, cipher, 'woi', 'ALM'))\n",
    "print(try_word(quote, cipher, 'woi', 'ALS'))\n",
    "print(try_word(quote, cipher, 'woi', 'ALY'))\n",
    "#  whew  this is taking forever!"
   ]
  },
  {
   "cell_type": "markdown",
   "metadata": {},
   "source": [
    " lets look at the last word,  11 letter words wih PP in 3/4 position\n",
    " should NOT have an A and an I in it.   \n",
    " shoudl start end end with same letter\n",
    "\n",
    "\n",
    "CAPPELLETTI, CAPPERNOITY, CAPPUCCINOS, CLAPPERBOYS, CLAPPERCLAW, CLAPPERINGS, COAPPEARING \n",
    "COPPERHEADS COPPERPLATE COPPERSKINS COPPERSMITH COPPERWORKS COPPERWORMS\n",
    "CRIPPLEDOMS CRIPPLEWARE CRIPPLINGLY DAPPERLINGS DEOPPILATED DEOPPILATES DIPPINESSES \n",
    "DOPPLERITES DROPPERFULS DROPPERSFUL FLAPPERHOOD FLIPFLOPPED FLIPPANCIES FOPPISHNESS \n",
    "HIPPEASTRUM HIPPIATRICS HIPPIATRIES HIPPIATRIST HIPPINESSES HIPPOCAMPAL HIPPOCAMPUS\n",
    "HIPPOCRASES HIPPODAMIST HIPPODAMOUS HIPPODROMES HIPPODROMIC HIPPOGRIFFS HIPPOGRYPHS \n",
    "HIPPOLOGIES HIPPOLOGIST HIPPOPHILES HIPPOPHOBES HIPPOPOTAMI\n",
    " INAPPETENCE INAPPETENCY INOPPORTUNE LIPPINESSES NAPPINESSES NIPPINESSES NIPPLEWORTS \n",
    "    PEPPERBOXES PEPPERCORNS PEPPERCORNY PEPPERGRASS PEPPERIDGES PEPPERINESS PEPPERMILLS \n",
    "    PEPPERMINTS PEPPERMINTY PEPPERTREES PEPPERWORTS PEPPINESSES \n",
    "    PUPPETEERED \n",
    "     RAPPELLINGS RAPPORTAGES RAPPORTEURS\n",
    "         REAPPEARING REAPPOINTED REAPPORTION REAPPRAISAL REAPPRAISED \n",
    "            REAPPRAISER \n",
    "            REAPPRAISES REAPPROVING\n",
    "            SAPPANWOODS \n",
    "            SAPPHIRINES\n",
    "            SAPPINESSES            \n",
    "            SCUPPERNONG SHIPLAPPING \n",
    "            SKIPPERINGS SLAPHAPPIER\n",
    "            SLIPPERIEST SLIPPERWORT\n",
    "            SNIPPETIEST \n",
    "            SOPPINESSES \n",
    "            STEPPARENTS \n",
    "                        SUPPEDANEUM \n",
    "            SUPPERTIMES \n",
    "            SUPPLANTERS \n",
    "            SUPPLANTING SUPPLEJACKS SUPPLEMENTS SUPPLETIONS SUPPLETIVES SUPPLIANCES SUPPLIANTLY SUPPLICANTS SUPPLICATED SUPPLICATES SUPPLICAVIT SUPPLYMENTS SUPPORTABLE SUPPORTABLY SUPPORTANCE SUPPORTINGS SUPPORTLESS SUPPORTMENT SUPPORTRESS SUPPORTURES SUPPOSITION SUPPOSITIVE SUPPOSITORY SUPPRESSANT SUPPRESSERS SUPPRESSING SUPPRESSION SUPPRESSIVE SUPPRESSORS SUPPURATING SUPPURATION SUPPURATIVE\n",
    "            TIPPYTOEING \n",
    "            UNAPPEALING UNAPPOINTED UNAPPROVING \n",
    "            WAPPENSCHAW WAPPENSHAWS\n",
    "            WHIPPETINGS WHIPPLETREE"
   ]
  },
  {
   "cell_type": "code",
   "execution_count": 75,
   "metadata": {},
   "outputs": [
    {
     "name": "stdout",
     "output_type": "stream",
     "text": [
      "pjd Pwoi PwdpjdrotkwS, h PdwSUrw rotg Pohn SPjdvS PuogwdS kjUun voiw Pdj-vwor SUPPuwrwtvS.\n",
      "pAd Pwoi PwdpAdrotkwS, I PdwSUrw rotg PoIn SPAdvS PuogwdS kAUun voiw PdA-vwor SUPPuwrwtvS.\n",
      "pjd Pwoi PwdpjdrotkwS, h PdwSUrw rotg Pohn SPjdvS PuogwdS kjUun voiw Pdj-vwor SUPPuwrwtvS.\n"
     ]
    }
   ],
   "source": [
    "# pretty sure that a is S (could be R)\n",
    "print(try_word(quote, cipher, 'ax', 'SU'))\n",
    "print(try_word(quote, cipher, 'axjh', 'SUAI'))\n",
    "print(try_word(quote, cipher, 'ax', 'SU'))"
   ]
  },
  {
   "cell_type": "markdown",
   "metadata": {},
   "source": [
    "Friday Jan 11, 2019\n",
    "\n",
    "yzwa wkwbiuxoi fbxqao ixq ge ygdo fuxqp ugr ufao lqegj, ixq lgrzp uw dgkgar ga f eygar epfpw."
   ]
  },
  {
   "cell_type": "code",
   "execution_count": 2,
   "metadata": {},
   "outputs": [
    {
     "name": "stdout",
     "output_type": "stream",
     "text": [
      "WHAT AkAbiuxoi fbxqTo ixq ge Wgdo fuxqp ugr ufTo lqegj, ixq lgrHp uA dgkgTr gT f eWgTr epfpA.\n"
     ]
    }
   ],
   "source": [
    "quote = 'yzwa wkwbiuxoi fbxqao ixq ge ygdo fuxqp ugr ufao lqegj, ixq lgrzp uw dgkgar ga f eygar epfpw.'\n",
    "cipher = { 'y': 'W' }\n",
    "print(try_word(quote, cipher, 'zwa', 'HAT'))"
   ]
  },
  {
   "cell_type": "code",
   "execution_count": 3,
   "metadata": {},
   "outputs": [
    {
     "name": "stdout",
     "output_type": "stream",
     "text": [
      "WHAT AkAbiuxoi IbxqTo ixq ge Wgdo Iuxqp ugr uITo lqegj, ixq lgrHp uA dgkgTr gT I eWgTr epIpA.\n"
     ]
    }
   ],
   "source": [
    "print(try_word(quote, cipher, 'zwaf', 'HATI'))"
   ]
  },
  {
   "cell_type": "code",
   "execution_count": 5,
   "metadata": {},
   "outputs": [
    {
     "name": "stdout",
     "output_type": "stream",
     "text": [
      "WHEN EkEbiuxoi fbxqNo ixq ge Wgdo fuxqp ugr ufNo lqegj, ixq lgrHp uE dgkgNr gN f eWgNr epfpE.\n"
     ]
    }
   ],
   "source": [
    "# not sure WHAT is the first word, can't think of (4th from end) anything that is *T   not using A or I\n",
    "print(try_word(quote, cipher, 'zwa', 'HEN'))  "
   ]
  },
  {
   "cell_type": "code",
   "execution_count": 6,
   "metadata": {},
   "outputs": [
    {
     "name": "stdout",
     "output_type": "stream",
     "text": [
      "WHEN EkEbiuxoi AbxqNo ixq ge Wgdo Auxqp ugr uANo lqegj, ixq lgrHp uE dgkgNr gN A eWgNr epApE.\n",
      "WHEN EkEbiuxoi IbxqNo ixq ge Wgdo Iuxqp ugr uINo lqegj, ixq lgrHp uE dgkgNr gN I eWgNr epIpE.\n"
     ]
    }
   ],
   "source": [
    "print(try_word(quote, cipher, 'zwaf', 'HENA'))  \n",
    "print(try_word(quote, cipher, 'zwaf', 'HENI'))  "
   ]
  },
  {
   "cell_type": "code",
   "execution_count": 8,
   "metadata": {},
   "outputs": [
    {
     "name": "stdout",
     "output_type": "stream",
     "text": [
      "WHEN EVERYBODY fROqND YOq ge WgdD fBOqp Bgr BfND lqegj, YOq lgrHp BE dgVgNr gN f eWgNr epfpE.\n"
     ]
    }
   ],
   "source": [
    "print(try_word(quote, cipher, 'zwakbiuxo', 'HENVRYBOD'))"
   ]
  },
  {
   "cell_type": "code",
   "execution_count": 9,
   "metadata": {},
   "outputs": [
    {
     "name": "stdout",
     "output_type": "stream",
     "text": [
      "WHEN EVERYBODY fROUND YOU ge WgdD fBOUp Bgr BfND lUegj, YOU lgrHp BE dgVgNr gN f eWgNr epfpE.\n"
     ]
    }
   ],
   "source": [
    "print(try_word(quote, cipher, 'zwakbiuxoq', 'HENVRYBODU'))"
   ]
  },
  {
   "cell_type": "code",
   "execution_count": 11,
   "metadata": {},
   "outputs": [
    {
     "name": "stdout",
     "output_type": "stream",
     "text": [
      "WHEN EVERYBODY AROUND YOU ge WgdD ABOUp Bgr BAND lUegj, YOU lgrHp BE dgVgNr gN A eWgNr epApE.\n"
     ]
    }
   ],
   "source": [
    "print(try_word(quote, cipher, 'zwakbiuxoqf', 'HENVRYBODUA'))"
   ]
  },
  {
   "cell_type": "code",
   "execution_count": 12,
   "metadata": {},
   "outputs": [
    {
     "name": "stdout",
     "output_type": "stream",
     "text": [
      "WHEN EVERYBODY AROUND YOU ge WgdD ABOUT Bgr BAND lUegj, YOU lgrHT BE dgVgNr gN A eWgNr eTATE.\n"
     ]
    }
   ],
   "source": [
    "print(try_word(quote, cipher, 'zwakbiuxoqfp', 'HENVRYBODUAT'))"
   ]
  },
  {
   "cell_type": "code",
   "execution_count": 13,
   "metadata": {},
   "outputs": [
    {
     "name": "stdout",
     "output_type": "stream",
     "text": [
      "WHEN EVERYBODY AROUND YOU gS WgdD ABOUT Bgr BAND lUSgj, YOU lgrHT BE dgVgNr gN A SWgNr STATE.\n"
     ]
    }
   ],
   "source": [
    "print(try_word(quote, cipher, 'zwakbiuxoqfpe', 'HENVRYBODUATS'))"
   ]
  },
  {
   "cell_type": "code",
   "execution_count": 14,
   "metadata": {},
   "outputs": [
    {
     "name": "stdout",
     "output_type": "stream",
     "text": [
      "WHEN EVERYBODY AROUND YOU Ie WIdD ABOUT BIr BAND lUeIj, YOU lIrHT BE dIVINr IN A eWINr eTATE.\n"
     ]
    }
   ],
   "source": [
    "print(try_word(quote, cipher, 'zwakbiuxoqfpg', 'HENVRYBODUATI'))"
   ]
  },
  {
   "cell_type": "code",
   "execution_count": 15,
   "metadata": {},
   "outputs": [
    {
     "name": "stdout",
     "output_type": "stream",
     "text": [
      "WHEN EVERYBODY AROUND YOU gS WgLD ABOUT BgG BAND lUSgj, YOU lgGHT BE LgVgNG gN A SWgNG STATE.\n"
     ]
    }
   ],
   "source": [
    "print(try_word(quote, cipher, 'zwakbiuxoqfpdre', 'HENVRYBODUATLGS'))"
   ]
  },
  {
   "cell_type": "code",
   "execution_count": 16,
   "metadata": {},
   "outputs": [
    {
     "name": "stdout",
     "output_type": "stream",
     "text": [
      "WHEN EVERYBODY AROUND YOU IS WILD ABOUT BIG BAND MUSIC, YOU MIGHT BE LIVING IN A SWING STATE.\n"
     ]
    }
   ],
   "source": [
    "print(try_word(quote, cipher, 'zwakbiuxoqfpdreglj', 'HENVRYBODUATLGSIMC'))"
   ]
  },
  {
   "cell_type": "markdown",
   "metadata": {},
   "source": [
    "## 1/16/19\n",
    "G equals V"
   ]
  },
  {
   "cell_type": "code",
   "execution_count": 21,
   "metadata": {},
   "outputs": [
    {
     "name": "stdout",
     "output_type": "stream",
     "text": [
      "Counter({'h': 14, 'q': 11, 'z': 7, 'u': 6, 'd': 5, 'y': 4, 'm': 4, 'x': 4, 'g': 3, 'r': 3, 'a': 3, 'i': 3, 'b': 2, 'c': 2, 'v': 2, 'p': 2, 's': 2})\n"
     ]
    }
   ],
   "source": [
    "quote = 'hb z ymhqghuc ghrrzhu uqqvd zu zvmqdhgq azyqxhzr, h hazchuq mhd bhxdy imphiq hd xpssqx iqaquy.'\n",
    "print(freq_cnt(quote))"
   ]
  },
  {
   "cell_type": "code",
   "execution_count": 23,
   "metadata": {},
   "outputs": [
    {
     "name": "stdout",
     "output_type": "stream",
     "text": [
      "Ab I ymAqVAuc VArrIAu uqqvd Iu IvmqdAVq aIyqxAIr, A AaIcAuq mAd bAxdy impAiq Ad xpssqx iqaquy.\n",
      "Ib A ymIqVIuc VIrrAIu uqqvd Au AvmqdIVq aAyqxIAr, I IaAcIuq mId bIxdy impIiq Id xpssqx iqaquy.\n"
     ]
    }
   ],
   "source": [
    "cipher = {'g': 'V'}\n",
    "print(try_word(quote, cipher, 'hz', 'AI'))\n",
    "print(try_word(quote, cipher, 'hz', 'IA'))"
   ]
  },
  {
   "cell_type": "code",
   "execution_count": 24,
   "metadata": {},
   "outputs": [
    {
     "name": "stdout",
     "output_type": "stream",
     "text": [
      "AS I ymAqVAuc VArrIAu uqqvd Iu IvmqdAVq aIyqxAIr, A AaIcAuq mAd SAxdy impAiq Ad xpssqx iqaquy.\n",
      "Ab I ymAqVAuc VASSIAu uqqvd Iu IvmqdAVq aIyqxAIS, A AaIcAuq mAd bAxdy impAiq Ad xpssqx iqaquy.\n"
     ]
    }
   ],
   "source": [
    "print(try_word(quote, cipher, 'hzb', 'AIS'))\n",
    "print(try_word(quote, cipher, 'hzr', 'AIS'))\n",
    "# I don't think it's AI"
   ]
  },
  {
   "cell_type": "code",
   "execution_count": 25,
   "metadata": {},
   "outputs": [
    {
     "name": "stdout",
     "output_type": "stream",
     "text": [
      "Ib A ymIqVINc VILLAIN Nqqvd AN AvmqdIVq aAyqxIAL, I IaAcINq mId bIxdy impIiq Id xpssqx iqaqNy.\n"
     ]
    }
   ],
   "source": [
    "print(try_word(quote, cipher, 'hzru', 'IALN'))"
   ]
  },
  {
   "cell_type": "code",
   "execution_count": 26,
   "metadata": {},
   "outputs": [
    {
     "name": "stdout",
     "output_type": "stream",
     "text": [
      "IF A ymIqVINc VILLAIN Nqqvd AN AvmqdIVq aAyqxIAL, I IaAcINq mId FIxdy impIiq Id xpssqx iqaqNy.\n",
      "IS A ymIqVINc VILLAIN Nqqvd AN AvmqdIVq aAyqxIAL, I IaAcINq mId SIxdy impIiq Id xpssqx iqaqNy.\n",
      "IN A ymIqVINc VILLAIN Nqqvd AN AvmqdIVq aAyqxIAL, I IaAcINq mId NIxdy impIiq Id xpssqx iqaqNy.\n"
     ]
    }
   ],
   "source": [
    "cipher = {'g': 'V', 'h': 'I', 'z': 'A', 'u': 'N', 'r': 'L'}\n",
    "print(try_word(quote, cipher, 'b', 'F'))\n",
    "print(try_word(quote, cipher, 'b', 'S'))\n",
    "print(try_word(quote, cipher, 'b', 'N'))"
   ]
  },
  {
   "cell_type": "code",
   "execution_count": 27,
   "metadata": {},
   "outputs": [
    {
     "name": "stdout",
     "output_type": "stream",
     "text": [
      "Ib A yHIEVINc VILLAIN NEEDS AN ADHESIVE aAyExIAL, I IaAcINE HIS bIxSy iHpIiE IS xpssEx iEaENy.\n"
     ]
    }
   ],
   "source": [
    "print(try_word(quote, cipher, 'qvdm', 'EDSH'))"
   ]
  },
  {
   "cell_type": "code",
   "execution_count": 28,
   "metadata": {},
   "outputs": [
    {
     "name": "stdout",
     "output_type": "stream",
     "text": [
      "IF A THIEVING VILLAIN NEEDS AN ADHESIVE aATExIAL, I IaAGINE HIS FIxST iHpIiE IS xpssEx iEaENT.\n"
     ]
    }
   ],
   "source": [
    "print(try_word(quote, cipher, 'qvdmbyc', 'EDSHFTG'))"
   ]
  },
  {
   "cell_type": "code",
   "execution_count": 30,
   "metadata": {},
   "outputs": [
    {
     "name": "stdout",
     "output_type": "stream",
     "text": [
      "IF A THIEVING VILLAIN NEEDS AN ADHESIVE MATERIAL, I IMAGINE HIS FIRST CHOICE IS ROBBER CEMENT.\n"
     ]
    }
   ],
   "source": [
    "print(try_word(quote, cipher, 'qvdmbycaxips', 'EDSHFTGMRCOB'))"
   ]
  },
  {
   "cell_type": "markdown",
   "metadata": {},
   "source": [
    "## 1/17 \n",
    "M equals W"
   ]
  },
  {
   "cell_type": "code",
   "execution_count": 71,
   "metadata": {},
   "outputs": [
    {
     "name": "stdout",
     "output_type": "stream",
     "text": [
      "Counter({'o': 9, 'y': 8, 'z': 7, 'v': 5, 'r': 5, 't': 4, 'h': 4, 'k': 4, 'x': 4, 'g': 3, 'l': 3, 'f': 3, 'm': 2, 'd': 2, 's': 2, 'n': 2, 'u': 2, 'a': 2, 'p': 2})\n"
     ]
    }
   ],
   "source": [
    "cipher = { 'm' : 'W' }\n",
    "quote = 'mdtz syhkx nyh stkk zdo myyx yg uyao xvrvrp ghlrvzhlo fovrp otzor fn zolavzou? ztfko gyyx.'\n",
    "print(freq_cnt(quote))"
   ]
  },
  {
   "cell_type": "code",
   "execution_count": 72,
   "metadata": {},
   "outputs": [
    {
     "name": "stdout",
     "output_type": "stream",
     "text": [
      "WHAT sOhkx nOh sAkk THo WOOx Og uOao xvrvrp ghlrvThlo fovrp oATor fn TolavTou? TAfko gOOx.\n",
      "WHEN sOhkx nOh sEkk NHo WOOx Og uOao xvrvrp ghlrvNhlo fovrp oENor fn NolavNou? NEfko gOOx.\n"
     ]
    }
   ],
   "source": [
    "print(try_word(quote, cipher, 'ydtz', 'OHAT'))\n",
    "print(try_word(quote, cipher, 'ydtz', 'OHEN'))"
   ]
  },
  {
   "cell_type": "code",
   "execution_count": 73,
   "metadata": {},
   "outputs": [
    {
     "name": "stdout",
     "output_type": "stream",
     "text": [
      "WHAT sOhkx nOh sAkk THE WOOx Og uOaE xvrvrp ghlrvThlE fEvrp EATEr fn TElavTEu? TAfkE gOOx.\n"
     ]
    }
   ],
   "source": [
    "print(try_word(quote, cipher, 'ydtzo', 'OHATE'))\n"
   ]
  },
  {
   "cell_type": "code",
   "execution_count": 74,
   "metadata": {},
   "outputs": [
    {
     "name": "stdout",
     "output_type": "stream",
     "text": [
      "WHAT sOhkx nOh sAkk THE WOOx Og uOaE xvRvRp ghlRvThlE fEvRp EATER fn TElavTEu? TAfkE gOOx.\n"
     ]
    }
   ],
   "source": [
    "print(try_word(quote, cipher, 'ydtzor', 'OHATER'))\n"
   ]
  },
  {
   "cell_type": "code",
   "execution_count": 75,
   "metadata": {},
   "outputs": [
    {
     "name": "stdout",
     "output_type": "stream",
     "text": [
      "WHAT sOhkD nOh sAkk THE WOOD OF uOaE DvRvRp FhlRvThlE fEvRp EATER fn TElavTEu? TAfkE FOOD.\n",
      "WHAT sOhkD nOh sAkk THE WOOD OF uOaE DIRIRp FhlRIThlE fEIRp EATER fn TElaITEu? TAfkE FOOD.\n",
      "WHAT sOhkD nOh sAkk THE WOOD OF uOaE DARARp FhlRAThlE fEARp EATER fn TElaATEu? TAfkE FOOD.\n"
     ]
    }
   ],
   "source": [
    "print(try_word(quote, cipher, 'ydtzorgx', 'OHATERFD'))\n",
    "print(try_word(quote, cipher, 'ydtzorgxv', 'OHATERFDI'))\n",
    "print(try_word(quote, cipher, 'ydtzorgxv', 'OHATERFDA'))\n"
   ]
  },
  {
   "cell_type": "code",
   "execution_count": 76,
   "metadata": {},
   "outputs": [
    {
     "name": "stdout",
     "output_type": "stream",
     "text": [
      "WHAT COULD nOU CALL THo WOOD Og uOao Dvrvrp gUlrvTUlo fovrp oATor fn TolavTou? TAfLo gOOD.\n",
      "WHAT COULD YOU CALL THE WOOD OF uOaE Dvrvrp FUlrvTUlE fEvrp EATEr fY TElavTEu? TAfLE FOOD.\n"
     ]
    }
   ],
   "source": [
    "print(try_word(quote, cipher, 'ydtzshkx', 'OHATCULD'))\n",
    "print(try_word(quote, cipher, 'ydtzshknoxg', 'OHATCULYEDF'))"
   ]
  },
  {
   "cell_type": "code",
   "execution_count": 77,
   "metadata": {},
   "outputs": [
    {
     "name": "stdout",
     "output_type": "stream",
     "text": [
      "WHAT sOhkD nOh sAkk THo WOOD OF uOao Dvrvrp FhlrvThlo fovrp oATor fn TolavTou? TAfko FOOD.\n",
      "WHAT sOUkD YOU sAkk THo WOOD OF uOao Dvrvrp FUlrvTUlo fovrp oATor fY TolavTou? TAfko FOOD.\n",
      "WHAT sOhkD nOh sAkk THE WOOD OF uOaE Dvrvrp FhlrvThlE fEvrp EATEr fn TElavTEu? TAfkE FOOD.\n",
      "WHAT sOUkD YOU sAkk THE WOOD OF uOaE Dvrvrp FUlrvTUlE fEvrp EATEr fY TElavTEu? TAfkE FOOD.\n"
     ]
    }
   ],
   "source": [
    "print(try_word(quote, cipher, 'ydtzgx', 'OHATFD'))\n",
    "\n",
    "print(try_word(quote, cipher, 'ydtzgxnh', 'OHATFDYU'))\n",
    "print(try_word(quote, cipher, 'ydtzgxo', 'OHATFDE'))\n",
    "print(try_word(quote, cipher, 'ydtzgxnho', 'OHATFDYUE'))\n",
    "#print(try_word(quote, cipher, 'ydtzgxnhokf', 'OHATFDYUEUP'))\n",
    "#print(try_word(quote, cipher, 'ydtzgxnhokf', 'OHATFDYUEUP'))\n"
   ]
  },
  {
   "cell_type": "code",
   "execution_count": 78,
   "metadata": {},
   "outputs": [
    {
     "name": "stdout",
     "output_type": "stream",
     "text": [
      "WHAT syhkx nyh sAkk THE Wyyx yg uyaE xvRvRp ghlRvThlE fEvRp EATER fn TElavTEu? TAfkE gyyx.\n",
      "WHAT COULD YOU CALL THE WOOD OF uOaE Dvrvrp FUlrvTUlE BEvrp EATEr BY TElavTEu? TABLE FOOD.\n",
      "WHAT COULD YOU CALL THE WOOD OF uOaE DIrIrp FUlrITUlE BEIrp EATEr BY TElaITEu? TABLE FOOD.\n",
      "WHAT COULD YOU CALL THE WOOD OF uOaE DINING FUlNITUlE BEING EATEN BY TElaITEu? TABLE FOOD.\n",
      "WHAT COULD YOU CALL THE WOOD OF SOME DINING FURNITURE BEING EATEN BY TERMITES? TABLE FOOD.\n"
     ]
    }
   ],
   "source": [
    "print(try_word(quote, cipher, 'otzrd', 'EATRH'))\n",
    "print(try_word(quote, cipher, 'ydtzshknoxgf', 'OHATCULYEDFB'))\n",
    "print(try_word(quote, cipher, 'ydtzshknoxgfv', 'OHATCULYEDFBI'))\n",
    "print(try_word(quote, cipher, 'ydtzshknoxgfvrp', 'OHATCULYEDFBING'))\n",
    "print(try_word(quote, cipher, 'ydtzshknoxgfvrpula', 'OHATCULYEDFBINGSRM'))"
   ]
  },
  {
   "cell_type": "markdown",
   "metadata": {},
   "source": [
    "## 1/26/19\n",
    "U equals K\n",
    "vid lmbsuljsde vized taxe tjhd vidsedphde jfd zu, wav vidx bzapg ijhd wddl ijlgpdg wdvvdf.\n",
    "\n"
   ]
  },
  {
   "cell_type": "code",
   "execution_count": 24,
   "metadata": {},
   "outputs": [
    {
     "name": "stdout",
     "output_type": "stream",
     "text": [
      "Counter({'d': 15, 'v': 7, 'i': 6, 'j': 5, 'e': 5, 'l': 4, 'z': 3, 'a': 3, 'h': 3, 'p': 3, 'w': 3, 'g': 3, 'b': 2, 'u': 2, 's': 2, 't': 2, 'x': 2, 'f': 2, 'm': 1})\n",
      "vid lmbKljsde vized taxe tjhd vidsedphde jfd zK, wav vidx bzapg ijhd wddl ijlgpdg wdvvdf.\n"
     ]
    }
   ],
   "source": [
    "quote = 'vid lmbuljsde vized taxe tjhd vidsedphde jfd zu, wav vidx bzapg ijhd wddl ijlgpdg wdvvdf.'\n",
    "print(freq_cnt(quote))\n",
    "cipher = { 'u': 'K'}\n",
    "print(apply_cipher(quote, cipher))\n",
    "#print(try_word(quote, cipher))"
   ]
  },
  {
   "cell_type": "code",
   "execution_count": 26,
   "metadata": {},
   "outputs": [
    {
     "name": "stdout",
     "output_type": "stream",
     "text": [
      "vid lmbKljsde viOed taxe tjhd vidsedphde jfd OK, wav vidx bOapg ijhd wddl ijlgpdg wdvvdf.\n",
      "viA lmbKljsAe viOeA taxe tjhA viAseAphAe jfA OK, wav viAx bOapg ijhA wAAl ijlgpAg wAvvAf.\n",
      "viS lmbKljsSe viOeS taxe tjhS viSseSphSe jfS OK, wav viSx bOapg ijhS wSSl ijlgpSg wSvvSf.\n"
     ]
    }
   ],
   "source": [
    "print(try_word(quote, cipher, 'z', 'O'))\n",
    "print(try_word(quote, cipher, 'zd', 'OA')) # unlikley A\n",
    "print(try_word(quote, cipher, 'zd', 'OS')) # not s\n"
   ]
  },
  {
   "cell_type": "code",
   "execution_count": 27,
   "metadata": {},
   "outputs": [
    {
     "name": "stdout",
     "output_type": "stream",
     "text": [
      "THE lmbKljsEe THOeE taxe tjhE THEseEphEe jfE OK, waT THEx bOapg HjhE wEEl HjlgpEg wETTEf.\n",
      "THE lmbKljsES THOSE taxS tjhE THEsSEphES jfE OK, waT THEx bOapg HjhE wEEl HjlgpEg wETTEf.\n",
      "THE lmbKljsES THOSE taNS tjhE THEsSEphES jfE OK, waT THEN bOapg HjhE wEEl HjlgpEg wETTEf.\n",
      "THE lmbKljsES THOSE taNS tjhE THEsSEphES jRE OK, BaT THEN bOapg HjhE BEEl HjlgpEg BETTER.\n",
      "None\n"
     ]
    }
   ],
   "source": [
    "print(try_word(quote, cipher, 'zvid', 'OTHE'))\n",
    "print(try_word(quote, cipher, 'zvide', 'OTHES'))\n",
    "print(try_word(quote, cipher, 'zvidex', 'OTHESN'))\n",
    "print(try_word(quote, cipher, 'zvidexwf', 'OTHESNBR'))\n",
    "print(try_word(quote, cipher, 'zvidexwfl', 'OTHESNBR'))\n"
   ]
  },
  {
   "cell_type": "code",
   "execution_count": 28,
   "metadata": {},
   "outputs": [
    {
     "name": "stdout",
     "output_type": "stream",
     "text": [
      "THE lmbKljsEe THOeE taxe tjhE THEseEphEe jfE OK, waT THEx bOapg HjhE wEEl HjlgpEg wETTEf.\n",
      "THE lmbKljMES THOSE taxS tjVE THEMSELVES jfE OK, waT THEx bOaLg HjVE wEEl HjlgLEg wETTEf.\n"
     ]
    }
   ],
   "source": [
    "print(try_word(quote, cipher, 'zvid', 'OTHE'))\n",
    "print(try_word(quote, cipher, 'zvidseph', 'OTHEMSLV'))\n"
   ]
  },
  {
   "cell_type": "code",
   "execution_count": 29,
   "metadata": {},
   "outputs": [
    {
     "name": "stdout",
     "output_type": "stream",
     "text": [
      "THE lmbKljMES THOSE taxS tjVE THEMSELVES jRE OK, BaT THEx bOaLg HjVE BEEl HjlgLEg BETTER.\n",
      "THE lmbKlAMES THOSE taxS tAVE THEMSELVES ARE OK, BaT THEx bOaLg HAVE BEEl HAlgLEg BETTER.\n",
      "THE lmbKlAMES THOSE tUxS tAVE THEMSELVES ARE OK, BUT THEx bOULg HAVE BEEl HAlgLEg BETTER.\n",
      "THE lmbKlAMES THOSE tUYS tAVE THEMSELVES ARE OK, BUT THEY bOULg HAVE BEEl HAlgLEg BETTER.\n",
      "THE NmbKNAMES THOSE tUYS tAVE THEMSELVES ARE OK, BUT THEY bOULg HAVE BEEN HANgLEg BETTER.\n"
     ]
    }
   ],
   "source": [
    "print(try_word(quote, cipher, 'zvidsephwf', 'OTHEMSLVBR'))\n",
    "print(try_word(quote, cipher, 'zvidsephwfj', 'OTHEMSLVBRA'))\n",
    "print(try_word(quote, cipher, 'zvidsephwfja', 'OTHEMSLVBRAU'))\n",
    "print(try_word(quote, cipher, 'zvidsephwfjax', 'OTHEMSLVBRAUY'))\n",
    "print(try_word(quote, cipher, 'zvidsephwfjaxl', 'OTHEMSLVBRAUYN'))\n"
   ]
  },
  {
   "cell_type": "code",
   "execution_count": 32,
   "metadata": {},
   "outputs": [
    {
     "name": "stdout",
     "output_type": "stream",
     "text": [
      "THE NICKNAMES THOSE GUYS GAVE THEMSELVES ARE OK, BUT THEY COULD HAVE BEEN HANDLED BETTER.\n"
     ]
    }
   ],
   "source": [
    "print(try_word(quote, cipher, 'zvidsephwfjaxlmbtg', 'OTHEMSLVBRAUYNICGD'))\n"
   ]
  }
 ],
 "metadata": {
  "kernelspec": {
   "display_name": "Python 3",
   "language": "python",
   "name": "python3"
  },
  "language_info": {
   "codemirror_mode": {
    "name": "ipython",
    "version": 3
   },
   "file_extension": ".py",
   "mimetype": "text/x-python",
   "name": "python",
   "nbconvert_exporter": "python",
   "pygments_lexer": "ipython3",
   "version": "3.7.0"
  }
 },
 "nbformat": 4,
 "nbformat_minor": 2
}
