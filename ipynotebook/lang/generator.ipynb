{
 "cells": [
  {
   "cell_type": "code",
   "execution_count": 2,
   "metadata": {},
   "outputs": [
    {
     "name": "stdout",
     "output_type": "stream",
     "text": [
      "type(add1) <class 'function'>\n",
      "type(add2) <class '__main__.Adder'>\n",
      "add1(4, 5) 9\n",
      "add2(4, 5) 9\n"
     ]
    }
   ],
   "source": [
    "# generateors\n",
    "\n",
    "# top-level syntax,  function -> underscore\n",
    "#    x()    ->     __call__\n",
    "\n",
    "\n",
    "def add1(x, y):\n",
    "    return x + y\n",
    "\n",
    "class Adder:\n",
    "    def __call__(self, x, y):\n",
    "        return x + y\n",
    "add2 = Adder()\n",
    "\n",
    "print('type(add1)', type(add1))\n",
    "print('type(add2)', type(add2))\n",
    "\n",
    "print('add1(4, 5)', add1(4, 5))\n",
    "print('add2(4, 5)', add2(4, 5))"
   ]
  },
  {
   "cell_type": "code",
   "execution_count": 5,
   "metadata": {},
   "outputs": [
    {
     "data": {
      "text/plain": [
       "[0, 1, 2, 3, 4, 5, 6, 7, 8, 9]"
      ]
     },
     "execution_count": 5,
     "metadata": {},
     "output_type": "execute_result"
    }
   ],
   "source": [
    "# some long function\n",
    "from time import sleep\n",
    "\n",
    "def compute():\n",
    "    rv = []\n",
    "    for i in range(10):\n",
    "        sleep(.5)\n",
    "        rv.append(i)\n",
    "    return rv\n",
    "\n",
    "compute()"
   ]
  },
  {
   "cell_type": "code",
   "execution_count": 6,
   "metadata": {},
   "outputs": [
    {
     "data": {
      "text/plain": [
       "[0, 1, 2, 3, 4, 5, 6, 7, 8, 9]"
      ]
     },
     "execution_count": 6,
     "metadata": {},
     "output_type": "execute_result"
    }
   ],
   "source": [
    "# rewrite aw a class\n",
    "\n",
    "\n",
    "class Compute:\n",
    "    def __call__(self):\n",
    "        rv = []\n",
    "        for i in range(10):\n",
    "            sleep(.5)\n",
    "            rv.append(i)\n",
    "        return rv\n",
    "computer = Compute()\n",
    "\n",
    "compute()\n"
   ]
  },
  {
   "cell_type": "code",
   "execution_count": 8,
   "metadata": {},
   "outputs": [
    {
     "name": "stdout",
     "output_type": "stream",
     "text": [
      "0\n",
      "1\n",
      "2\n",
      "3\n",
      "4\n",
      "5\n",
      "6\n",
      "7\n",
      "8\n",
      "9\n"
     ]
    }
   ],
   "source": [
    "# rewrite aw a class\n",
    "\n",
    "\n",
    "class Compute:\n",
    "#     def __call__(self):\n",
    "#         rv = []\n",
    "#         for i in range(10):\n",
    "#             sleep(.5)\n",
    "#             rv.append(i)\n",
    "#         return rv\n",
    "    def __iter__(self):\n",
    "        self.last = 0\n",
    "        return self\n",
    "    def __next__(self):\n",
    "        rv = self.last\n",
    "        self.last += 1\n",
    "        if self.last > 10:\n",
    "            raise StopIteration()\n",
    "        sleep(.5)\n",
    "        return rv\n",
    "    \n",
    "for val in Compute():\n",
    "    print(val)\n"
   ]
  },
  {
   "cell_type": "code",
   "execution_count": 9,
   "metadata": {},
   "outputs": [
    {
     "name": "stdout",
     "output_type": "stream",
     "text": [
      "0\n",
      "1\n",
      "2\n",
      "3\n",
      "4\n",
      "5\n",
      "6\n",
      "7\n",
      "8\n",
      "9\n"
     ]
    }
   ],
   "source": [
    "# rewrite aw a class\n",
    "\n",
    "\n",
    "def Compute():\n",
    "    for i in range(10):\n",
    "        sleep(.5)\n",
    "        yield i\n",
    "    \n",
    "for val in Compute():\n",
    "    print(val)\n"
   ]
  },
  {
   "cell_type": "code",
   "execution_count": null,
   "metadata": {
    "collapsed": true
   },
   "outputs": [],
   "source": [
    "\n",
    "class Api:\n",
    "    def run_this_first(self):\n",
    "        first()\n",
    "    def run_this_second(self):\n",
    "        second()\n",
    "    def run_this_last(self):\n",
    "        last()\n",
    "        \n",
    "# generator formulation lets us prevent the user from doing something like this\n",
    "Api().run_this_last()\n",
    "Api().run_this_first()"
   ]
  },
  {
   "cell_type": "code",
   "execution_count": null,
   "metadata": {
    "collapsed": true
   },
   "outputs": [],
   "source": [
    "# we want to alternate control form the API and the user lib\n",
    "\n",
    "def api():\n",
    "    first()\n",
    "    yield\n",
    "    second()\n",
    "    yield\n",
    "    last()\n",
    "    \n",
    "    "
   ]
  }
 ],
 "metadata": {
  "kernelspec": {
   "display_name": "Python 3",
   "language": "python",
   "name": "python3"
  },
  "language_info": {
   "codemirror_mode": {
    "name": "ipython",
    "version": 3
   },
   "file_extension": ".py",
   "mimetype": "text/x-python",
   "name": "python",
   "nbconvert_exporter": "python",
   "pygments_lexer": "ipython3",
   "version": "3.6.3"
  }
 },
 "nbformat": 4,
 "nbformat_minor": 2
}
