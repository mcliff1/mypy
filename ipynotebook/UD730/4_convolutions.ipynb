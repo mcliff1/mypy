{
 "cells": [
  {
   "cell_type": "markdown",
   "metadata": {
    "colab_type": "text",
    "id": "4embtkV0pNxM"
   },
   "source": [
    "Deep Learning\n",
    "=============\n",
    "\n",
    "Assignment 4\n",
    "------------\n",
    "\n",
    "Previously in `2_fullyconnected.ipynb` and `3_regularization.ipynb`, we trained fully connected networks to classify [notMNIST](http://yaroslavvb.blogspot.com/2011/09/notmnist-dataset.html) characters.\n",
    "\n",
    "The goal of this assignment is make the neural network convolutional.\n",
    "\n",
    "Begin Work - Feb 5, 2018 -mcliff"
   ]
  },
  {
   "cell_type": "code",
   "execution_count": 34,
   "metadata": {
    "cellView": "both",
    "colab": {
     "autoexec": {
      "startup": false,
      "wait_interval": 0
     }
    },
    "colab_type": "code",
    "collapsed": true,
    "id": "tm2CQN_Cpwj0"
   },
   "outputs": [],
   "source": [
    "# These are all the modules we'll be using later. Make sure you can import them\n",
    "# before proceeding further.\n",
    "from __future__ import print_function\n",
    "import numpy as np\n",
    "import tensorflow as tf\n",
    "from six.moves import cPickle as pickle\n",
    "from six.moves import range"
   ]
  },
  {
   "cell_type": "code",
   "execution_count": 35,
   "metadata": {
    "cellView": "both",
    "colab": {
     "autoexec": {
      "startup": false,
      "wait_interval": 0
     },
     "output_extras": [
      {
       "item_id": 1
      }
     ]
    },
    "colab_type": "code",
    "executionInfo": {
     "elapsed": 11948,
     "status": "ok",
     "timestamp": 1446658914837,
     "user": {
      "color": "",
      "displayName": "",
      "isAnonymous": false,
      "isMe": true,
      "permissionId": "",
      "photoUrl": "",
      "sessionId": "0",
      "userId": ""
     },
     "user_tz": 480
    },
    "id": "y3-cj1bpmuxc",
    "outputId": "016b1a51-0290-4b08-efdb-8c95ffc3cd01"
   },
   "outputs": [
    {
     "name": "stdout",
     "output_type": "stream",
     "text": [
      "Training set (200000, 28, 28) (200000,)\n",
      "Validation set (10000, 28, 28) (10000,)\n",
      "Test set (10000, 28, 28) (10000,)\n"
     ]
    }
   ],
   "source": [
    "pickle_file = 'notMNIST.pickle'\n",
    "\n",
    "with open(pickle_file, 'rb') as f:\n",
    "  save = pickle.load(f)\n",
    "  train_dataset = save['train_dataset']\n",
    "  train_labels = save['train_labels']\n",
    "  valid_dataset = save['valid_dataset']\n",
    "  valid_labels = save['valid_labels']\n",
    "  test_dataset = save['test_dataset']\n",
    "  test_labels = save['test_labels']\n",
    "  del save  # hint to help gc free up memory\n",
    "  print('Training set', train_dataset.shape, train_labels.shape)\n",
    "  print('Validation set', valid_dataset.shape, valid_labels.shape)\n",
    "  print('Test set', test_dataset.shape, test_labels.shape)"
   ]
  },
  {
   "cell_type": "code",
   "execution_count": 51,
   "metadata": {},
   "outputs": [
    {
     "name": "stdout",
     "output_type": "stream",
     "text": [
      "[ 0.  0.  0.  0.  0.  0.  0.  0.  1.  0.]\n"
     ]
    },
    {
     "data": {
      "image/png": "[encoded data removed]",
      "text/plain": [
       "<matplotlib.figure.Figure at 0x17c8095c9b0>"
      ]
     },
     "metadata": {},
     "output_type": "display_data"
    }
   ],
   "source": [
    "import matplotlib.pyplot as plt\n",
    "%matplotlib inline\n",
    "image = train_dataset[5234].squeeze()\n",
    "plt.figure(figsize=(1,1))\n",
    "plt.imshow(image,cmap=\"gray\")\n",
    "print(train_labels[5234])"
   ]
  },
  {
   "cell_type": "markdown",
   "metadata": {
    "colab_type": "text",
    "id": "L7aHrm6nGDMB"
   },
   "source": [
    "Reformat into a TensorFlow-friendly shape:\n",
    "- convolutions need the image data formatted as a cube (width by height by #channels)\n",
    "- labels as float 1-hot encodings."
   ]
  },
  {
   "cell_type": "code",
   "execution_count": 36,
   "metadata": {
    "cellView": "both",
    "colab": {
     "autoexec": {
      "startup": false,
      "wait_interval": 0
     },
     "output_extras": [
      {
       "item_id": 1
      }
     ]
    },
    "colab_type": "code",
    "executionInfo": {
     "elapsed": 11952,
     "status": "ok",
     "timestamp": 1446658914857,
     "user": {
      "color": "",
      "displayName": "",
      "isAnonymous": false,
      "isMe": true,
      "permissionId": "",
      "photoUrl": "",
      "sessionId": "0",
      "userId": ""
     },
     "user_tz": 480
    },
    "id": "IRSyYiIIGIzS",
    "outputId": "650a208c-8359-4852-f4f5-8bf10e80ef6c"
   },
   "outputs": [
    {
     "name": "stdout",
     "output_type": "stream",
     "text": [
      "Training set (200000, 28, 28, 1) (200000, 10)\n",
      "Validation set (10000, 28, 28, 1) (10000, 10)\n",
      "Test set (10000, 28, 28, 1) (10000, 10)\n"
     ]
    }
   ],
   "source": [
    "image_size = 28\n",
    "num_labels = 10\n",
    "num_channels = 1 # grayscale\n",
    "\n",
    "import numpy as np\n",
    "\n",
    "def reformat(dataset, labels):\n",
    "  dataset = dataset.reshape(\n",
    "    (-1, image_size, image_size, num_channels)).astype(np.float32)\n",
    "  labels = (np.arange(num_labels) == labels[:,None]).astype(np.float32)\n",
    "  return dataset, labels\n",
    "train_dataset, train_labels = reformat(train_dataset, train_labels)\n",
    "valid_dataset, valid_labels = reformat(valid_dataset, valid_labels)\n",
    "test_dataset, test_labels = reformat(test_dataset, test_labels)\n",
    "print('Training set', train_dataset.shape, train_labels.shape)\n",
    "print('Validation set', valid_dataset.shape, valid_labels.shape)\n",
    "print('Test set', test_dataset.shape, test_labels.shape)"
   ]
  },
  {
   "cell_type": "code",
   "execution_count": 37,
   "metadata": {
    "cellView": "both",
    "colab": {
     "autoexec": {
      "startup": false,
      "wait_interval": 0
     }
    },
    "colab_type": "code",
    "collapsed": true,
    "id": "AgQDIREv02p1"
   },
   "outputs": [],
   "source": [
    "def accuracy(predictions, labels):\n",
    "  \"\"\"expects predictions to be a object with ????\n",
    "  \"\"\"\n",
    "  return (100.0 * np.sum(np.argmax(predictions, 1) == np.argmax(labels, 1))\n",
    "          / predictions.shape[0])"
   ]
  },
  {
   "cell_type": "markdown",
   "metadata": {
    "colab_type": "text",
    "id": "5rhgjmROXu2O"
   },
   "source": [
    "## Modelling\n",
    "\n",
    "\n",
    "\n",
    "Let's build a small network with two convolutional layers, followed by one fully connected layer. Convolutional networks are more expensive computationally, so we'll limit its depth and number of fully connected nodes.\n",
    "\n",
    "A Convolution,  takes an image and produces another image by appling a *weight* matrix to it (called the **kernel**) at each *point*, it then take a step (called *stride* to the next location).  In general if the stride is equal to 1 then the image is the *same* size (based on padding decisions it could be smaller). The weights of these convolution matrix are trained in the model, and essentially identify and help call out the **features** in the input data such as edges, or centers of mass.\n"
   ]
  },
  {
   "cell_type": "code",
   "execution_count": 42,
   "metadata": {
    "cellView": "both",
    "colab": {
     "autoexec": {
      "startup": false,
      "wait_interval": 0
     }
    },
    "colab_type": "code",
    "id": "IZYv70SvvOan"
   },
   "outputs": [],
   "source": [
    "\n",
    "# uses: \n",
    "#   image_size, num_channels, num_labels, train_labels\n",
    "#  valid_dataset, test_dataset, # as consts \n",
    "def CN2Graph(batch_size=16, patch_size=5, depth=16, num_hidden=64,num_steps = 1001,\n",
    "             display_step=50, verbose=False):\n",
    "    \"\"\"\n",
    "    Creates a 2 Convolutional layer with one fully connected layer\n",
    "    \"\"\"\n",
    "\n",
    "    #graph = tf.Graph()\n",
    "\n",
    "    #with graph.as_default():\n",
    "\n",
    "    # Input data.\n",
    "    tf_train_dataset = tf.placeholder(\n",
    "        tf.float32, shape=(batch_size, image_size, image_size, num_channels))\n",
    "    tf_train_labels = tf.placeholder(tf.float32, shape=(batch_size, num_labels))\n",
    "    tf_valid_dataset = tf.constant(valid_dataset)\n",
    "    tf_test_dataset = tf.constant(test_dataset)\n",
    "    keep_prob = tf.placeholder(tf.float32) # DROP OUT here \n",
    "  \n",
    "    # Variables\n",
    "    layer1_weights = tf.Variable(tf.truncated_normal(\n",
    "      [patch_size, patch_size, num_channels, depth], stddev=0.1))\n",
    "    layer1_biases = tf.Variable(tf.zeros([depth]))\n",
    "    \n",
    "    layer2_weights = tf.Variable(tf.truncated_normal(\n",
    "      [patch_size, patch_size, depth, depth], stddev=0.1))\n",
    "    layer2_biases = tf.Variable(tf.constant(1.0, shape=[depth]))\n",
    "    \n",
    "    layer3_weights = tf.Variable(tf.truncated_normal(\n",
    "      [image_size // 4 * image_size // 4 * depth, num_hidden], stddev=0.1))\n",
    "    layer3_biases = tf.Variable(tf.constant(1.0, shape=[num_hidden]))\n",
    "    \n",
    "    layer4_weights = tf.Variable(tf.truncated_normal([num_hidden, num_labels], stddev=0.1))\n",
    "    layer4_biases = tf.Variable(tf.constant(1.0, shape=[num_labels]))\n",
    "\n",
    "        \n",
    "    # input is a 4d tensor - [batches, width, height, channel==1]    \n",
    "    # Model\n",
    "    def model(data):\n",
    "        # stride of 2 means we reduce the next layer to 14x14  (we have x16 for depth)\n",
    "        # input is data-16x28x28x1 ;  w1 - 5x5x1x16 [Hgt,Wght,In-Chan,Out-Chan]\n",
    "        #   output is 16x14x14x16;  b1 is 16x1 (one for each of the depth on convultion)\n",
    "        conv = tf.nn.conv2d(data, layer1_weights, [1, 2, 2, 1], padding='SAME')\n",
    "        hidden = tf.nn.relu(conv + layer1_biases)\n",
    "        # again a stride of 2 reduces us to 7x7, and now we have 16 channels for each depth layer\n",
    "        # hidden is 16x14x14x16   ;   w2 is 5x5x16x16; b2 is 16x1\n",
    "        #   output is 16x7x7x16\n",
    "        conv = tf.nn.conv2d(hidden, layer2_weights, [1, 2, 2, 1], padding='SAME')\n",
    "        hidden = tf.nn.relu(conv + layer2_biases)\n",
    "        shape = hidden.get_shape().as_list()\n",
    "        #  reshape now to 16x784    basically push all the layers and pixels into a giant list\n",
    "        reshape = tf.reshape(hidden, [shape[0], shape[1] * shape[2] * shape[3]])\n",
    "        # w3 is 784x64, b3 is 64x1  (standard fully connected)\n",
    "        # hidden is 16x64\n",
    "        hidden = tf.nn.relu(tf.matmul(reshape, layer3_weights) + layer3_biases)\n",
    "        \n",
    "        # w4 is 64x10, b4 is 10x1; result here is 16x1 these are the logit numbers\n",
    "        return tf.matmul(hidden, layer4_weights) + layer4_biases\n",
    "        \n",
    "    logits = model(tf_train_dataset)\n",
    "        \n",
    "    # Training computation.\n",
    "    loss = tf.reduce_mean(\n",
    "        tf.nn.softmax_cross_entropy_with_logits(labels=tf_train_labels, logits=logits))\n",
    "    \n",
    "    # Optimizer.\n",
    "    optimizer = tf.train.GradientDescentOptimizer(0.05).minimize(loss)\n",
    "\n",
    "    # Predictions for the training, validation, and test data.\n",
    "    train_prediction = tf.nn.softmax(logits)\n",
    "    valid_prediction = tf.nn.softmax(model(tf_valid_dataset))\n",
    "    test_prediction = tf.nn.softmax(model(tf_test_dataset))\n",
    "        \n",
    "        \n",
    "    with tf.Session() as session:\n",
    "        session.run(tf.global_variables_initializer())\n",
    "\n",
    "        retAcc = []\n",
    "        for step in range(num_steps):\n",
    "            # on each step pull a different subset\n",
    "            offset = (step * batch_size) % (train_labels.shape[0] - batch_size) # what is train_labels.shape[0] ?\n",
    "            batch_data = train_dataset[offset:(offset+batch_size), :, :, :]\n",
    "            batch_labels = train_labels[offset:(offset+batch_size),:]\n",
    "            \n",
    "            # this is what we actually feed into the graph above\n",
    "            feed_dict = {\n",
    "                tf_train_dataset : batch_data,\n",
    "                tf_train_labels : batch_labels\n",
    "            }\n",
    "            # local vars l and preductions get returned from graph variables 'loss' and 'train_prediction'\n",
    "            #    'optimizer' is also evaluated in the graph\n",
    "            _, l, predictions = session.run(\n",
    "                [optimizer, loss, train_prediction], feed_dict=feed_dict\n",
    "            )\n",
    "            \n",
    "            if (step % display_step == 0):\n",
    "                if verbose:\n",
    "                    print('Accuracy (Batch/Validation): %5.1f%% %5.1f%%\\tloss at step %d: %f' % \n",
    "                          (accuracy(predictions, batch_labels),\n",
    "                           accuracy(valid_prediction.eval(), valid_labels),\n",
    "                           step, l))\n",
    "                retAcc.append(accuracy(valid_prediction.eval(), valid_labels))\n",
    "                \n",
    "            \n",
    "    return(retAcc)\n",
    "    "
   ]
  },
  {
   "cell_type": "code",
   "execution_count": 43,
   "metadata": {},
   "outputs": [
    {
     "data": {
      "text/plain": [
       "[9.8300000000000001,\n",
       " 68.349999999999994,\n",
       " 73.980000000000004,\n",
       " 76.239999999999995,\n",
       " 78.209999999999994,\n",
       " 78.469999999999999,\n",
       " 80.030000000000001,\n",
       " 77.739999999999995,\n",
       " 80.030000000000001,\n",
       " 79.329999999999998,\n",
       " 81.659999999999997,\n",
       " 81.090000000000003,\n",
       " 82.469999999999999,\n",
       " 82.659999999999997,\n",
       " 82.920000000000002,\n",
       " 83.390000000000001,\n",
       " 83.019999999999996,\n",
       " 82.799999999999997,\n",
       " 83.760000000000005,\n",
       " 83.609999999999999,\n",
       " 82.909999999999997]"
      ]
     },
     "execution_count": 43,
     "metadata": {},
     "output_type": "execute_result"
    }
   ],
   "source": [
    "CN2Graph()"
   ]
  },
  {
   "cell_type": "code",
   "execution_count": 44,
   "metadata": {
    "collapsed": true
   },
   "outputs": [],
   "source": [
    "\n",
    "# uses: \n",
    "#   image_size, num_channels, num_labels, train_labels\n",
    "#  valid_dataset, # as consts \n",
    "def ModelCNN(batch_size=16, patch_size=5, depth=16, num_hidden=64, \n",
    "              num_steps = 1001, display_step=50, verbose=False):\n",
    "    \"\"\"\n",
    "    Creates a 2 Convolutional layer with one fully connected layer\n",
    "    \"\"\"\n",
    "\n",
    "    graph = tf.Graph()\n",
    "    with graph.as_default():\n",
    "\n",
    "        # Input data.\n",
    "        tf_train_dataset = tf.placeholder(\n",
    "            tf.float32, shape=(batch_size, image_size, image_size, num_channels))\n",
    "        tf_train_labels = tf.placeholder(tf.float32, shape=(batch_size, num_labels))\n",
    "        tf_valid_dataset = tf.constant(valid_dataset)\n",
    "        #tf_test_dataset = tf.constant(test_dataset)\n",
    "        keep_prob = tf.placeholder(tf.float32) # DROP OUT here \n",
    "  \n",
    "        # Variables\n",
    "        layer1_weights = tf.Variable(tf.truncated_normal(\n",
    "          [patch_size, patch_size, num_channels, depth], stddev=0.1))\n",
    "        \n",
    "        layer1_biases = tf.Variable(tf.zeros([depth]))\n",
    "    \n",
    "        layer2_weights = tf.Variable(tf.truncated_normal(\n",
    "          [patch_size, patch_size, depth, depth], stddev=0.1))\n",
    "        layer2_biases = tf.Variable(tf.constant(1.0, shape=[depth]))\n",
    "    \n",
    "        layer3_weights = tf.Variable(tf.truncated_normal(\n",
    "          [image_size // 4 * image_size // 4 * depth, num_hidden], stddev=0.1))\n",
    "        layer3_biases = tf.Variable(tf.constant(1.0, shape=[num_hidden]))\n",
    "    \n",
    "        layer4_weights = tf.Variable(tf.truncated_normal([num_hidden, num_labels], stddev=0.1))\n",
    "        layer4_biases = tf.Variable(tf.constant(1.0, shape=[num_labels]))\n",
    "\n",
    "        \n",
    "        \n",
    "        # Model\n",
    "        def model(data):\n",
    "            # \n",
    "            conv = tf.nn.conv2d(data, layer1_weights, [1, 2, 2, 1], padding='SAME')\n",
    "            hidden = tf.nn.relu(conv + layer1_biases)\n",
    "            conv = tf.nn.conv2d(hidden, layer2_weights, [1, 2, 2, 1], padding='SAME')\n",
    "            hidden = tf.nn.relu(conv + layer2_biases)\n",
    "            shape = hidden.get_shape().as_list()\n",
    "            reshape = tf.reshape(hidden, [shape[0], shape[1] * shape[2] * shape[3]])\n",
    "            hidden = tf.nn.relu(tf.matmul(reshape, layer3_weights) + layer3_biases)\n",
    "        \n",
    "            return tf.matmul(hidden, layer4_weights) + layer4_biases\n",
    "        \n",
    "        logits = model(tf_train_dataset)\n",
    "        \n",
    "        # Training computation.\n",
    "        loss = tf.reduce_mean(\n",
    "            tf.nn.softmax_cross_entropy_with_logits(labels=tf_train_labels, logits=logits))\n",
    "    \n",
    "        # Optimizer.\n",
    "        optimizer = tf.train.GradientDescentOptimizer(0.05).minimize(loss)\n",
    "\n",
    "        # Predictions for the training, validation, and test data.\n",
    "        train_prediction = tf.nn.softmax(logits)\n",
    "        valid_prediction = tf.nn.softmax(model(tf_valid_dataset))\n",
    "        #test_prediction = tf.nn.softmax(model(tf_test_dataset))\n",
    "        \n",
    "        \n",
    "    with tf.Session(graph = graph) as session:\n",
    "        session.run(tf.global_variables_initializer())\n",
    "\n",
    "        retAcc = []\n",
    "        for step in range(num_steps):\n",
    "            # on each step pull a different subset\n",
    "            offset = (step * batch_size) % (train_labels.shape[0] - batch_size) # what is train_labels.shape[0] ?\n",
    "            batch_data = train_dataset[offset:(offset+batch_size), :, :, :]\n",
    "            batch_labels = train_labels[offset:(offset+batch_size),:]\n",
    "            \n",
    "            # this is what we actually feed into the graph above\n",
    "            feed_dict = {\n",
    "                tf_train_dataset : batch_data,\n",
    "                tf_train_labels : batch_labels\n",
    "            }\n",
    "            # local vars l and preductions get returned from graph variables 'loss' and 'train_prediction'\n",
    "            #    'optimizer' is also evaluated in the graph\n",
    "            _, l, predictions = session.run(\n",
    "                [optimizer, loss, train_prediction], feed_dict=feed_dict\n",
    "            )\n",
    "            \n",
    "            if (step % display_step == 0):\n",
    "                if verbose:\n",
    "                    print('Accuracy (Batch/Validation): %5.1f%% %5.1f%%\\tloss at step %d: %f' % \n",
    "                          (accuracy(predictions, batch_labels),\n",
    "                           accuracy(valid_prediction.eval(), valid_labels),\n",
    "                           step, l))\n",
    "                retAcc.append(accuracy(valid_prediction.eval(), valid_labels))\n",
    "\n",
    "            \n",
    "    return(retAcc)\n",
    "    "
   ]
  },
  {
   "cell_type": "code",
   "execution_count": 45,
   "metadata": {},
   "outputs": [],
   "source": [
    "cnn = ModelCNN(num_steps=1001, display_step=50)\n",
    "cnn"
   ]
  },
  {
   "cell_type": "code",
   "execution_count": 46,
   "metadata": {},
   "outputs": [
    {
     "data": {
      "text/plain": [
       "[9.3900000000000006,\n",
       " 65.560000000000002,\n",
       " 73.530000000000001,\n",
       " 76.180000000000007,\n",
       " 77.689999999999998,\n",
       " 78.359999999999999,\n",
       " 79.390000000000001,\n",
       " 76.629999999999995,\n",
       " 80.400000000000006,\n",
       " 79.780000000000001,\n",
       " 80.719999999999999,\n",
       " 81.379999999999995,\n",
       " 82.0,\n",
       " 81.790000000000006,\n",
       " 82.480000000000004,\n",
       " 82.840000000000003,\n",
       " 83.040000000000006,\n",
       " 82.700000000000003,\n",
       " 82.930000000000007,\n",
       " 83.010000000000005,\n",
       " 82.219999999999999]"
      ]
     },
     "execution_count": 46,
     "metadata": {},
     "output_type": "execute_result"
    }
   ],
   "source": [
    "cnn"
   ]
  },
  {
   "cell_type": "markdown",
   "metadata": {
    "colab_type": "text",
    "id": "KedKkn4EutIK"
   },
   "source": [
    "---\n",
    "Problem 1\n",
    "---------\n",
    "\n",
    "The convolutional model above uses convolutions with stride 2 to reduce the dimensionality. Replace the strides by a max pooling operation (`nn.max_pool()`) of stride 2 and kernel size 2.\n",
    "\n",
    "---\n",
    "\n",
    "Side Note: per this article we should never use sigmoids because they \"saturate and die\"\n",
    "http://cs231n.github.io/neural-networks-1/"
   ]
  },
  {
   "cell_type": "code",
   "execution_count": 47,
   "metadata": {
    "collapsed": true
   },
   "outputs": [],
   "source": [
    "\n",
    "# uses: \n",
    "#   image_size, num_channels, num_labels, train_labels\n",
    "#  valid_dataset, test_dataset, # as consts \n",
    "#\n",
    "# patch_size - 2*kernel_size + 1;  used for convolution\n",
    "#\n",
    "def MaxPoolModel(batch_size=16, patch_size=5, depth=16, num_hidden=64,\n",
    "                 validation_dataset=valid_dataset, verbose=True, \n",
    "                 display_step=50, num_steps = 1001):\n",
    "    \"\"\"\n",
    "    Creates a 2 Convolutional layer with one fully connected layer\n",
    "    \"\"\"\n",
    "\n",
    "    #graph = tf.Graph()\n",
    "\n",
    "    #with graph.as_default():\n",
    "\n",
    "    # Input data.\n",
    "    tf_train_dataset = tf.placeholder(\n",
    "        tf.float32, shape=(batch_size, image_size, image_size, num_channels))\n",
    "    tf_train_labels = tf.placeholder(tf.float32, shape=(batch_size, num_labels))\n",
    "    tf_valid_dataset = tf.constant(validation_dataset)\n",
    "    keep_prob = tf.placeholder(tf.float32) # DROP OUT here \n",
    "  \n",
    "    # Variables\n",
    "    layer1_weights = tf.Variable(tf.truncated_normal(\n",
    "      [patch_size, patch_size, num_channels, depth], stddev=0.1))\n",
    "    layer1_biases = tf.Variable(tf.zeros([depth]))\n",
    "    \n",
    "    layer2_weights = tf.Variable(tf.truncated_normal(\n",
    "      [patch_size, patch_size, depth, depth], stddev=0.1))\n",
    "    layer2_biases = tf.Variable(tf.constant(1.0, shape=[depth]))\n",
    "    \n",
    "    layer3_weights = tf.Variable(tf.truncated_normal(\n",
    "      [image_size // 4 * image_size // 4 * depth, num_hidden], stddev=0.1))\n",
    "    layer3_biases = tf.Variable(tf.constant(1.0, shape=[num_hidden]))\n",
    "    \n",
    "    layer4_weights = tf.Variable(tf.truncated_normal([num_hidden, num_labels], stddev=0.1))\n",
    "    layer4_biases = tf.Variable(tf.constant(1.0, shape=[num_labels]))\n",
    "\n",
    "        \n",
    "        \n",
    "    # Model\n",
    "    def model(data):\n",
    "        # input 16x28x28x1; output is 16x28x28x16\n",
    "        conv = tf.nn.conv2d(data, layer1_weights, [1, 1, 1, 1], padding='SAME')\n",
    "        # input is 16x28x28x16, output is 16x14x14x16\n",
    "        max_reduce = tf.nn.max_pool(conv, [1,2,2,1], [1, 2, 2, 1], padding='SAME')       \n",
    "        # l1 is 16x1\n",
    "        hidden = tf.nn.relu(max_reduce + layer1_biases)\n",
    "        conv = tf.nn.conv2d(hidden, layer2_weights, [1, 1, 1, 1], padding='SAME')\n",
    "\n",
    "        max_reduce = tf.nn.max_pool(conv, [1,2,2,1], [1, 2, 2, 1], padding='SAME')       \n",
    "        \n",
    "\n",
    "        hidden = tf.nn.relu(max_reduce + layer2_biases)\n",
    "        shape = hidden.get_shape().as_list()\n",
    "        reshape = tf.reshape(hidden, [shape[0], shape[1] * shape[2] * shape[3]])\n",
    "        hidden = tf.nn.relu(tf.matmul(reshape, layer3_weights) + layer3_biases)\n",
    "        \n",
    "        return tf.matmul(hidden, layer4_weights) + layer4_biases\n",
    "        \n",
    "    logits = model(tf_train_dataset)\n",
    "        \n",
    "    # Training computation.\n",
    "    loss = tf.reduce_mean(\n",
    "        tf.nn.softmax_cross_entropy_with_logits(labels=tf_train_labels, logits=logits))\n",
    "    \n",
    "    # Optimizer.\n",
    "    optimizer = tf.train.GradientDescentOptimizer(0.05).minimize(loss)\n",
    "\n",
    "    # Predictions for the training, validation, and test data.\n",
    "    train_prediction = tf.nn.softmax(logits)\n",
    "    valid_prediction = tf.nn.softmax(model(tf_valid_dataset))\n",
    "        \n",
    "\n",
    "\n",
    "    retAcc = []\n",
    "    with tf.Session() as session:\n",
    "        session.run(tf.global_variables_initializer())\n",
    "        \n",
    "        for step in range(num_steps):\n",
    "            # on each step pull a different subset\n",
    "            offset = (step * batch_size) % (train_labels.shape[0] - batch_size) # what is train_labels.shape[0] ?\n",
    "            batch_data = train_dataset[offset:(offset+batch_size), :, :, :]\n",
    "            batch_labels = train_labels[offset:(offset+batch_size),:]\n",
    "            \n",
    "            # this is what we actually feed into the graph above\n",
    "            feed_dict = {\n",
    "                tf_train_dataset : batch_data,\n",
    "                tf_train_labels : batch_labels\n",
    "            }\n",
    "            # local vars l and preductions get returned from graph variables 'loss' and 'train_prediction'\n",
    "            #    'optimizer' is also evaluated in the graph\n",
    "            _, l, predictions = session.run(\n",
    "                [optimizer, loss, train_prediction], feed_dict=feed_dict\n",
    "            )\n",
    "            \n",
    "            if (step % display_step == 0):\n",
    "                if verbose:\n",
    "                    print('Accuracy (Batch/Validation): %5.1f%% %5.1f%%\\tloss at step %d: %f' % \n",
    "                          (accuracy(predictions, batch_labels),\n",
    "                           accuracy(valid_prediction.eval(), valid_labels),\n",
    "                           step, l))                \n",
    "            \n",
    "                retAcc.append(accuracy(valid_prediction.eval(), valid_labels))\n",
    "\n",
    "            \n",
    "    return(retAcc)         \n",
    "    "
   ]
  },
  {
   "cell_type": "code",
   "execution_count": 48,
   "metadata": {},
   "outputs": [
    {
     "data": {
      "text/plain": [
       "[8.9399999999999995,\n",
       " 54.990000000000002,\n",
       " 70.890000000000001,\n",
       " 76.010000000000005,\n",
       " 79.349999999999994,\n",
       " 77.010000000000005,\n",
       " 80.670000000000002,\n",
       " 79.879999999999995,\n",
       " 81.430000000000007,\n",
       " 80.519999999999996,\n",
       " 82.379999999999995,\n",
       " 81.950000000000003,\n",
       " 82.959999999999994,\n",
       " 83.140000000000001,\n",
       " 83.950000000000003,\n",
       " 84.129999999999995,\n",
       " 84.180000000000007,\n",
       " 82.829999999999998,\n",
       " 84.200000000000003,\n",
       " 84.239999999999995,\n",
       " 84.049999999999997]"
      ]
     },
     "execution_count": 48,
     "metadata": {},
     "output_type": "execute_result"
    }
   ],
   "source": [
    "pool = MaxPoolModel(num_steps=1001, display_step=50, verbose=False)\n",
    "pool"
   ]
  },
  {
   "cell_type": "markdown",
   "metadata": {
    "colab_type": "text",
    "id": "klf21gpbAgb-"
   },
   "source": [
    "---\n",
    "Problem 2\n",
    "---------\n",
    "\n",
    "Try to get the best performance you can using a convolutional net. Look for example at the classic [LeNet5](http://yann.lecun.com/exdb/lenet/) architecture, adding Dropout, and/or adding learning rate decay.\n",
    "\n",
    "reference [LeNet in TensorFlow](https://github.com/sujaybabruwad/LeNet-in-Tensorflow)\n",
    "\n",
    "**Specs**\n",
    "\n",
    "- Input Image is 28x28x1 and converted to 32x32x1 as per LeNet requirements.\n",
    "- Convolution layer 1: The output shape should be 28x28x6.\n",
    "- Activation 1: Your choice of activation function.\n",
    "- Pooling layer 1: The output shape should be 14x14x6.\n",
    "- Convolution layer 2: The output shape should be 10x10x16.\n",
    "- Activation 2: Your choice of activation function.\n",
    "- Pooling layer 2: The output shape should be 5x5x16.\n",
    "- Flatten layer: Flatten the output shape of the final pooling layer such that it's 1D instead of 3D.\n",
    "- Fully connected layer 1: This should have 120 outputs.\n",
    "- Activation 3: Your choice of activation function.\n",
    "- Fully connected layer 2: This should have 10 outputs.\n",
    "- Return the result of the 2nd fully connected layer from the LeNet function.\n",
    "\n",
    "---"
   ]
  },
  {
   "cell_type": "code",
   "execution_count": 49,
   "metadata": {},
   "outputs": [
    {
     "ename": "NameError",
     "evalue": "name 'graph' is not defined",
     "output_type": "error",
     "traceback": [
      "\u001b[1;31m---------------------------------------------------------------------------\u001b[0m",
      "\u001b[1;31mNameError\u001b[0m                                 Traceback (most recent call last)",
      "\u001b[1;32m<ipython-input-49-e50896eaa98f>\u001b[0m in \u001b[0;36m<module>\u001b[1;34m()\u001b[0m\n\u001b[0;32m      4\u001b[0m \u001b[1;33m\u001b[0m\u001b[0m\n\u001b[0;32m      5\u001b[0m \u001b[1;33m\u001b[0m\u001b[0m\n\u001b[1;32m----> 6\u001b[1;33m \u001b[1;32mwith\u001b[0m \u001b[0mtf\u001b[0m\u001b[1;33m.\u001b[0m\u001b[0mSession\u001b[0m\u001b[1;33m(\u001b[0m\u001b[0mgraph\u001b[0m\u001b[1;33m=\u001b[0m\u001b[0mgraph\u001b[0m\u001b[1;33m)\u001b[0m \u001b[1;32mas\u001b[0m \u001b[0msession\u001b[0m\u001b[1;33m:\u001b[0m\u001b[1;33m\u001b[0m\u001b[0m\n\u001b[0m\u001b[0;32m      7\u001b[0m   \u001b[0mtf\u001b[0m\u001b[1;33m.\u001b[0m\u001b[0mglobal_variables_initializer\u001b[0m\u001b[1;33m(\u001b[0m\u001b[1;33m)\u001b[0m\u001b[1;33m.\u001b[0m\u001b[0mrun\u001b[0m\u001b[1;33m(\u001b[0m\u001b[1;33m)\u001b[0m\u001b[1;33m\u001b[0m\u001b[0m\n\u001b[0;32m      8\u001b[0m   \u001b[0mprint\u001b[0m\u001b[1;33m(\u001b[0m\u001b[1;34m'Initialized'\u001b[0m\u001b[1;33m)\u001b[0m\u001b[1;33m\u001b[0m\u001b[0m\n",
      "\u001b[1;31mNameError\u001b[0m: name 'graph' is not defined"
     ]
    }
   ],
   "source": [
    "### TODO put my new model here\n",
    "\n",
    "def GraphLeNet5(x):\n",
    "    \"\"\"\n",
    "    Input a 4D tensor;\n",
    "    Output 4D tensor to use for Logit in Loss optimization\n",
    "    \"\"\"\n",
    "    # used for sedding weights and bias\n",
    "    mu = 0\n",
    "    sigma = 0.1\n",
    "    \n",
    "    # layer1 - convolution (we should use VALID padding and got 32x32 - 28x28; \n",
    "    #    since we have 28x28 input use SAME padding)\n",
    "    #   6 depth layers, and 2 dimension kernel (5x5 filter)\n",
    "    conv1_w = tf.Variable(tf.truncated_normal(shape=[5,5,1,6], mean=mu, stddev=sigma))\n",
    "    conv1_b = tf.Variable(tf.zeros(6))\n",
    "    conv1 = tf.nn.conv2d(x, conv1_w, strides=[1,1,1,1], padding='SAME')\n",
    "    \n",
    "    # now run the activation function\n",
    "    # output is Nx28x28x6\n",
    "    conv1 = tf.nn.relu(conv1 + conv1_b)\n",
    "    \n",
    "\n",
    "\n",
    "    fc2 = fc3_w = fc3_b = 0;\n",
    "    logits = tf.matmul(fc2, fc3_w) + fc3_b\n",
    "    return logits\n",
    "\n",
    "\n",
    "\n",
    "\n",
    "def ModelLeNet5(batch_size=16, patch_size=5, depth=16, num_hidden=64,\n",
    "                 validation_dataset=valid_dataset, verbose=True, \n",
    "                 display_step=50, num_steps = 1001):    \n",
    "\n",
    "    \n",
    "    x = tf.placeholder(tf.float32, (None, 32, 32, 1))\n",
    "    y = tf.placeholder(tf.int32, (None))\n",
    "    one_hot_y = tf.one_hot(y, 10)\n",
    "\n",
    "        # Input data.\n",
    "    tf_train_dataset = tf.placeholder(\n",
    "        tf.float32, shape=(batch_size, image_size, image_size, num_channels))\n",
    "    tf_train_labels = tf.placeholder(tf.float32, shape=(batch_size, num_labels))\n",
    "    tf_valid_dataset = tf.constant(validation_dataset)\n",
    "\n",
    "    \n",
    "    rate = 0.001\n",
    "    logits = LogitLeNet5(tf_train_datset)\n",
    "\n",
    "    # Training computation.\n",
    "    loss = tf.reduce_mean(\n",
    "        tf.nn.softmax_cross_entropy_with_logits(labels=tf_train_labels, logits=logits))\n",
    "    \n",
    "    # Optimizer.\n",
    "    optimizer = tf.train.AdamOptimizer(learning_rate = rate).minimize(loss)\n",
    "\n",
    "    # Predictions for the training, validation, and test data.\n",
    "    train_prediction = tf.nn.softmax(logits)\n",
    "    valid_prediction = tf.nn.softmax(model(tf_valid_dataset))\n",
    "    \n",
    "    correct_prediction = tf.equal(tf.argmax(logits,1), tf.argmax(tf_train_labels,1))\n",
    "    \n",
    "    def evaluate(X_data, y_data):\n",
    "        num_examples = len(X_data)\n",
    "        total_accuracy = 0\n",
    "        sess = tf.get_default_session()\n",
    "        for offset in range(0, num_examples, BATCH_SIZE):  # BATCH_SIZE=16\n",
    "            batch_x, batch_y = X_data[offset:offset+BATCH_SIZE], y_data[offset:offset+BATCH_SIZE]\n",
    "            accuracy = sess.run(ac)\n",
    "            "
   ]
  }
 ],
 "metadata": {
  "colab": {
   "default_view": {},
   "name": "4_convolutions.ipynb",
   "provenance": [],
   "version": "0.3.2",
   "views": {}
  },
  "kernelspec": {
   "display_name": "Python 3",
   "language": "python",
   "name": "python3"
  },
  "language_info": {
   "codemirror_mode": {
    "name": "ipython",
    "version": 3
   },
   "file_extension": ".py",
   "mimetype": "text/x-python",
   "name": "python",
   "nbconvert_exporter": "python",
   "pygments_lexer": "ipython3",
   "version": "3.6.3"
  }
 },
 "nbformat": 4,
 "nbformat_minor": 1
}
