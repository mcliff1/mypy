{
 "cells": [
  {
   "cell_type": "code",
   "execution_count": 1,
   "metadata": {},
   "outputs": [],
   "source": [
    "import nltk\n",
    "import string\n",
    "import random\n",
    "from collections import Counter\n"
   ]
  },
  {
   "cell_type": "code",
   "execution_count": 2,
   "metadata": {},
   "outputs": [],
   "source": [
    "quote = 'xgoy qdl kjtwmzio ego sddoq izkwdle eaoze qdl xoao tyzivjys dy, egze kzvot qdl z t\\'kdao mdtoa'\n",
    "\n",
    "#sample = 'this is just some long random sentence of words that should have some reasonable frequency that can be used to help come up with a key to crack the code.'\n",
    "\n",
    "# lower case letters are \n",
    "string.ascii_lowercase\n",
    "#perms = itertools.permutations(string.ascii_lowercase)\n",
    "#next(perms)\n",
    "#perms[1]\n",
    "#[''.join(p) for p in perms][0]\n",
    "cipher1 = ''.join(random.sample(string.ascii_lowercase, 26))\n",
    "\n",
    "cipher = { 'k': 'M'}\n",
    "\n",
    "def apply_cipher(my_quote, my_cipher):\n",
    "    return ''.join(my_cipher.get(letter, letter) for letter in my_quote)\n",
    "\n",
    "def try_word(my_quote, my_cipher, in_word, out_word):\n",
    "    if len(in_word) == len(out_word):\n",
    "        c2 = my_cipher.copy()\n",
    "        for ndx, letter in enumerate(in_word):\n",
    "            c2[letter] = out_word[ndx]\n",
    "        return apply_cipher(my_quote, c2)\n",
    "    return None\n",
    "\n",
    "#def try_words(my_quote, my_cipher, word_pairs):\n",
    "#    _quote = my_quote\n",
    "#    for pair in word_pairs:\n",
    "#        _quote = try_word(_quote, my_cipher, pair[0], pair[1])\n",
    "#    return _quote"
   ]
  },
  {
   "cell_type": "code",
   "execution_count": 3,
   "metadata": {},
   "outputs": [
    {
     "name": "stdout",
     "output_type": "stream",
     "text": [
      "[' ', 'o', 'd', 'z', 'e', 't', 'y', 'q', 'l', 'k', 'a', 'g', 'i', 'x', 'j', 'w', 'm', 's', 'v', ',', \"'\"]\n",
      "Counter({' ': 16, 'o': 10, 'd': 9, 'z': 7, 'e': 6, 't': 5, 'y': 4, 'q': 4, 'l': 4, 'k': 4, 'a': 4, 'g': 3, 'i': 3, 'x': 2, 'j': 2, 'w': 2, 'm': 2, 's': 2, 'v': 2, ',': 1, \"'\": 1})\n"
     ]
    }
   ],
   "source": [
    "# get a frequency count of everything\n",
    "counts = Counter(quote)\n",
    "# this is a dict, keys are the letters, values are the counts\n",
    "print(sorted(counts, key=counts.get, reverse=True))\n",
    "print(counts)"
   ]
  },
  {
   "cell_type": "code",
   "execution_count": 4,
   "metadata": {},
   "outputs": [
    {
     "data": {
      "text/plain": [
       "\"xgoy qdl Mjtwmzio ego sddoq izMwdle eaoze qdl xoao tyzivjys dy, egze Mzvot qdl z t'Mdao mdtoa\""
      ]
     },
     "execution_count": 4,
     "metadata": {},
     "output_type": "execute_result"
    }
   ],
   "source": [
    "''.join([cipher.get(key, key) for key in quote])"
   ]
  },
  {
   "cell_type": "code",
   "execution_count": 5,
   "metadata": {},
   "outputs": [
    {
     "data": {
      "text/plain": [
       "\"xgoy qdl MjtwmAio ego sddoq iAMwdle eaoAe qdl xoao tyAivjys dy, egAe MAvot qdl A t'Mdao mdtoa\""
      ]
     },
     "execution_count": 5,
     "metadata": {},
     "output_type": "execute_result"
    }
   ],
   "source": [
    "cipher2 = cipher.copy()\n",
    "cipher2['z'] = 'A'\n",
    "apply_cipher(quote, cipher2)"
   ]
  },
  {
   "cell_type": "code",
   "execution_count": 6,
   "metadata": {},
   "outputs": [
    {
     "name": "stdout",
     "output_type": "stream",
     "text": [
      "xgoy THE Mjtwmzio ego sHHoT izMwHEe eaoze THE xoao tyzivjys Hy, egze Mzvot THE z t'MHao mHtoa\n",
      "xgoy FOR Mjtwmzio ego sOOoF izMwORe eaoze FOR xoao tyzivjys Oy, egze Mzvot FOR z t'MOao mOtoa\n",
      "xASy qdl MjtwmziS WAS sddSq izMwdlW WaSzW qdl xSaS tyzivjys dy, WAzW MzvSt qdl z t'MdaS mdtSa\n",
      "xERy qdl MjtwmziR HER sddRq izMwdlH HaRzH qdl xRaR tyzivjys dy, HEzH MzvRt qdl z t'MdaR mdtRa\n",
      "xNDy qdl MjtwmziD END sddDq izMwdlE EaDzE qdl xDaD tyzivjys dy, ENzE MzvDt qdl z t'MdaD mdtDa\n",
      "xHEy qdl MjtwmziE THE sddEq izMwdlT TaEzT qdl xEaE tyzivjys dy, THzT MzvEt qdl z t'MdaE mdtEa\n"
     ]
    }
   ],
   "source": [
    "\n",
    "\n",
    "print(try_word(quote, cipher, 'qdl', 'THE'))\n",
    "print(try_word(quote, cipher, 'qdl', 'FOR'))\n",
    "print(try_word(quote, cipher, 'ego', 'WAS'))\n",
    "print(try_word(quote, cipher, 'ego', 'HER'))\n",
    "print(try_word(quote, cipher, 'ego', 'END'))\n",
    "print(try_word(quote, cipher, 'ego', 'THE'))\n",
    "\n"
   ]
  },
  {
   "cell_type": "code",
   "execution_count": 7,
   "metadata": {},
   "outputs": [
    {
     "data": {
      "text/plain": [
       "\"WHEN YOU MISPLACE THE GOOEY CAMPOUT TREAT YOU WERE SNACKING ON, THAT MAKES YOU A S'MORE LOSER\""
      ]
     },
     "execution_count": 7,
     "metadata": {},
     "output_type": "execute_result"
    }
   ],
   "source": [
    "#try_words(quote, cipher, ['ego', 'THE'])\n",
    "try_word(quote, cipher2, 'egovtamxyijswdlq', 'THEKSRLWNCIGPOUY')"
   ]
  },
  {
   "cell_type": "code",
   "execution_count": 39,
   "metadata": {},
   "outputs": [
    {
     "name": "stdout",
     "output_type": "stream",
     "text": [
      "Counter({' ': 17, 'r': 10, 'x': 7, 'z': 7, 'y': 6, 'u': 6, 'w': 5, 'b': 4, 'l': 4, 'k': 3, 'f': 3, 'h': 3, 'q': 3, 'c': 3, 'p': 3, 'v': 2, 'i': 2, 'd': 2, ',': 1, '?': 1})\n"
     ]
    },
    {
     "data": {
      "text/plain": [
       "'bv x kxLr kwyxl wy iwufry hryr qbfqLl yrvburc xuc kxuuryLl, hqxp hwdLc lwd ixLL bp? frup rrL'"
      ]
     },
     "execution_count": 39,
     "metadata": {},
     "output_type": "execute_result"
    }
   ],
   "source": [
    "# Wed 1/2/19\n",
    "quote = 'bv x kxzr kwyxl wy iwufry hryr qbfqzl yrvburc xuc kxuuryzl, hqxp hwdzc lwd ixzz bp? frup rrz'\n",
    "cipher = {'z': 'L'}\n",
    "counts = Counter(quote)\n",
    "# this is a dict, keys are the letters, values are the counts\n",
    "#print(sorted(counts, key=counts.get, reverse=True))\n",
    "print(counts)\n",
    "apply_cipher(quote, cipher)"
   ]
  },
  {
   "cell_type": "code",
   "execution_count": 60,
   "metadata": {},
   "outputs": [
    {
     "name": "stdout",
     "output_type": "stream",
     "text": [
      "bO A kALE kORAl OR iOSfER HERE qbfqLl REObSEP ASP kASSERLl, HqAp HOdLP lOd iALL bp? fESp EEL\n",
      "bv A GALE GwyAl wy iwufEy hEyE qbfqLl yEvbuEc Auc GAuuEyLl, hqAp hwdLc lwd iALL bp? fEup EEL\n",
      "bv A MALE MwyAl wy iwufEy hEyE qbfqLl yEvbuEc Auc MAuuEyLl, hqAp hwdLc lwd iALL bp? fEup EEL\n",
      "bv A PALE PwyAl wy iwufEy hEyE qbfqLl yEvbuEc Auc PAuuEyLl, hqAp hwdLc lwd iALL bp? fEup EEL\n",
      "bv A TALE TwyAl wy iwufEy hEyE qbfqLl yEvbuEc Auc TAuuEyLl, hqAp hwdLc lwd iALL bp? fEup EEL\n",
      "bv A SALE SwyAl wy iwufEy hEyE qbfqLl yEvbuEc Auc SAuuEyLl, hqAp hwdLc lwd iALL bp? fEup EEL\n",
      "bv A YALE YwyAl wy iwufEy hEyE qbfqLl yEvbuEc Auc YAuuEyLl, hqAp hwdLc lwd iALL bp? fEup EEL\n"
     ]
    }
   ],
   "source": [
    "print(try_word(quote, cipher, 'wrxyuvhc', 'OEARSOHP'))\n",
    "print(try_word(quote, cipher, 'rxk', 'EAG'))\n",
    "print(try_word(quote, cipher, 'rxk', 'EAM'))\n",
    "print(try_word(quote, cipher, 'rxk', 'EAP'))\n",
    "print(try_word(quote, cipher, 'rxk', 'EAT'))\n",
    "print(try_word(quote, cipher, 'rxk', 'EAS'))\n",
    "print(try_word(quote, cipher, 'rxk', 'EAY'))"
   ]
  },
  {
   "cell_type": "code",
   "execution_count": 59,
   "metadata": {},
   "outputs": [
    {
     "name": "stdout",
     "output_type": "stream",
     "text": [
      "bv I FILE FwyIl wy BwufEy hEyE qbfqLl yEvbuEc Iuc FIuuEyLl, hqIp hwdLc lwd BILL bp? fEup EEL\n",
      "bv I MILE MwyIl wy FwufEy hEyE qbfqLl yEvbuEc Iuc MIuuEyLl, hqIp hwdLc lwd FILL bp? fEup EEL\n",
      "bv I PILE PwyIl wy KwufEy hEyE qbfqLl yEvbuEc Iuc PIuuEyLl, hqIp hwdLc lwd KILL bp? fEup EEL\n"
     ]
    }
   ],
   "source": [
    "print(try_word(quote, cipher, 'rxik', 'EIBF'))\n",
    "print(try_word(quote, cipher, 'rxik', 'EIFM'))\n",
    "print(try_word(quote, cipher, 'rxik', 'EIKP'))\n"
   ]
  },
  {
   "cell_type": "code",
   "execution_count": 63,
   "metadata": {},
   "outputs": [
    {
     "name": "stdout",
     "output_type": "stream",
     "text": [
      "bv x kxLE kTOxl TO iTufEO hEOE qbfqLl OEvbuEc xuc kxuuEOLl, hqxp hTdLc lTd ixLL bp? fEup EEL\n",
      "bv I kILE kATIl AT iAufET hETE qbfqLl TEvbuEc Iuc kIuuETLl, hqIp hAdLc lAd iILL bp? fEup EEL\n",
      "bv I kILE kASIl AS iAufES hESE qbfqLl SEvbuEc Iuc kIuuESLl, hqIp hAdLc lAd iILL bp? fEup EEL\n",
      "bv A kALE kISAl IS iIufES hESE qbfqLl SEvbuEc Auc kAuuESLl, hqAp hIdLc lId iALL bp? fEup EEL\n"
     ]
    }
   ],
   "source": [
    "print(try_word(quote, cipher, 'rwy', 'ETO'))\n",
    "print(try_word(quote, cipher, 'rwyx', 'EATI'))\n",
    "print(try_word(quote, cipher, 'rwyx', 'EASI'))\n",
    "print(try_word(quote, cipher, 'rwyx', 'EISA'))"
   ]
  },
  {
   "cell_type": "code",
   "execution_count": 79,
   "metadata": {},
   "outputs": [
    {
     "name": "stdout",
     "output_type": "stream",
     "text": [
      "IF A MALE MORAY OR CONGER WERE HIGHLY REFINED AND MANNERLY, WHAT WOULD YOU CALL IT? GENT EEL\n"
     ]
    }
   ],
   "source": [
    "print(try_word(quote, cipher, 'rbxvphqywdcliufk', 'EIAFTWHROUDYCNGM'))\n"
   ]
  }
 ],
 "metadata": {
  "kernelspec": {
   "display_name": "Python 3",
   "language": "python",
   "name": "python3"
  },
  "language_info": {
   "codemirror_mode": {
    "name": "ipython",
    "version": 3
   },
   "file_extension": ".py",
   "mimetype": "text/x-python",
   "name": "python",
   "nbconvert_exporter": "python",
   "pygments_lexer": "ipython3",
   "version": "3.7.0"
  }
 },
 "nbformat": 4,
 "nbformat_minor": 2
}
