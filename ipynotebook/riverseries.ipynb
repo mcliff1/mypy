{
 "cells": [
  {
   "cell_type": "markdown",
   "metadata": {},
   "source": [
    "The River Series,  start with any root number,  then the next sequence is that number plus the sum of it's digits\n",
    "\n",
    "for instance\n",
    "\n",
    "$$ r(12345) = 12345 + 1 + 2 + 3 + 4 + 5 = 12360 $$\n"
   ]
  },
  {
   "cell_type": "code",
   "execution_count": 6,
   "metadata": {},
   "outputs": [],
   "source": [
    "import math\n",
    "\n",
    "def river_func(n):\n",
    "    \"\"\"\n",
    "    calculate the next number in the river series\n",
    "    \"\"\"\n",
    "    return n + sum(map(int,list(str(n))))\n",
    "\n",
    "assert(river_func(12345) == 12360)"
   ]
  },
  {
   "cell_type": "markdown",
   "metadata": {},
   "source": [
    "\n",
    "### How can I go backwards\n",
    "\n",
    "start with the number and make a list corresponding to that length\n",
    "\n",
    "\n",
    "We try to calculate these n (in our example 5) digits set the problem up as\n",
    "We will treat each $x_i \\in \\mathbb{Z}[0,9]$ written as\n",
    "\n",
    "$$\n",
    "x = x_0 + x_1 * 10 + x_2 * 100 + ... + x_n * 10^n = x_0x_1x_2\\cdots\\,x_n\n",
    "$$\n",
    "\n",
    "Given the input $y$ we want to calculate $x$ as \n",
    "\n",
    "$$\n",
    "\\begin{align}\n",
    "y &= r(x) \\\\\n",
    "y_0 + 10 y_1 + 100 y_2 + \\cdots + 10^n y_n &= x_0 + 10 x_1 + 100 x_2 + ... + 10^n x_n + x_0 + x_1 + x_2 + ... + x_n \\\\\n",
    "  &= 2 x_0 + 11 x_1 + 101 x_2 + ... + (10^n + 1) x_n\n",
    "\\end{align}\n",
    "$$\n",
    "\n",
    "\n",
    "The sequence is bounded by $r(x) < x + 9n$ where $n = log_10 x$,  for up to $n = 11$ we will have $x_k = y_k$ for $k > 3$.  That is from any 3 to 11 digit number the next value in river sequence will only be up to 2 digit in length. \n",
    "\n",
    "We now solve for integers in $[0,9]$ for $x_i$ that satisfy\n",
    "$$\n",
    "\\begin{align}\n",
    "2 x_0 + 11 x_1 + 101 x_2 = y -  \\sum_{k=3}^n (10^k + 1) y_k := Y_0\n",
    "\\end{align}\n",
    "$$\n",
    "\n",
    "\n",
    "Well that isn't going to work if I add a digit,  instead let's just brute force to check if we have any possible upstream numbers  for max(n/2, 9*log n) -> n-1"
   ]
  },
  {
   "cell_type": "code",
   "execution_count": 25,
   "metadata": {},
   "outputs": [
    {
     "name": "stdout",
     "output_type": "stream",
     "text": [
      "5\n",
      "82\n",
      "1\n"
     ]
    }
   ],
   "source": [
    "def lower_bound(n):\n",
    "    \"\"\" at min double, more likle limit to - 9* number of digits\n",
    "    \"\"\"\n",
    "    return max(int(n/2), n-9* math.ceil(math.log(n,10)))\n",
    "print(lower_bound(10))\n",
    "print(lower_bound(100))\n",
    "print(lower_bound(2))"
   ]
  },
  {
   "cell_type": "code",
   "execution_count": 29,
   "metadata": {},
   "outputs": [
    {
     "data": {
      "text/plain": [
       "[15]"
      ]
     },
     "execution_count": 29,
     "metadata": {},
     "output_type": "execute_result"
    }
   ],
   "source": [
    "#  now make a list of numbers that could be up river\n",
    "def find_upstream(n):\n",
    "    if n == 2: return [1] # edge case\n",
    "    return [x for x in range(lower_bound(n), n-1) if river_func(x) == n]\n",
    "    \n",
    "find_upstream(21)"
   ]
  }
 ],
 "metadata": {
  "kernelspec": {
   "display_name": "Python 3",
   "language": "python",
   "name": "python3"
  },
  "language_info": {
   "codemirror_mode": {
    "name": "ipython",
    "version": 3
   },
   "file_extension": ".py",
   "mimetype": "text/x-python",
   "name": "python",
   "nbconvert_exporter": "python",
   "pygments_lexer": "ipython3",
   "version": "3.7.0"
  }
 },
 "nbformat": 4,
 "nbformat_minor": 2
}
