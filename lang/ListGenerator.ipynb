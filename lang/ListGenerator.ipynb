{
 "cells": [
  {
   "cell_type": "markdown",
   "metadata": {},
   "source": [
    "## Lists and generators\n",
    "\n",
    "I want to make a function that will detect the location of increases in a large, generally decreasing dataset\n",
    "\n"
   ]
  },
  {
   "cell_type": "code",
   "execution_count": 5,
   "metadata": {},
   "outputs": [
    {
     "name": "stdout",
     "output_type": "stream",
     "text": [
      "[2, 6]\n"
     ]
    }
   ],
   "source": [
    "a = [9, 8, 7, 9, 6, 5, 4, 9, 3, 2, 1, 0]\n",
    "\n",
    "def inc1(in_list):\n",
    "    delta = [in_list[ndx+1] - in_list[ndx] for ndx in range(len(in_list)-1)]\n",
    "    return [i for i,v in enumerate(delta) if v > 0]   \n",
    "\n",
    "print(inc1(a))"
   ]
  },
  {
   "cell_type": "code",
   "execution_count": 13,
   "metadata": {},
   "outputs": [
    {
     "name": "stdout",
     "output_type": "stream",
     "text": [
      "[2, 6]\n"
     ]
    }
   ],
   "source": [
    "def inc2(in_list):\n",
    "    def delta_generator():\n",
    "        for ndx in range(len(in_list)-1):\n",
    "            if in_list[ndx+1] - in_list[ndx] > 0:\n",
    "                yield ndx\n",
    "        #raise StopIteration\n",
    "    #delta = [in_list[ndx+1] - in_list[ndx] for ndx in range(len(in_list)-1)]\n",
    "    return list(delta_generator())\n",
    "\n",
    "print(inc2(a))"
   ]
  }
 ],
 "metadata": {
  "kernelspec": {
   "display_name": "Python 3",
   "language": "python",
   "name": "python3"
  },
  "language_info": {
   "codemirror_mode": {
    "name": "ipython",
    "version": 3
   },
   "file_extension": ".py",
   "mimetype": "text/x-python",
   "name": "python",
   "nbconvert_exporter": "python",
   "pygments_lexer": "ipython3",
   "version": "3.7.0"
  }
 },
 "nbformat": 4,
 "nbformat_minor": 2
}
