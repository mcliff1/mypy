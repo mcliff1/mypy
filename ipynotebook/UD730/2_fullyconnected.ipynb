{
 "cells": [
  {
   "cell_type": "markdown",
   "metadata": {
    "colab_type": "text",
    "id": "kR-4eNdK6lYS"
   },
   "source": [
    "Deep Learning\n",
    "=============\n",
    "\n",
    "Assignment 2\n",
    "------------\n",
    "\n",
    "Previously in `1_notmnist.ipynb`, we created a pickle with formatted datasets for training, development and testing on the [notMNIST dataset](http://yaroslavvb.blogspot.com/2011/09/notmnist-dataset.html).\n",
    "\n",
    "The goal of this assignment is to progressively train deeper and more accurate models using TensorFlow."
   ]
  },
  {
   "cell_type": "code",
   "execution_count": 1,
   "metadata": {
    "cellView": "both",
    "colab": {
     "autoexec": {
      "startup": false,
      "wait_interval": 0
     }
    },
    "colab_type": "code",
    "id": "JLpLa8Jt7Vu4"
   },
   "outputs": [
    {
     "name": "stderr",
     "output_type": "stream",
     "text": [
      "C:\\Users\\Matt\\Anaconda3\\lib\\site-packages\\h5py\\__init__.py:34: FutureWarning: Conversion of the second argument of issubdtype from `float` to `np.floating` is deprecated. In future, it will be treated as `np.float64 == np.dtype(float).type`.\n",
      "  from ._conv import register_converters as _register_converters\n"
     ]
    }
   ],
   "source": [
    "# These are all the modules we'll be using later. Make sure you can import them\n",
    "# before proceeding further.\n",
    "from __future__ import print_function\n",
    "import numpy as np\n",
    "import tensorflow as tf\n",
    "from six.moves import cPickle as pickle\n",
    "from six.moves import range"
   ]
  },
  {
   "cell_type": "markdown",
   "metadata": {
    "colab_type": "text",
    "id": "1HrCK6e17WzV"
   },
   "source": [
    "First reload the data we generated in `1_notmnist.ipynb`."
   ]
  },
  {
   "cell_type": "code",
   "execution_count": 2,
   "metadata": {
    "cellView": "both",
    "colab": {
     "autoexec": {
      "startup": false,
      "wait_interval": 0
     },
     "output_extras": [
      {
       "item_id": 1
      }
     ]
    },
    "colab_type": "code",
    "executionInfo": {
     "elapsed": 19456,
     "status": "ok",
     "timestamp": 1449847956073,
     "user": {
      "color": "",
      "displayName": "",
      "isAnonymous": false,
      "isMe": true,
      "permissionId": "",
      "photoUrl": "",
      "sessionId": "0",
      "userId": ""
     },
     "user_tz": 480
    },
    "id": "y3-cj1bpmuxc",
    "outputId": "0ddb1607-1fc4-4ddb-de28-6c7ab7fb0c33"
   },
   "outputs": [
    {
     "name": "stdout",
     "output_type": "stream",
     "text": [
      "Training set (200000, 28, 28) (200000,)\n",
      "Validation set (10000, 28, 28) (10000,)\n",
      "Test set (10000, 28, 28) (10000,)\n"
     ]
    }
   ],
   "source": [
    "pickle_file = 'notMNIST.pickle'\n",
    "\n",
    "with open(pickle_file, 'rb') as f:\n",
    "  save = pickle.load(f)\n",
    "  train_dataset = save['train_dataset']\n",
    "  train_labels = save['train_labels']\n",
    "  valid_dataset = save['valid_dataset']\n",
    "  valid_labels = save['valid_labels']\n",
    "  test_dataset = save['test_dataset']\n",
    "  test_labels = save['test_labels']\n",
    "  del save  # hint to help gc free up memory\n",
    "  print('Training set', train_dataset.shape, train_labels.shape)\n",
    "  print('Validation set', valid_dataset.shape, valid_labels.shape)\n",
    "  print('Test set', test_dataset.shape, test_labels.shape)"
   ]
  },
  {
   "cell_type": "markdown",
   "metadata": {
    "colab_type": "text",
    "id": "L7aHrm6nGDMB"
   },
   "source": [
    "Reformat into a shape that's more adapted to the models we're going to train:\n",
    "- data as a flat matrix,\n",
    "- labels as float 1-hot encodings."
   ]
  },
  {
   "cell_type": "code",
   "execution_count": 3,
   "metadata": {
    "cellView": "both",
    "colab": {
     "autoexec": {
      "startup": false,
      "wait_interval": 0
     },
     "output_extras": [
      {
       "item_id": 1
      }
     ]
    },
    "colab_type": "code",
    "executionInfo": {
     "elapsed": 19723,
     "status": "ok",
     "timestamp": 1449847956364,
     "user": {
      "color": "",
      "displayName": "",
      "isAnonymous": false,
      "isMe": true,
      "permissionId": "",
      "photoUrl": "",
      "sessionId": "0",
      "userId": ""
     },
     "user_tz": 480
    },
    "id": "IRSyYiIIGIzS",
    "outputId": "2ba0fc75-1487-4ace-a562-cf81cae82793"
   },
   "outputs": [
    {
     "name": "stdout",
     "output_type": "stream",
     "text": [
      "Training set (200000, 784) (200000, 10)\n",
      "Validation set (10000, 784) (10000, 10)\n",
      "Test set (10000, 784) (10000, 10)\n"
     ]
    }
   ],
   "source": [
    "image_size = 28\n",
    "num_labels = 10\n",
    "\n",
    "def reformat(dataset, labels):\n",
    "  dataset = dataset.reshape((-1, image_size * image_size)).astype(np.float32)\n",
    "  # Map 0 to [1.0, 0.0, 0.0 ...], 1 to [0.0, 1.0, 0.0 ...]\n",
    "  labels = (np.arange(num_labels) == labels[:,None]).astype(np.float32)\n",
    "  return dataset, labels\n",
    "train_dataset, train_labels = reformat(train_dataset, train_labels)\n",
    "valid_dataset, valid_labels = reformat(valid_dataset, valid_labels)\n",
    "test_dataset, test_labels = reformat(test_dataset, test_labels)\n",
    "print('Training set', train_dataset.shape, train_labels.shape)\n",
    "print('Validation set', valid_dataset.shape, valid_labels.shape)\n",
    "print('Test set', test_dataset.shape, test_labels.shape)"
   ]
  },
  {
   "cell_type": "markdown",
   "metadata": {
    "colab_type": "text",
    "id": "nCLVqyQ5vPPH"
   },
   "source": [
    "We're first going to train a multinomial logistic regression using simple gradient descent.\n",
    "\n",
    "TensorFlow works like this:\n",
    "* First you describe the computation that you want to see performed: what the inputs, the variables, and the operations look like. These get created as nodes over a computation graph. This description is all contained within the block below:\n",
    "\n",
    "      with graph.as_default():\n",
    "          ...\n",
    "\n",
    "* Then you can run the operations on this graph as many times as you want by calling `session.run()`, providing it outputs to fetch from the graph that get returned. This runtime operation is all contained in the block below:\n",
    "\n",
    "      with tf.Session(graph=graph) as session:\n",
    "          ...\n",
    "\n",
    "Let's load all the data into TensorFlow and build the computation graph corresponding to our training:"
   ]
  },
  {
   "cell_type": "code",
   "execution_count": 4,
   "metadata": {
    "cellView": "both",
    "colab": {
     "autoexec": {
      "startup": false,
      "wait_interval": 0
     }
    },
    "colab_type": "code",
    "collapsed": true,
    "id": "Nfv39qvtvOl_"
   },
   "outputs": [],
   "source": [
    "# With gradient descent training, even this much data is prohibitive.\n",
    "# Subset the training data for faster turnaround.\n",
    "train_subset = 10000\n",
    "\n",
    "graph = tf.Graph()\n",
    "with graph.as_default():\n",
    "\n",
    "  # Input data.\n",
    "  # Load the training, validation and test data into constants that are\n",
    "  # attached to the graph.\n",
    "  tf_train_dataset = tf.constant(train_dataset[:train_subset, :])\n",
    "  tf_train_labels = tf.constant(train_labels[:train_subset])\n",
    "  tf_valid_dataset = tf.constant(valid_dataset)\n",
    "  tf_test_dataset = tf.constant(test_dataset)\n",
    "  \n",
    "  # Variables.\n",
    "  # These are the parameters that we are going to be training. The weight\n",
    "  # matrix will be initialized using random values following a (truncated)\n",
    "  # normal distribution. The biases get initialized to zero.\n",
    "  weights = tf.Variable(\n",
    "    tf.truncated_normal([image_size * image_size, num_labels]))\n",
    "  biases = tf.Variable(tf.zeros([num_labels]))\n",
    "  \n",
    "  # Training computation.\n",
    "  # We multiply the inputs with the weight matrix, and add biases. We compute\n",
    "  # the softmax and cross-entropy (it's one operation in TensorFlow, because\n",
    "  # it's very common, and it can be optimized). We take the average of this\n",
    "  # cross-entropy across all training examples: that's our loss.\n",
    "  logits = tf.matmul(tf_train_dataset, weights) + biases\n",
    "  loss = tf.reduce_mean(\n",
    "    tf.nn.softmax_cross_entropy_with_logits(labels=tf_train_labels, logits=logits))\n",
    "  \n",
    "  # Optimizer.\n",
    "  # We are going to find the minimum of this loss using gradient descent.\n",
    "  optimizer = tf.train.GradientDescentOptimizer(0.5).minimize(loss)\n",
    "  \n",
    "  # Predictions for the training, validation, and test data.\n",
    "  # These are not part of training, but merely here so that we can report\n",
    "  # accuracy figures as we train.\n",
    "  train_prediction = tf.nn.softmax(logits)\n",
    "  valid_prediction = tf.nn.softmax(\n",
    "    tf.matmul(tf_valid_dataset, weights) + biases)\n",
    "  test_prediction = tf.nn.softmax(tf.matmul(tf_test_dataset, weights) + biases)"
   ]
  },
  {
   "cell_type": "markdown",
   "metadata": {
    "colab_type": "text",
    "id": "KQcL4uqISHjP"
   },
   "source": [
    "Let's run this computation and iterate:"
   ]
  },
  {
   "cell_type": "code",
   "execution_count": 5,
   "metadata": {
    "cellView": "both",
    "colab": {
     "autoexec": {
      "startup": false,
      "wait_interval": 0
     },
     "output_extras": [
      {
       "item_id": 9
      }
     ]
    },
    "colab_type": "code",
    "executionInfo": {
     "elapsed": 57454,
     "status": "ok",
     "timestamp": 1449847994134,
     "user": {
      "color": "",
      "displayName": "",
      "isAnonymous": false,
      "isMe": true,
      "permissionId": "",
      "photoUrl": "",
      "sessionId": "0",
      "userId": ""
     },
     "user_tz": 480
    },
    "id": "z2cjdenH869W",
    "outputId": "4c037ba1-b526-4d8e-e632-91e2a0333267"
   },
   "outputs": [
    {
     "name": "stdout",
     "output_type": "stream",
     "text": [
      "Initialized\n",
      "Loss at step 0: 33.747356\n",
      "Training accuracy: 10.6%\n",
      "Validation accuracy: 18.0%\n",
      "Loss at step 100: 3.624777\n",
      "Training accuracy: 73.8%\n",
      "Validation accuracy: 72.2%\n",
      "Loss at step 200: 2.709112\n",
      "Training accuracy: 76.1%\n",
      "Validation accuracy: 73.2%\n",
      "Loss at step 300: 2.229311\n",
      "Training accuracy: 77.3%\n",
      "Validation accuracy: 73.5%\n",
      "Loss at step 400: 1.916582\n",
      "Training accuracy: 78.0%\n",
      "Validation accuracy: 73.8%\n",
      "Loss at step 500: 1.688919\n",
      "Training accuracy: 78.8%\n",
      "Validation accuracy: 74.0%\n",
      "Loss at step 600: 1.513106\n",
      "Training accuracy: 79.5%\n",
      "Validation accuracy: 73.9%\n",
      "Loss at step 700: 1.372640\n",
      "Training accuracy: 80.2%\n",
      "Validation accuracy: 73.9%\n",
      "Loss at step 800: 1.257708\n",
      "Training accuracy: 80.8%\n",
      "Validation accuracy: 73.8%\n",
      "Loss at step 900: 1.161835\n",
      "Training accuracy: 81.5%\n",
      "Validation accuracy: 73.8%\n",
      "Loss at step 1000: 1.080622\n",
      "Training accuracy: 82.0%\n",
      "Validation accuracy: 73.8%\n",
      "Loss at step 1100: 1.010991\n",
      "Training accuracy: 82.5%\n",
      "Validation accuracy: 73.9%\n",
      "Loss at step 1200: 0.950719\n",
      "Training accuracy: 82.8%\n",
      "Validation accuracy: 73.9%\n",
      "Loss at step 1300: 0.898113\n",
      "Training accuracy: 83.2%\n",
      "Validation accuracy: 73.8%\n",
      "Loss at step 1400: 0.851842\n",
      "Training accuracy: 83.5%\n",
      "Validation accuracy: 73.6%\n",
      "Loss at step 1500: 0.810853\n",
      "Training accuracy: 83.8%\n",
      "Validation accuracy: 73.8%\n",
      "Loss at step 1600: 0.789981\n",
      "Training accuracy: 83.8%\n",
      "Validation accuracy: 73.7%\n",
      "Loss at step 1700: 0.756183\n",
      "Training accuracy: 84.3%\n",
      "Validation accuracy: 73.9%\n",
      "Loss at step 1800: 0.728285\n",
      "Training accuracy: 84.5%\n",
      "Validation accuracy: 74.0%\n",
      "Test accuracy: 81.5%\n"
     ]
    }
   ],
   "source": [
    "num_steps = 1801\n",
    "\n",
    "def accuracy(predictions, labels):\n",
    "  return (100.0 * np.sum(np.argmax(predictions, 1) == np.argmax(labels, 1))\n",
    "          / predictions.shape[0])\n",
    "\n",
    "with tf.Session(graph=graph) as session:\n",
    "  # This is a one-time operation which ensures the parameters get initialized as\n",
    "  # we described in the graph: random weights for the matrix, zeros for the\n",
    "  # biases. \n",
    "  tf.global_variables_initializer().run()\n",
    "  print('Initialized')\n",
    "  for step in range(num_steps):\n",
    "    # Run the computations. We tell .run() that we want to run the optimizer,\n",
    "    # and get the loss value and the training predictions returned as numpy\n",
    "    # arrays.\n",
    "    _, l, predictions = session.run([optimizer, loss, train_prediction])\n",
    "    if (step % 100 == 0):\n",
    "      print('Loss at step %d: %f' % (step, l))\n",
    "      print('Training accuracy: %.1f%%' % accuracy(\n",
    "        predictions, train_labels[:train_subset, :]))\n",
    "      # Calling .eval() on valid_prediction is basically like calling run(), but\n",
    "      # just to get that one numpy array. Note that it recomputes all its graph\n",
    "      # dependencies.\n",
    "      print('Validation accuracy: %.1f%%' % accuracy(\n",
    "        valid_prediction.eval(), valid_labels))\n",
    "  print('Test accuracy: %.1f%%' % accuracy(test_prediction.eval(), test_labels))"
   ]
  },
  {
   "cell_type": "markdown",
   "metadata": {
    "colab_type": "text",
    "id": "x68f-hxRGm3H"
   },
   "source": [
    "Let's now switch to stochastic gradient descent training instead, which is much faster.\n",
    "\n",
    "The graph will be similar, except that instead of holding all the training data into a constant node, we create a `Placeholder` node which will be fed actual data at every call of `session.run()`."
   ]
  },
  {
   "cell_type": "code",
   "execution_count": 6,
   "metadata": {
    "cellView": "both",
    "colab": {
     "autoexec": {
      "startup": false,
      "wait_interval": 0
     }
    },
    "colab_type": "code",
    "collapsed": true,
    "id": "qhPMzWYRGrzM"
   },
   "outputs": [],
   "source": [
    "batch_size = 128\n",
    "\n",
    "graph = tf.Graph()\n",
    "with graph.as_default():\n",
    "\n",
    "  # Input data. For the training data, we use a placeholder that will be fed\n",
    "  # at run time with a training minibatch.\n",
    "  tf_train_dataset = tf.placeholder(tf.float32,\n",
    "                                    shape=(batch_size, image_size * image_size))\n",
    "  tf_train_labels = tf.placeholder(tf.float32, shape=(batch_size, num_labels))\n",
    "  tf_valid_dataset = tf.constant(valid_dataset)\n",
    "  tf_test_dataset = tf.constant(test_dataset)\n",
    "  \n",
    "  # Variables.\n",
    "  weights = tf.Variable(\n",
    "    tf.truncated_normal([image_size * image_size, num_labels]))\n",
    "  biases = tf.Variable(tf.zeros([num_labels]))\n",
    "  \n",
    "  # Training computation.\n",
    "  logits = tf.matmul(tf_train_dataset, weights) + biases\n",
    "  loss = tf.reduce_mean(\n",
    "    tf.nn.softmax_cross_entropy_with_logits(labels=tf_train_labels, logits=logits))\n",
    "  \n",
    "  # Optimizer.\n",
    "  optimizer = tf.train.GradientDescentOptimizer(0.5).minimize(loss)\n",
    "  \n",
    "  # Predictions for the training, validation, and test data.\n",
    "  train_prediction = tf.nn.softmax(logits)\n",
    "  valid_prediction = tf.nn.softmax(\n",
    "    tf.matmul(tf_valid_dataset, weights) + biases)\n",
    "  test_prediction = tf.nn.softmax(tf.matmul(tf_test_dataset, weights) + biases)"
   ]
  },
  {
   "cell_type": "markdown",
   "metadata": {
    "colab_type": "text",
    "id": "XmVZESmtG4JH"
   },
   "source": [
    "Let's run it:"
   ]
  },
  {
   "cell_type": "code",
   "execution_count": 7,
   "metadata": {
    "cellView": "both",
    "colab": {
     "autoexec": {
      "startup": false,
      "wait_interval": 0
     },
     "output_extras": [
      {
       "item_id": 6
      }
     ]
    },
    "colab_type": "code",
    "executionInfo": {
     "elapsed": 66292,
     "status": "ok",
     "timestamp": 1449848003013,
     "user": {
      "color": "",
      "displayName": "",
      "isAnonymous": false,
      "isMe": true,
      "permissionId": "",
      "photoUrl": "",
      "sessionId": "0",
      "userId": ""
     },
     "user_tz": 480
    },
    "id": "FoF91pknG_YW",
    "outputId": "d255c80e-954d-4183-ca1c-c7333ce91d0a"
   },
   "outputs": [
    {
     "name": "stdout",
     "output_type": "stream",
     "text": [
      "Initialized\n",
      "Minibatch loss at step 0: 34.056267\n",
      "Minibatch accuracy: 9.4%\n",
      "Validation accuracy: 14.4%\n",
      "Minibatch loss at step 500: 1.868928\n",
      "Minibatch accuracy: 79.7%\n",
      "Validation accuracy: 74.6%\n",
      "Minibatch loss at step 1000: 1.779164\n",
      "Minibatch accuracy: 77.3%\n",
      "Validation accuracy: 75.3%\n",
      "Minibatch loss at step 1500: 1.209214\n",
      "Minibatch accuracy: 82.0%\n",
      "Validation accuracy: 76.0%\n",
      "Minibatch loss at step 2000: 1.391909\n",
      "Minibatch accuracy: 79.7%\n",
      "Validation accuracy: 74.9%\n",
      "Minibatch loss at step 2500: 1.551426\n",
      "Minibatch accuracy: 71.9%\n",
      "Validation accuracy: 76.4%\n",
      "Minibatch loss at step 3000: 1.511723\n",
      "Minibatch accuracy: 76.6%\n",
      "Validation accuracy: 78.4%\n",
      "Test accuracy: 85.4%\n"
     ]
    }
   ],
   "source": [
    "num_steps = 3001\n",
    "\n",
    "with tf.Session(graph=graph) as session:\n",
    "  tf.global_variables_initializer().run()\n",
    "  print(\"Initialized\")\n",
    "  for step in range(num_steps):\n",
    "    # Pick an offset within the training data, which has been randomized.\n",
    "    # Note: we could use better randomization across epochs.\n",
    "    offset = (step * batch_size) % (train_labels.shape[0] - batch_size)\n",
    "    # Generate a minibatch.\n",
    "    batch_data = train_dataset[offset:(offset + batch_size), :]\n",
    "    batch_labels = train_labels[offset:(offset + batch_size), :]\n",
    "    # Prepare a dictionary telling the session where to feed the minibatch.\n",
    "    # The key of the dictionary is the placeholder node of the graph to be fed,\n",
    "    # and the value is the numpy array to feed to it.\n",
    "    feed_dict = {tf_train_dataset : batch_data, tf_train_labels : batch_labels}\n",
    "    _, l, predictions = session.run(\n",
    "      [optimizer, loss, train_prediction], feed_dict=feed_dict)\n",
    "    if (step % 500 == 0):\n",
    "      print(\"Minibatch loss at step %d: %f\" % (step, l))\n",
    "      print(\"Minibatch accuracy: %.1f%%\" % accuracy(predictions, batch_labels))\n",
    "      print(\"Validation accuracy: %.1f%%\" % accuracy(\n",
    "        valid_prediction.eval(), valid_labels))\n",
    "  print(\"Test accuracy: %.1f%%\" % accuracy(test_prediction.eval(), test_labels))"
   ]
  },
  {
   "cell_type": "markdown",
   "metadata": {
    "colab_type": "text",
    "id": "7omWxtvLLxik"
   },
   "source": [
    "---\n",
    "Problem\n",
    "-------\n",
    "\n",
    "Turn the logistic regression example with SGD into a 1-hidden layer neural network with rectified linear units [nn.relu()](https://www.tensorflow.org/versions/r0.7/api_docs/python/nn.html#relu) and 1024 hidden nodes. This model should improve your validation / test accuracy.\n",
    "\n",
    "Rewrite $x * W_1 + b_1 = x' * W_1'$ really think of this as $\\sum X_k W_k + b_k$ where $k = 0$ and $X_0 = 1$\n",
    "\n",
    "Example from [vinhkhuc](https://gist.github.com/vinhkhuc/e53a70f9e5c3f55852b0)\n",
    "\n",
    "---"
   ]
  },
  {
   "cell_type": "code",
   "execution_count": 8,
   "metadata": {
    "collapsed": true
   },
   "outputs": [],
   "source": [
    "# Start off with the same code from SGD\n",
    "hidden_size = 1024 \n",
    "input_size = image_size * image_size + 1\n",
    "output_size = 10\n",
    "\n",
    "\n",
    "def init_weights(shape):\n",
    "    weights = tf.random_normal(shape, stddev=0.1)\n",
    "    return tf.Variable(weights)\n",
    "\n",
    "\n",
    "def forwardprop(X, w_1, w_2):\n",
    "    \"\"\"\n",
    "    yhat is not softmax since Tensorflows softmax_cross_entropy_with_logits does that\n",
    "    \"\"\"\n",
    "    # convert this to use relu instead of sigmoid\n",
    "    h = tf.nn.sigmoid(tf.matmul(X,w_1)) # the \\sigma function\n",
    "    #h = tf.nn.relu(tf.matmul(X,w_1)) # the \\sigma function\n",
    "    yhat = tf.matmul(h, w_2) # the \\varphi function\n",
    "    return yhat\n",
    "\n",
    "\n",
    "\n",
    "graph = tf.Graph()\n",
    "with graph.as_default():\n",
    "\n",
    "    X = tf.placeholder(tf.float32, shape=[None, image_size * image_size + 1])\n",
    "    y = tf.placeholder(tf.float32, shape=[None, num_labels])\n",
    "    #tf_valid_dataset = tf.constant(valid_dataset)\n",
    "    #tf_test_dataset = tf.constant(test_dataset)\n",
    "    \n",
    "    \n",
    "    w1 = init_weights((input_size, hidden_size))\n",
    "    w2 = init_weights((hidden_size, output_size))\n",
    "\n",
    "    # forward propagation\n",
    "    yhat = forwardprop(X, w1, w2)\n",
    "    predict = tf.argmax(yhat, axis=1)\n",
    "    \n",
    "    # backward propagation (cost)\n",
    "    loss = tf.reduce_mean(tf.nn.softmax_cross_entropy_with_logits(labels=y, logits=yhat))\n",
    "    #  this seems to work, but I'm not sure where predict comes into play here\n",
    "    optimizer = tf.train.GradientDescentOptimizer(0.1).minimize(loss)\n",
    "    \n",
    "\n"
   ]
  },
  {
   "cell_type": "markdown",
   "metadata": {},
   "source": [
    "We are now ready to run this\n"
   ]
  },
  {
   "cell_type": "code",
   "execution_count": 9,
   "metadata": {},
   "outputs": [
    {
     "name": "stdout",
     "output_type": "stream",
     "text": [
      "Initialized\n",
      "Epoch =  0, training accuracy = 13.48%, test accuracy = 13.50%, valid accuracy = 12.96%\n",
      "Epoch =  1, training accuracy = 28.87%, test accuracy = 31.76%, valid accuracy = 29.10%\n",
      "Epoch =  2, training accuracy = 23.70%, test accuracy = 24.90%, valid accuracy = 23.45%\n",
      "Epoch =  3, training accuracy = 37.10%, test accuracy = 41.04%, valid accuracy = 36.95%\n",
      "Epoch =  4, training accuracy = 40.45%, test accuracy = 44.32%, valid accuracy = 40.19%\n",
      "Epoch =  5, training accuracy = 40.28%, test accuracy = 44.09%, valid accuracy = 40.48%\n",
      "Epoch =  6, training accuracy = 43.73%, test accuracy = 46.37%, valid accuracy = 42.92%\n",
      "Epoch =  7, training accuracy = 45.77%, test accuracy = 50.18%, valid accuracy = 45.34%\n",
      "Epoch =  8, training accuracy = 52.80%, test accuracy = 57.71%, valid accuracy = 52.42%\n",
      "Epoch =  9, training accuracy = 55.02%, test accuracy = 60.47%, valid accuracy = 55.21%\n",
      "Epoch = 10, training accuracy = 58.72%, test accuracy = 64.16%, valid accuracy = 58.40%\n",
      "Epoch = 11, training accuracy = 63.35%, test accuracy = 69.28%, valid accuracy = 62.45%\n",
      "Epoch = 12, training accuracy = 69.06%, test accuracy = 75.85%, valid accuracy = 68.32%\n",
      "Epoch = 13, training accuracy = 69.39%, test accuracy = 76.45%, valid accuracy = 68.71%\n",
      "Epoch = 14, training accuracy = 70.81%, test accuracy = 77.73%, valid accuracy = 69.89%\n",
      "Epoch = 15, training accuracy = 69.07%, test accuracy = 75.10%, valid accuracy = 68.17%\n",
      "Epoch = 16, training accuracy = 66.95%, test accuracy = 73.74%, valid accuracy = 66.53%\n",
      "Epoch = 17, training accuracy = 65.42%, test accuracy = 70.80%, valid accuracy = 64.59%\n",
      "Epoch = 18, training accuracy = 69.11%, test accuracy = 75.73%, valid accuracy = 68.67%\n",
      "Epoch = 19, training accuracy = 66.34%, test accuracy = 72.03%, valid accuracy = 65.56%\n",
      "Epoch = 20, training accuracy = 70.47%, test accuracy = 77.34%, valid accuracy = 70.21%\n",
      "Epoch = 21, training accuracy = 72.97%, test accuracy = 79.31%, valid accuracy = 72.65%\n",
      "Epoch = 22, training accuracy = 71.25%, test accuracy = 77.83%, valid accuracy = 70.57%\n",
      "Epoch = 23, training accuracy = 73.22%, test accuracy = 79.08%, valid accuracy = 72.39%\n",
      "Epoch = 24, training accuracy = 72.61%, test accuracy = 79.31%, valid accuracy = 72.17%\n",
      "Epoch = 25, training accuracy = 74.87%, test accuracy = 81.44%, valid accuracy = 74.08%\n",
      "Epoch = 26, training accuracy = 75.47%, test accuracy = 82.35%, valid accuracy = 74.40%\n",
      "Epoch = 27, training accuracy = 74.98%, test accuracy = 81.39%, valid accuracy = 74.54%\n",
      "Epoch = 28, training accuracy = 73.68%, test accuracy = 80.21%, valid accuracy = 72.39%\n",
      "Epoch = 29, training accuracy = 73.83%, test accuracy = 80.43%, valid accuracy = 73.54%\n",
      "Epoch = 30, training accuracy = 75.33%, test accuracy = 82.21%, valid accuracy = 74.42%\n",
      "Epoch = 31, training accuracy = 74.59%, test accuracy = 80.84%, valid accuracy = 73.69%\n",
      "Epoch = 32, training accuracy = 74.94%, test accuracy = 81.64%, valid accuracy = 74.09%\n",
      "Epoch = 33, training accuracy = 75.19%, test accuracy = 81.58%, valid accuracy = 74.39%\n",
      "Epoch = 34, training accuracy = 75.07%, test accuracy = 82.00%, valid accuracy = 74.14%\n",
      "Epoch = 35, training accuracy = 76.12%, test accuracy = 82.86%, valid accuracy = 75.59%\n",
      "Epoch = 36, training accuracy = 76.64%, test accuracy = 83.49%, valid accuracy = 75.68%\n",
      "Epoch = 37, training accuracy = 76.84%, test accuracy = 83.34%, valid accuracy = 76.04%\n",
      "Epoch = 38, training accuracy = 77.80%, test accuracy = 84.57%, valid accuracy = 77.06%\n",
      "Epoch = 39, training accuracy = 76.94%, test accuracy = 83.76%, valid accuracy = 76.21%\n",
      "Epoch = 40, training accuracy = 77.05%, test accuracy = 83.58%, valid accuracy = 76.35%\n",
      "Epoch = 41, training accuracy = 77.54%, test accuracy = 84.14%, valid accuracy = 76.37%\n",
      "Epoch = 42, training accuracy = 78.16%, test accuracy = 84.99%, valid accuracy = 77.41%\n",
      "Epoch = 43, training accuracy = 77.44%, test accuracy = 83.98%, valid accuracy = 76.67%\n",
      "Epoch = 44, training accuracy = 78.34%, test accuracy = 85.07%, valid accuracy = 77.58%\n",
      "Epoch = 45, training accuracy = 77.71%, test accuracy = 84.40%, valid accuracy = 76.58%\n",
      "Epoch = 46, training accuracy = 77.54%, test accuracy = 84.29%, valid accuracy = 76.64%\n",
      "Epoch = 47, training accuracy = 77.66%, test accuracy = 84.38%, valid accuracy = 77.03%\n",
      "Epoch = 48, training accuracy = 77.92%, test accuracy = 84.47%, valid accuracy = 76.69%\n",
      "Epoch = 49, training accuracy = 77.94%, test accuracy = 84.46%, valid accuracy = 77.25%\n",
      "Epoch = 50, training accuracy = 79.09%, test accuracy = 85.73%, valid accuracy = 78.55%\n",
      "Epoch = 51, training accuracy = 78.46%, test accuracy = 84.66%, valid accuracy = 77.75%\n",
      "Epoch = 52, training accuracy = 79.01%, test accuracy = 85.78%, valid accuracy = 78.07%\n",
      "Epoch = 53, training accuracy = 78.34%, test accuracy = 84.83%, valid accuracy = 77.35%\n",
      "Epoch = 54, training accuracy = 78.56%, test accuracy = 85.34%, valid accuracy = 77.57%\n",
      "Epoch = 55, training accuracy = 79.12%, test accuracy = 85.97%, valid accuracy = 78.07%\n",
      "Epoch = 56, training accuracy = 79.27%, test accuracy = 86.02%, valid accuracy = 78.78%\n",
      "Epoch = 57, training accuracy = 78.83%, test accuracy = 85.36%, valid accuracy = 77.98%\n",
      "Epoch = 58, training accuracy = 79.42%, test accuracy = 85.79%, valid accuracy = 78.56%\n",
      "Epoch = 59, training accuracy = 78.98%, test accuracy = 85.85%, valid accuracy = 78.51%\n",
      "Epoch = 60, training accuracy = 78.67%, test accuracy = 85.21%, valid accuracy = 77.66%\n",
      "Epoch = 61, training accuracy = 78.56%, test accuracy = 85.53%, valid accuracy = 77.83%\n",
      "Epoch = 62, training accuracy = 79.14%, test accuracy = 85.69%, valid accuracy = 78.33%\n",
      "Epoch = 63, training accuracy = 79.25%, test accuracy = 85.79%, valid accuracy = 78.38%\n",
      "Epoch = 64, training accuracy = 78.73%, test accuracy = 85.14%, valid accuracy = 78.03%\n",
      "Epoch = 65, training accuracy = 79.44%, test accuracy = 86.00%, valid accuracy = 78.55%\n",
      "Epoch = 66, training accuracy = 79.39%, test accuracy = 85.86%, valid accuracy = 78.38%\n",
      "Epoch = 67, training accuracy = 79.51%, test accuracy = 85.70%, valid accuracy = 78.47%\n",
      "Epoch = 68, training accuracy = 79.66%, test accuracy = 86.32%, valid accuracy = 79.14%\n",
      "Epoch = 69, training accuracy = 80.18%, test accuracy = 86.50%, valid accuracy = 79.44%\n",
      "Epoch = 70, training accuracy = 79.97%, test accuracy = 86.41%, valid accuracy = 78.90%\n",
      "Epoch = 71, training accuracy = 80.14%, test accuracy = 86.49%, valid accuracy = 79.40%\n",
      "Epoch = 72, training accuracy = 78.70%, test accuracy = 85.17%, valid accuracy = 77.39%\n",
      "Epoch = 73, training accuracy = 79.86%, test accuracy = 85.98%, valid accuracy = 78.74%\n",
      "Epoch = 74, training accuracy = 78.97%, test accuracy = 85.22%, valid accuracy = 78.11%\n",
      "Epoch = 75, training accuracy = 79.56%, test accuracy = 86.16%, valid accuracy = 78.59%\n",
      "Epoch = 76, training accuracy = 80.15%, test accuracy = 86.69%, valid accuracy = 79.27%\n",
      "Epoch = 77, training accuracy = 79.89%, test accuracy = 86.20%, valid accuracy = 78.96%\n",
      "Epoch = 78, training accuracy = 79.88%, test accuracy = 86.41%, valid accuracy = 79.11%\n",
      "Epoch = 79, training accuracy = 80.27%, test accuracy = 86.55%, valid accuracy = 79.41%\n",
      "Epoch = 80, training accuracy = 79.31%, test accuracy = 85.71%, valid accuracy = 78.38%\n",
      "Epoch = 81, training accuracy = 80.12%, test accuracy = 86.44%, valid accuracy = 79.02%\n",
      "Epoch = 82, training accuracy = 80.25%, test accuracy = 86.41%, valid accuracy = 79.47%\n",
      "Epoch = 83, training accuracy = 79.97%, test accuracy = 86.47%, valid accuracy = 79.31%\n",
      "Epoch = 84, training accuracy = 79.83%, test accuracy = 86.16%, valid accuracy = 78.67%\n",
      "Epoch = 85, training accuracy = 80.19%, test accuracy = 86.57%, valid accuracy = 79.21%\n",
      "Epoch = 86, training accuracy = 80.22%, test accuracy = 86.39%, valid accuracy = 79.16%\n",
      "Epoch = 87, training accuracy = 79.93%, test accuracy = 86.62%, valid accuracy = 78.90%\n",
      "Epoch = 88, training accuracy = 80.38%, test accuracy = 86.67%, valid accuracy = 79.26%\n",
      "Epoch = 89, training accuracy = 80.78%, test accuracy = 87.11%, valid accuracy = 79.56%\n",
      "Epoch = 90, training accuracy = 80.25%, test accuracy = 86.50%, valid accuracy = 79.19%\n",
      "Epoch = 91, training accuracy = 80.45%, test accuracy = 86.47%, valid accuracy = 79.29%\n",
      "Epoch = 92, training accuracy = 80.30%, test accuracy = 86.55%, valid accuracy = 79.08%\n"
     ]
    },
    {
     "name": "stdout",
     "output_type": "stream",
     "text": [
      "Epoch = 93, training accuracy = 80.05%, test accuracy = 86.31%, valid accuracy = 78.62%\n",
      "Epoch = 94, training accuracy = 80.17%, test accuracy = 86.47%, valid accuracy = 79.16%\n",
      "Epoch = 95, training accuracy = 80.77%, test accuracy = 87.06%, valid accuracy = 79.84%\n",
      "Epoch = 96, training accuracy = 80.73%, test accuracy = 87.01%, valid accuracy = 79.99%\n",
      "Epoch = 97, training accuracy = 81.07%, test accuracy = 87.42%, valid accuracy = 80.03%\n",
      "Epoch = 98, training accuracy = 80.38%, test accuracy = 86.88%, valid accuracy = 79.57%\n",
      "Epoch = 99, training accuracy = 80.59%, test accuracy = 86.78%, valid accuracy = 79.49%\n",
      "Epoch = 100, training accuracy = 81.09%, test accuracy = 87.48%, valid accuracy = 80.16%\n",
      "Epoch = 101, training accuracy = 80.95%, test accuracy = 87.33%, valid accuracy = 80.01%\n",
      "Epoch = 102, training accuracy = 81.10%, test accuracy = 87.42%, valid accuracy = 80.09%\n",
      "Epoch = 103, training accuracy = 80.91%, test accuracy = 87.42%, valid accuracy = 80.17%\n",
      "Epoch = 104, training accuracy = 81.08%, test accuracy = 87.31%, valid accuracy = 80.17%\n",
      "Epoch = 105, training accuracy = 79.70%, test accuracy = 85.95%, valid accuracy = 78.41%\n",
      "Epoch = 106, training accuracy = 79.52%, test accuracy = 85.62%, valid accuracy = 78.44%\n",
      "Epoch = 107, training accuracy = 80.61%, test accuracy = 86.74%, valid accuracy = 79.44%\n",
      "Epoch = 108, training accuracy = 80.87%, test accuracy = 87.06%, valid accuracy = 79.78%\n",
      "Epoch = 109, training accuracy = 80.92%, test accuracy = 87.18%, valid accuracy = 79.80%\n",
      "Epoch = 110, training accuracy = 80.34%, test accuracy = 86.17%, valid accuracy = 79.25%\n",
      "Epoch = 111, training accuracy = 80.89%, test accuracy = 87.11%, valid accuracy = 79.68%\n",
      "Epoch = 112, training accuracy = 80.98%, test accuracy = 87.30%, valid accuracy = 80.07%\n",
      "Epoch = 113, training accuracy = 80.51%, test accuracy = 86.91%, valid accuracy = 79.60%\n",
      "Epoch = 114, training accuracy = 80.91%, test accuracy = 87.02%, valid accuracy = 79.79%\n",
      "Epoch = 115, training accuracy = 81.08%, test accuracy = 87.47%, valid accuracy = 80.06%\n",
      "Epoch = 116, training accuracy = 81.14%, test accuracy = 87.30%, valid accuracy = 80.01%\n",
      "Epoch = 117, training accuracy = 80.75%, test accuracy = 86.79%, valid accuracy = 79.93%\n",
      "Epoch = 118, training accuracy = 81.36%, test accuracy = 87.65%, valid accuracy = 80.06%\n",
      "Epoch = 119, training accuracy = 81.13%, test accuracy = 87.39%, valid accuracy = 79.83%\n",
      "Epoch = 120, training accuracy = 81.14%, test accuracy = 87.23%, valid accuracy = 80.17%\n",
      "Epoch = 121, training accuracy = 81.22%, test accuracy = 87.54%, valid accuracy = 80.37%\n",
      "Epoch = 122, training accuracy = 80.86%, test accuracy = 86.86%, valid accuracy = 79.73%\n",
      "Epoch = 123, training accuracy = 81.24%, test accuracy = 87.42%, valid accuracy = 79.92%\n",
      "Epoch = 124, training accuracy = 80.61%, test accuracy = 87.05%, valid accuracy = 79.90%\n",
      "Epoch = 125, training accuracy = 81.25%, test accuracy = 87.31%, valid accuracy = 80.18%\n",
      "Epoch = 126, training accuracy = 80.60%, test accuracy = 86.63%, valid accuracy = 79.36%\n",
      "Epoch = 127, training accuracy = 81.52%, test accuracy = 87.91%, valid accuracy = 80.54%\n",
      "Epoch = 128, training accuracy = 81.05%, test accuracy = 86.89%, valid accuracy = 79.85%\n",
      "Epoch = 129, training accuracy = 81.48%, test accuracy = 87.57%, valid accuracy = 80.32%\n",
      "Epoch = 130, training accuracy = 81.25%, test accuracy = 87.38%, valid accuracy = 80.16%\n",
      "Epoch = 131, training accuracy = 80.84%, test accuracy = 87.14%, valid accuracy = 79.76%\n",
      "Epoch = 132, training accuracy = 81.34%, test accuracy = 87.70%, valid accuracy = 80.31%\n",
      "Epoch = 133, training accuracy = 81.79%, test accuracy = 87.80%, valid accuracy = 80.62%\n",
      "Epoch = 134, training accuracy = 81.28%, test accuracy = 87.27%, valid accuracy = 80.25%\n",
      "Epoch = 135, training accuracy = 81.58%, test accuracy = 87.79%, valid accuracy = 80.54%\n",
      "Epoch = 136, training accuracy = 81.48%, test accuracy = 87.66%, valid accuracy = 80.63%\n",
      "Epoch = 137, training accuracy = 81.29%, test accuracy = 87.20%, valid accuracy = 80.25%\n",
      "Epoch = 138, training accuracy = 81.34%, test accuracy = 87.54%, valid accuracy = 80.55%\n",
      "Epoch = 139, training accuracy = 80.85%, test accuracy = 87.11%, valid accuracy = 80.07%\n",
      "Epoch = 140, training accuracy = 81.38%, test accuracy = 87.52%, valid accuracy = 80.08%\n",
      "Epoch = 141, training accuracy = 81.45%, test accuracy = 87.45%, valid accuracy = 80.51%\n",
      "Epoch = 142, training accuracy = 81.48%, test accuracy = 87.55%, valid accuracy = 80.35%\n",
      "Epoch = 143, training accuracy = 81.17%, test accuracy = 87.37%, valid accuracy = 80.05%\n",
      "Epoch = 144, training accuracy = 81.17%, test accuracy = 87.21%, valid accuracy = 79.82%\n",
      "Epoch = 145, training accuracy = 81.51%, test accuracy = 87.62%, valid accuracy = 80.51%\n",
      "Epoch = 146, training accuracy = 82.04%, test accuracy = 88.16%, valid accuracy = 80.97%\n",
      "Epoch = 147, training accuracy = 81.77%, test accuracy = 87.66%, valid accuracy = 80.57%\n",
      "Epoch = 148, training accuracy = 81.52%, test accuracy = 87.50%, valid accuracy = 80.46%\n",
      "Epoch = 149, training accuracy = 81.01%, test accuracy = 87.03%, valid accuracy = 79.81%\n",
      "Epoch = 150, training accuracy = 81.53%, test accuracy = 87.55%, valid accuracy = 80.30%\n",
      "Epoch = 151, training accuracy = 80.64%, test accuracy = 86.60%, valid accuracy = 79.55%\n",
      "Epoch = 152, training accuracy = 81.67%, test accuracy = 87.85%, valid accuracy = 80.39%\n",
      "Epoch = 153, training accuracy = 81.92%, test accuracy = 88.09%, valid accuracy = 80.86%\n",
      "Epoch = 154, training accuracy = 81.78%, test accuracy = 87.94%, valid accuracy = 80.71%\n",
      "Epoch = 155, training accuracy = 81.89%, test accuracy = 87.89%, valid accuracy = 80.56%\n",
      "Epoch = 156, training accuracy = 81.58%, test accuracy = 87.35%, valid accuracy = 80.19%\n",
      "Epoch = 157, training accuracy = 81.25%, test accuracy = 87.03%, valid accuracy = 79.99%\n",
      "Epoch = 158, training accuracy = 81.92%, test accuracy = 87.95%, valid accuracy = 80.86%\n",
      "Epoch = 159, training accuracy = 81.86%, test accuracy = 87.70%, valid accuracy = 80.83%\n",
      "Epoch = 160, training accuracy = 81.75%, test accuracy = 87.84%, valid accuracy = 80.77%\n",
      "Epoch = 161, training accuracy = 81.18%, test accuracy = 87.38%, valid accuracy = 79.90%\n",
      "Epoch = 162, training accuracy = 81.81%, test accuracy = 87.96%, valid accuracy = 80.83%\n",
      "Epoch = 163, training accuracy = 81.69%, test accuracy = 87.59%, valid accuracy = 80.45%\n",
      "Epoch = 164, training accuracy = 81.73%, test accuracy = 87.86%, valid accuracy = 80.50%\n",
      "Epoch = 165, training accuracy = 81.77%, test accuracy = 87.58%, valid accuracy = 80.37%\n",
      "Epoch = 166, training accuracy = 81.89%, test accuracy = 87.86%, valid accuracy = 80.95%\n",
      "Epoch = 167, training accuracy = 81.98%, test accuracy = 87.95%, valid accuracy = 80.71%\n",
      "Epoch = 168, training accuracy = 81.86%, test accuracy = 87.59%, valid accuracy = 80.54%\n",
      "Epoch = 169, training accuracy = 82.01%, test accuracy = 87.95%, valid accuracy = 80.72%\n",
      "Epoch = 170, training accuracy = 81.97%, test accuracy = 87.83%, valid accuracy = 80.63%\n",
      "Epoch = 171, training accuracy = 82.00%, test accuracy = 87.60%, valid accuracy = 80.54%\n",
      "Epoch = 172, training accuracy = 82.17%, test accuracy = 88.03%, valid accuracy = 81.07%\n",
      "Epoch = 173, training accuracy = 82.19%, test accuracy = 88.08%, valid accuracy = 81.15%\n",
      "Epoch = 174, training accuracy = 82.53%, test accuracy = 88.30%, valid accuracy = 81.06%\n",
      "Epoch = 175, training accuracy = 81.93%, test accuracy = 88.00%, valid accuracy = 80.93%\n",
      "Epoch = 176, training accuracy = 81.84%, test accuracy = 87.84%, valid accuracy = 80.74%\n",
      "Epoch = 177, training accuracy = 82.29%, test accuracy = 88.08%, valid accuracy = 81.01%\n",
      "Epoch = 178, training accuracy = 82.15%, test accuracy = 88.24%, valid accuracy = 81.11%\n",
      "Epoch = 179, training accuracy = 82.53%, test accuracy = 88.54%, valid accuracy = 81.21%\n",
      "Epoch = 180, training accuracy = 82.20%, test accuracy = 88.02%, valid accuracy = 80.83%\n",
      "Epoch = 181, training accuracy = 82.11%, test accuracy = 88.01%, valid accuracy = 81.21%\n",
      "Epoch = 182, training accuracy = 81.30%, test accuracy = 87.24%, valid accuracy = 80.20%\n",
      "Epoch = 183, training accuracy = 81.62%, test accuracy = 87.52%, valid accuracy = 80.33%\n",
      "Epoch = 184, training accuracy = 82.26%, test accuracy = 88.00%, valid accuracy = 80.91%\n",
      "Epoch = 185, training accuracy = 82.03%, test accuracy = 87.77%, valid accuracy = 80.72%\n"
     ]
    },
    {
     "name": "stdout",
     "output_type": "stream",
     "text": [
      "Epoch = 186, training accuracy = 82.56%, test accuracy = 88.39%, valid accuracy = 81.17%\n",
      "Epoch = 187, training accuracy = 81.85%, test accuracy = 87.86%, valid accuracy = 80.47%\n",
      "Epoch = 188, training accuracy = 81.97%, test accuracy = 87.94%, valid accuracy = 80.88%\n",
      "Epoch = 189, training accuracy = 82.16%, test accuracy = 87.98%, valid accuracy = 80.94%\n",
      "Epoch = 190, training accuracy = 81.75%, test accuracy = 87.77%, valid accuracy = 80.68%\n",
      "Epoch = 191, training accuracy = 82.06%, test accuracy = 88.28%, valid accuracy = 80.82%\n",
      "Epoch = 192, training accuracy = 82.34%, test accuracy = 88.24%, valid accuracy = 81.05%\n",
      "Epoch = 193, training accuracy = 82.16%, test accuracy = 88.29%, valid accuracy = 81.24%\n",
      "Epoch = 194, training accuracy = 82.38%, test accuracy = 88.11%, valid accuracy = 81.16%\n",
      "Epoch = 195, training accuracy = 82.50%, test accuracy = 88.25%, valid accuracy = 81.17%\n",
      "Epoch = 196, training accuracy = 82.38%, test accuracy = 88.15%, valid accuracy = 81.04%\n",
      "Epoch = 197, training accuracy = 81.92%, test accuracy = 87.54%, valid accuracy = 80.47%\n",
      "Epoch = 198, training accuracy = 82.42%, test accuracy = 88.17%, valid accuracy = 81.16%\n",
      "Epoch = 199, training accuracy = 81.99%, test accuracy = 87.71%, valid accuracy = 80.68%\n"
     ]
    }
   ],
   "source": [
    "# this took a LOOONG time to run\n",
    "\n",
    "num_steps = 200\n",
    "train_subset = 20000\n",
    "batch_size = 256\n",
    "\n",
    "train_X = np.ones((train_subset, input_size))\n",
    "train_X[:, 1:] = train_dataset[:train_subset, :] \n",
    "train_y =  train_labels[:train_subset]\n",
    "\n",
    "test_X = np.ones((test_dataset.shape[0], input_size))\n",
    "test_X[:, 1:] = test_dataset\n",
    "test_y = test_labels\n",
    "\n",
    "valid_X = np.ones((valid_dataset.shape[0], input_size))\n",
    "valid_X[:, 1:] = valid_dataset\n",
    "valid_y = valid_labels\n",
    "\n",
    "with tf.Session(graph=graph) as session:\n",
    "    tf.global_variables_initializer().run()\n",
    "    \n",
    "    print(\"Initialized\")\n",
    "    # this is the epoch steps\n",
    "    for step in range(num_steps):\n",
    "        \n",
    "        # train with one example each time\n",
    "        #for i in np.arange(0,len(train_X),2):\n",
    "        #    session.run(optimizer,feed_dict = {X : train_X[i: i+2], y: train_y[i:i+2]})\n",
    "\n",
    "        # train with a batch of 128 at a time\n",
    "        offset = (step * batch_size) % (train_y.shape[0] - batch_size)\n",
    "        # Generate a minibatch.\n",
    "        batch_data = train_X[offset:(offset + batch_size), :]\n",
    "        batch_labels = train_y[offset:(offset + batch_size), :]\n",
    "        session.run(optimizer, feed_dict = {X : batch_data, y : batch_labels})\n",
    "            \n",
    "            \n",
    "            \n",
    "        train_acc = np.mean(np.argmax(train_y,axis=1)==session.run(predict, feed_dict={X:train_X, y: train_y}))\n",
    "        test_acc = np.mean(np.argmax(test_y,axis=1)==session.run(predict, feed_dict={X:test_X, y: test_y}))\n",
    "        valid_acc = np.mean(np.argmax(valid_y,axis=1)==session.run(predict, feed_dict={X:valid_X, y: valid_y}))\n",
    "        \n",
    "        print(\"Epoch = %2d, training accuracy = %.2f%%, test accuracy = %.2f%%, valid accuracy = %.2f%%\" % (step, 100. *train_acc, 100. * test_acc, 100. * valid_acc))\n",
    "\n",
    "\n"
   ]
  },
  {
   "cell_type": "code",
   "execution_count": null,
   "metadata": {
    "collapsed": true
   },
   "outputs": [],
   "source": []
  }
 ],
 "metadata": {
  "colab": {
   "default_view": {},
   "name": "2_fullyconnected.ipynb",
   "provenance": [],
   "version": "0.3.2",
   "views": {}
  },
  "kernelspec": {
   "display_name": "Python 3",
   "language": "python",
   "name": "python3"
  },
  "language_info": {
   "codemirror_mode": {
    "name": "ipython",
    "version": 3
   },
   "file_extension": ".py",
   "mimetype": "text/x-python",
   "name": "python",
   "nbconvert_exporter": "python",
   "pygments_lexer": "ipython3",
   "version": "3.6.3"
  }
 },
 "nbformat": 4,
 "nbformat_minor": 1
}
