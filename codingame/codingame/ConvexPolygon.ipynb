{
 "cells": [
  {
   "cell_type": "code",
   "execution_count": 1,
   "metadata": {},
   "outputs": [],
   "source": [
    "import sys\n",
    "import math\n",
    "\n",
    "import numpy as np"
   ]
  },
  {
   "cell_type": "code",
   "execution_count": 29,
   "metadata": {},
   "outputs": [],
   "source": [
    "class Edge(object):\n",
    "    def __init__(self, point1, point2):\n",
    "        \"\"\" reprents a line between two points \"\"\"\n",
    "        self.point1 = point1\n",
    "        self.point2 = point2\n",
    "\n",
    "    def intersects(self, edge):\n",
    "        \"\"\" returns True if we intersect or overlap the edge \"\"\"\n",
    "        #print(f's={self}, e={edge}', file=sys.stderr)\n",
    "        if self.point1 == edge.point1:\n",
    "            return self.point1\n",
    "        if self.point2 == edge.point2:\n",
    "            return self.point2\n",
    "\n",
    "        xdiff = (self.point1[0] - self.point2[0], edge.point1[0] - edge.point2[0])\n",
    "        ydiff = (self.point1[1] - self.point2[1], edge.point1[1] - edge.point2[1])\n",
    "        def det(a, b):\n",
    "            return a[0]*b[1] - a[1]*b[0]\n",
    "\n",
    "        div = det(xdiff, ydiff)\n",
    "        if div == 0:\n",
    "            print(f'edge: {edge} does not intersect with {self}', file=sys.stderr)\n",
    "            return False\n",
    "        d = (det(self.point1, self.point2), det(edge.point1, edge.point2))\n",
    "        # intersection point\n",
    "        p = (det(d, xdiff)/div, det(d, ydiff)/div)\n",
    "\n",
    "        # make sure we are within limits\n",
    "        p1x = [self.point1[0], self.point2[0]]\n",
    "        p2x = [edge.point1[0], edge.point2[0]]\n",
    "        p1y = [self.point1[1], self.point2[1]]\n",
    "        p2y = [edge.point1[1], edge.point2[1]]\n",
    "        \n",
    "        if p[0] < max([min(p1x), min(p2x)]) or p[0] > min([max(p1x), max(p2x)]):\n",
    "            return False\n",
    "        if p[1] < max([min(p1y), min(p2y)]) or p[1] > min([max(p1y), max(p2y)]):\n",
    "            return False\n",
    "        return p\n",
    "\n",
    "    def norm(self):\n",
    "        \"\"\" returns L2 norm \"\"\"\n",
    "        return math.sqrt((self.point2[1]-self.point1[1])**2 + (self.point2[0]-self.point1[0])**2)\n",
    "    \n",
    "    def __repr__(self):\n",
    "        return f'({self.point1},{self.point2})'\n",
    "\n",
    "    \n",
    "    \n",
    "class Polygon(object):\n",
    "    def __init__(self, vertices):\n",
    "        \"\"\" input is a list of non-ordered vertices anti-clockwise starting negative y-axis of area (SE) \"\"\"\n",
    "        #print(f'input: {vertices}', file=sys.stderr)\n",
    "        def sort_vertices(vertices):\n",
    "            x_center = sum([x[0] for x in vertices])/len(vertices)\n",
    "            y_center = sum([x[1] for x in vertices])/len(vertices)\n",
    "            angles = [math.atan2(v[1]-y_center, v[0]-x_center) for v in vertices]\n",
    "            indices = np.argsort(angles)\n",
    "            #print(f'angles: {angles}', file=sys.stderr)\n",
    "            v = np.array(vertices)\n",
    "            return tuple(v[indices].tolist())\n",
    "\n",
    "        self.vertices = sort_vertices(vertices)\n",
    "\n",
    "    def min_y(self):\n",
    "        return min([x[1] for x in self.vertices])\n",
    "\n",
    "    def contains(self, point):\n",
    "        \"\"\" point is a tuple \"\"\"\n",
    "        # (x-x1)*(y2-y1)-(y-y1)*(x2-x1)\n",
    "        xprod = [\n",
    "            (point[0] - edge.point1[0])*(edge.point2[1]-edge.point1[1]) - (point[1] - edge.point1[1])*(edge.point2[0]-edge.point1[0])\n",
    "            for edge in self.edges()\n",
    "        ]\n",
    "        #print(f'check if {point} is in {self}:xprod={xprod}', file=sys.stderr)\n",
    "        return all(map(lambda x:x<=0, xprod))\n",
    "\n",
    "    def center(self):\n",
    "        \"\"\" center of polygon \"\"\"\n",
    "        n = len(self.vertices)\n",
    "        return (sum([x[0] for x in self.vertices])/n, sum([x[1] for x in self.vertices])/n)\n",
    "        \n",
    "    def area(self):\n",
    "        \"\"\" shoelace algorithm \"\"\"\n",
    "#         n = len(self.vertices)\n",
    "#         return 0.5*abs(sum([\n",
    "#             (self.vertices[ndx][0]*self.vertices[(ndx+1)%n][1])-(self.vertices[ndx][1]*self.vertices[(ndx+1)%n][0])\n",
    "#             for ndx in range(n)\n",
    "#         ]))\n",
    "        # return (sum([\n",
    "        #     (self.vertices[ndx][0] + self.vertices[(ndx+1)%n][0])*(self.vertices[ndx][1] + self.vertices[(ndx+1)%n][1])\n",
    "        #     for ndx in range(n)\n",
    "        # ]))\n",
    "        center = self.center()\n",
    "        triangles = [(center, x.point1, x.point2) for x in self.edges()]\n",
    "        print(f'triangles: {triangles}', file=sys.stderr)\n",
    "        def triangle_area(x):\n",
    "            (a,b,c) = x\n",
    "            return abs(((a[0]-b[0])*(c[1]-a[1]) - (a[0]-c[0])*(b[1]-a[1])))/2\n",
    "        print(f'areas: {list(map(triangle_area, triangles))}', file=sys.stderr)\n",
    "\n",
    "        return sum(map(triangle_area, triangles))\n",
    "\n",
    "    def area2(self):\n",
    "        \"\"\" shoelace algorithm \"\"\"\n",
    "        n = len(self.vertices)\n",
    "        return 0.5*abs(sum([\n",
    "            (self.vertices[ndx][0]*self.vertices[(ndx+1)%n][1])-(self.vertices[ndx][1]*self.vertices[(ndx+1)%n][0])\n",
    "            for ndx in range(n)\n",
    "        ]))\n",
    "    \n",
    "    \n",
    "    def perimeter(self):\n",
    "        \"\"\" length of all the edges \"\"\"\n",
    "        return sum(map(Edge.norm, self.edges()))\n",
    "    \n",
    "    def edges(self):\n",
    "        \"\"\" returns ordered pairs of vertices \"\"\"\n",
    "        return [\n",
    "            Edge(self.vertices[ndx], self.vertices[(ndx+1)%len(self.vertices)])\n",
    "            for ndx in range(len(self.vertices))\n",
    "        ]\n",
    "\n",
    "    def __repr__(self):\n",
    "        return f'Poly({self.vertices})'\n",
    "\n"
   ]
  },
  {
   "cell_type": "code",
   "execution_count": 23,
   "metadata": {},
   "outputs": [
    {
     "data": {
      "text/plain": [
       "11.209982432795858"
      ]
     },
     "execution_count": 23,
     "metadata": {},
     "output_type": "execute_result"
    }
   ],
   "source": [
    "2*math.sqrt(math.pi*10)"
   ]
  },
  {
   "cell_type": "code",
   "execution_count": 24,
   "metadata": {},
   "outputs": [
    {
     "name": "stdout",
     "output_type": "stream",
     "text": [
      "10.635353535353534\n",
      "10.635353535353534\n"
     ]
    },
    {
     "name": "stderr",
     "output_type": "stream",
     "text": [
      "triangles: [((1.9914862914862914, 2.007864357864358), [-0.36363636363636365, 1.4545454545454546], [1.0, 1.0]), ((1.9914862914862914, 2.007864357864358), [1.0, 1.0], [1.0, 0.3333333333333333]), ((1.9914862914862914, 2.007864357864358), [1.0, 0.3333333333333333], [2.0, 0.6666666666666666]), ((1.9914862914862914, 2.007864357864358), [2.0, 0.6666666666666666], [3.0, 0.3333333333333333]), ((1.9914862914862914, 2.007864357864358), [3.0, 0.3333333333333333], [3.0, 1.0]), ((1.9914862914862914, 2.007864357864358), [3.0, 1.0], [4.8, 1.6]), ((1.9914862914862914, 2.007864357864358), [4.8, 1.6], [4.333333333333333, 2.6666666666666665]), ((1.9914862914862914, 2.007864357864358), [4.333333333333333, 2.6666666666666665], [3.0, 3.0]), ((1.9914862914862914, 2.007864357864358), [3.0, 3.0], [3.0, 4.0]), ((1.9914862914862914, 2.007864357864358), [3.0, 4.0], [1.6666666666666667, 3.3333333333333335]), ((1.9914862914862914, 2.007864357864358), [1.6666666666666667, 3.3333333333333335], [1.0, 3.5]), ((1.9914862914862914, 2.007864357864358), [1.0, 3.5], [1.0, 3.0]), ((1.9914862914862914, 2.007864357864358), [1.0, 3.0], [-0.5555555555555556, 2.2222222222222223]), ((1.9914862914862914, 2.007864357864358), [-0.5555555555555556, 2.2222222222222223], [-0.36363636363636365, 1.4545454545454546])]\n",
      "areas: [0.9125180375180373, 0.33049543049543056, 0.6720177970177971, 0.6691798941798942, 0.33617123617123623, 1.2096320346320346, 1.4027056277056276, 0.8295093795093798, 0.5042568542568542, 0.991919191919192, 0.4147546897546899, 0.24787157287157285, 1.1572390572390574, 0.9570827320827321]\n"
     ]
    }
   ],
   "source": [
    "poly = Polygon(([-0.36363636363636365, 1.4545454545454546], [1.0, 1.0], [1.0, 0.3333333333333333], [2.0, 0.6666666666666666], [3.0, 0.3333333333333333], [3.0, 1.0], [4.8, 1.6], [4.333333333333333, 2.6666666666666665], [3.0, 3.0], [3.0, 4.0], [1.6666666666666667, 3.3333333333333335], [1.0, 3.5], [1.0, 3.0], [-0.5555555555555556, 2.2222222222222223]))\n",
    "print(poly.area())\n",
    "print(poly.area2())"
   ]
  },
  {
   "cell_type": "code",
   "execution_count": 28,
   "metadata": {},
   "outputs": [
    {
     "name": "stdout",
     "output_type": "stream",
     "text": [
      "Poly(([0, 0], [1, 0], [1, 1], [0, 1]))\n",
      "1.0\n",
      "4.0\n"
     ]
    },
    {
     "name": "stderr",
     "output_type": "stream",
     "text": [
      "triangles: [((0.5, 0.5), [0, 0], [1, 0]), ((0.5, 0.5), [1, 0], [1, 1]), ((0.5, 0.5), [1, 1], [0, 1]), ((0.5, 0.5), [0, 1], [0, 0])]\n",
      "areas: [0.25, 0.25, 0.25, 0.25]\n"
     ]
    }
   ],
   "source": [
    "t = Polygon([(0,0), (0,1), (1,0), (1,1)])\n",
    "print(t)\n",
    "print(t.area())\n",
    "print(t.perimeter())"
   ]
  },
  {
   "cell_type": "code",
   "execution_count": 10,
   "metadata": {},
   "outputs": [
    {
     "name": "stdout",
     "output_type": "stream",
     "text": [
      "[[0, 0], False, (-0.0, -0.0), [1, 1], (1.0, 1.0), False, (1.0, 1.0), [1, 1], (0.0, 1.0), (0.0, 0.0), (-0.0, 1.0), [0, 1]]\n",
      "[(0, 0), (1, 1), (0, 1)]\n",
      "Poly(([0, 0], [1, 1], [0, 1]))\n",
      "0.5\n"
     ]
    },
    {
     "name": "stderr",
     "output_type": "stream",
     "text": [
      "edge: ([1, 1],[0, 1]) does not intersect with ([0, 0],[1, 0])\n",
      "edge: ([0, 1],[0, 0]) does not intersect with ([1, 0],[1, 1])\n"
     ]
    }
   ],
   "source": [
    "#t.intersect(Polygon([(0,0),(0,1),(1,1)]))\n",
    "p2 = Polygon([(0,0), (0,1), (1,1)])\n",
    "\n",
    "intersections = [\n",
    "    e1.intersects(e2) for e1 in t.edges() for e2 in p2.edges()\n",
    "]\n",
    "print(intersections)\n",
    "\n",
    "i2 = []\n",
    "for p in [p for p in t.vertices if p2.contains(p)] + [p for p in p2.vertices if t.contains(p)] + intersections:\n",
    "    if p and tuple(p) not in i2:\n",
    "        i2.append(tuple(p))\n",
    "        \n",
    "print(i2)\n",
    "\n",
    "overlap = Polygon(i2)\n",
    "print(overlap)\n",
    "print(overlap.area())\n"
   ]
  },
  {
   "cell_type": "code",
   "execution_count": 20,
   "metadata": {},
   "outputs": [
    {
     "name": "stderr",
     "output_type": "stream",
     "text": [
      "triangles: [((3.3333333333333335, 3.3333333333333335), [0, 0], [4, 0]), ((3.3333333333333335, 3.3333333333333335), [4, 0], [6, 4]), ((3.3333333333333335, 3.3333333333333335), [6, 4], [6, 6]), ((3.3333333333333335, 3.3333333333333335), [6, 6], [4, 6]), ((3.3333333333333335, 3.3333333333333335), [4, 6], [0, 4]), ((3.3333333333333335, 3.3333333333333335), [0, 4], [0, 0])]\n",
      "areas: [6.666666666666667, 4.666666666666667, 2.666666666666667, 2.666666666666667, 4.666666666666667, 6.666666666666667]\n"
     ]
    },
    {
     "data": {
      "text/plain": [
       "28.000000000000004"
      ]
     },
     "execution_count": 20,
     "metadata": {},
     "output_type": "execute_result"
    }
   ],
   "source": [
    "Polygon([(0,0), (4,0), (6,4), (6,6), (4,6), (0,4)]).area()"
   ]
  }
 ],
 "metadata": {
  "kernelspec": {
   "display_name": "Python 3",
   "language": "python",
   "name": "python3"
  },
  "language_info": {
   "codemirror_mode": {
    "name": "ipython",
    "version": 3
   },
   "file_extension": ".py",
   "mimetype": "text/x-python",
   "name": "python",
   "nbconvert_exporter": "python",
   "pygments_lexer": "ipython3",
   "version": "3.7.0"
  }
 },
 "nbformat": 4,
 "nbformat_minor": 2
}
