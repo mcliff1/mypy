{
 "cells": [
  {
   "cell_type": "code",
   "execution_count": 5,
   "metadata": {},
   "outputs": [
    {
     "name": "stdout",
     "output_type": "stream",
     "text": [
      "b is 1563 numbers long, ending in 199936\n"
     ]
    }
   ],
   "source": [
    "b = []\n",
    "for n in range(0, 200000, 128):\n",
    "    b.append(n)\n",
    "print('b is {0} numbers long, ending in {1}'.format(len(b), b[-1]))\n"
   ]
  },
  {
   "cell_type": "code",
   "execution_count": 13,
   "metadata": {},
   "outputs": [
    {
     "data": {
      "text/plain": [
       "[(0, 0),\n",
       " (1, 100),\n",
       " (2, 400),\n",
       " (3, 900),\n",
       " (4, 1600),\n",
       " (5, 2500),\n",
       " (6, 3600),\n",
       " (7, 4900),\n",
       " (8, 6400),\n",
       " (9, 8100)]"
      ]
     },
     "execution_count": 13,
     "metadata": {},
     "output_type": "execute_result"
    }
   ],
   "source": [
    "def loopVal():\n",
    "    retVal = []\n",
    "    for i in range(0,100,10):\n",
    "        retVal.append((int(i/10), i*i))\n",
    "    return(retVal)\n",
    "loopVal()"
   ]
  },
  {
   "cell_type": "code",
   "execution_count": 19,
   "metadata": {},
   "outputs": [
    {
     "name": "stdout",
     "output_type": "stream",
     "text": [
      "[[3, 3], [2, 2], [1, 1], [5, 5], [4, 4]] x = [3, 2, 1, 5, 4]\n"
     ]
    }
   ],
   "source": [
    "from sklearn.utils import shuffle\n",
    "\n",
    "a = [[1, 1], [2,2], [3,3], [4,4], [5,5]]\n",
    "b=[1,2, 3, 4,5]\n",
    "a, b = shuffle(a,b)\n",
    "print('{0} x = {1}'.format(a,b))"
   ]
  }
 ],
 "metadata": {
  "kernelspec": {
   "display_name": "Python 3",
   "language": "python",
   "name": "python3"
  },
  "language_info": {
   "codemirror_mode": {
    "name": "ipython",
    "version": 3
   },
   "file_extension": ".py",
   "mimetype": "text/x-python",
   "name": "python",
   "nbconvert_exporter": "python",
   "pygments_lexer": "ipython3",
   "version": "3.6.3"
  }
 },
 "nbformat": 4,
 "nbformat_minor": 2
}
