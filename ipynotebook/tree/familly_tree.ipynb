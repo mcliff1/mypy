{
 "cells": [
  {
   "cell_type": "code",
   "execution_count": 1,
   "metadata": {},
   "outputs": [],
   "source": [
    "# sorting exercises for a family tree (assumes names are unique)\n",
    "#\n",
    "# working to solve - https://www.codingame.com/ide/puzzle/order-of-succession\n",
    "#\n",
    "class Person():\n",
    "    def __init__(self, name, parent):\n",
    "        self.name = name\n",
    "        self.parent = parent\n",
    "        \n",
    "    def __repr__(self):\n",
    "        return '{} ({})'.format(self.name, self.parent)\n",
    "\n",
    "family = [\n",
    "    Person('liz', '-'),\n",
    "    Person('chuck', 'liz'),\n",
    "    Person('will', 'chuck'),\n",
    "    Person('harry', 'chuck'),\n",
    "    Person('di', 'liz')\n",
    "]"
   ]
  },
  {
   "cell_type": "code",
   "execution_count": 4,
   "metadata": {},
   "outputs": [
    {
     "name": "stdout",
     "output_type": "stream",
     "text": [
      "{'liz': ['chuck', 'di'], 'chuck': ['will', 'harry']}\n"
     ]
    }
   ],
   "source": [
    "def build_parent_map(people):\n",
    "    \"\"\" builds a map with keys being the parent and values being list of direct children \"\"\"\n",
    "    # first find the keys\n",
    "    parents = {p.parent for p in people if p.parent != '-'}\n",
    "    #for parent in parents:\n",
    "    #    kids = [p.name for p in people if p.parent = parent.name]\n",
    "        \n",
    "    return {parent: [p.name for p in people if p.parent == parent] for parent in parents}\n",
    "\n",
    "print(build_parent_map(family))\n"
   ]
  },
  {
   "cell_type": "code",
   "execution_count": 14,
   "metadata": {},
   "outputs": [
    {
     "name": "stdout",
     "output_type": "stream",
     "text": [
      "['chuck', 'di', 'will', 'harry']\n",
      "['will', 'harry']\n",
      "[]\n"
     ]
    }
   ],
   "source": [
    "def get_descendents(name):\n",
    "    \"\"\" will return a list of all descendents for the given name \"\"\"\n",
    "    pm = build_parent_map(family)\n",
    "    d_list = pm.get(name, [])\n",
    "    for d in d_list.copy():\n",
    "        d_list += get_descendents(d)\n",
    "    return d_list\n",
    "\n",
    "print(get_descendents('liz'))\n",
    "print(get_descendents('chuck'))\n",
    "print(get_descendents('di'))"
   ]
  },
  {
   "cell_type": "code",
   "execution_count": 23,
   "metadata": {},
   "outputs": [
    {
     "name": "stdout",
     "output_type": "stream",
     "text": [
      "family [liz (-), chuck (liz), will (chuck), harry (chuck), di (liz)]\n",
      "root: liz\n",
      "d: liz (-)\n",
      "d: chuck (liz)\n",
      "root: chuck (liz)\n",
      "d: will (chuck)\n",
      "d: harry (chuck)\n",
      "d: di (liz)\n",
      "root: di (liz)\n",
      "['liz', [chuck (liz), [chuck (liz)], di (liz), [di (liz)]]]\n"
     ]
    }
   ],
   "source": [
    "def make_tree(root, family):\n",
    "    print('root: {}'.format(root))\n",
    "    if not family: return [root]\n",
    "    d_list = []\n",
    "    for d in family:\n",
    "        print('d: {}'.format(d))\n",
    "        if d.parent == root:\n",
    "            d_list +=  [d, make_tree(d, get_descendents(d))]\n",
    "    return [root, d_list]\n",
    "\n",
    "print('family {}'.format(family))\n",
    "print(make_tree('liz', family))\n",
    "        "
   ]
  }
 ],
 "metadata": {
  "kernelspec": {
   "display_name": "Python 3",
   "language": "python",
   "name": "python3"
  },
  "language_info": {
   "codemirror_mode": {
    "name": "ipython",
    "version": 3
   },
   "file_extension": ".py",
   "mimetype": "text/x-python",
   "name": "python",
   "nbconvert_exporter": "python",
   "pygments_lexer": "ipython3",
   "version": "3.7.0"
  }
 },
 "nbformat": 4,
 "nbformat_minor": 2
}
