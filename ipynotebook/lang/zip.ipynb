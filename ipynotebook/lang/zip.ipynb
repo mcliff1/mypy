{
 "cells": [
  {
   "cell_type": "code",
   "execution_count": 3,
   "metadata": {},
   "outputs": [
    {
     "data": {
      "text/plain": [
       "1.0"
      ]
     },
     "execution_count": 3,
     "metadata": {},
     "output_type": "execute_result"
    }
   ],
   "source": [
    "import math\n",
    "# try zip to get a easy norm\n",
    "def norm(x, y):\n",
    "    return math.sqrt( (x[0]-y[0])**2 + (x[1]-y[1])**2)\n",
    "\n",
    "norm((0,3),(0,4))"
   ]
  },
  {
   "cell_type": "code",
   "execution_count": 12,
   "metadata": {},
   "outputs": [
    {
     "data": {
      "text/plain": [
       "5.0"
      ]
     },
     "execution_count": 12,
     "metadata": {},
     "output_type": "execute_result"
    }
   ],
   "source": [
    "norm((1,1),(4,5))"
   ]
  },
  {
   "cell_type": "code",
   "execution_count": 35,
   "metadata": {},
   "outputs": [
    {
     "name": "stdout",
     "output_type": "stream",
     "text": [
      "5.0\n"
     ]
    }
   ],
   "source": [
    "# n-dimensional pythonic way\n",
    "def n2(x, y):\n",
    "    return math.sqrt(sum(map(lambda x:(x[0]-x[1])**2, list(zip(x, y)))))\n",
    "\n",
    "a = (1,1)\n",
    "b = (4,5)\n",
    "\n",
    "print(n2(a,b))"
   ]
  },
  {
   "cell_type": "code",
   "execution_count": 34,
   "metadata": {},
   "outputs": [
    {
     "name": "stdout",
     "output_type": "stream",
     "text": [
      "[9, 16]\n",
      "5.0\n"
     ]
    }
   ],
   "source": [
    "print(list(map(lambda x:(x[0]-x[1])**2, list(zip(a,b)))))\n",
    "print(math.sqrt(sum(map(lambda x:(x[0]-x[1])**2, list(zip(a, b))))))\n",
    "\n"
   ]
  },
  {
   "cell_type": "code",
   "execution_count": 45,
   "metadata": {},
   "outputs": [
    {
     "name": "stdout",
     "output_type": "stream",
     "text": [
      "5.0\n",
      "7.0\n",
      "4.000000000000013\n"
     ]
    }
   ],
   "source": [
    "def norm2(x, y, l=2):\n",
    "    \"\"\" super pythonic way\"\"\"\n",
    "    return sum(map(lambda x: abs(x[0]-x[1])**l, list(zip(x, y))))**(1/float(l))\n",
    "\n",
    "print(norm2(a,b))\n",
    "print(norm2(a,b,1))\n",
    "print(norm2(a,b,100))"
   ]
  }
 ],
 "metadata": {
  "kernelspec": {
   "display_name": "Python 3",
   "language": "python",
   "name": "python3"
  },
  "language_info": {
   "codemirror_mode": {
    "name": "ipython",
    "version": 3
   },
   "file_extension": ".py",
   "mimetype": "text/x-python",
   "name": "python",
   "nbconvert_exporter": "python",
   "pygments_lexer": "ipython3",
   "version": "3.7.0"
  }
 },
 "nbformat": 4,
 "nbformat_minor": 2
}
