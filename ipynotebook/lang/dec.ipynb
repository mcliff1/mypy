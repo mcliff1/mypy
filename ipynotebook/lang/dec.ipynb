{
 "cells": [
  {
   "cell_type": "code",
   "execution_count": 3,
   "metadata": {},
   "outputs": [
    {
     "name": "stdout",
     "output_type": "stream",
     "text": [
      "add(10) 20\n",
      "add(20, 30) 50\n",
      "add(\"a\", \"b\") ab\n",
      "sub(10) 0\n",
      "sub(20, 30) -10\n"
     ]
    }
   ],
   "source": [
    "def add(x, y=10):\n",
    "    return x + y\n",
    "\n",
    "def sub(x, y=10):\n",
    "    return x - y\n",
    "\n",
    "print('add(10)', add(10))\n",
    "print('add(20, 30)', add(20, 30))\n",
    "print('add(\"a\", \"b\")', add(\"a\", \"b\"))\n",
    "print('sub(10)', sub(10))\n",
    "print('sub(20, 30)', sub(20, 30))"
   ]
  },
  {
   "cell_type": "code",
   "execution_count": 4,
   "metadata": {},
   "outputs": [
    {
     "name": "stdout",
     "output_type": "stream",
     "text": [
      "elapsed 0.0\n",
      "add(10) 20\n",
      "elapsed 0.0\n",
      "add(20, 30) 50\n",
      "elapsed 0.0\n",
      "add(\"a\", \"b\") ab\n",
      "elapsed 0.0\n",
      "sub(10) 0\n",
      "elapsed 0.0\n",
      "sub(20, 30) -10\n"
     ]
    }
   ],
   "source": [
    "from time import time    \n",
    "\n",
    "def timer(func, x, y=10):\n",
    "    before = time()\n",
    "    rv = func(x, y)\n",
    "    after = time()\n",
    "    print('elapsed', after - before)\n",
    "    return rv\n",
    "\n",
    "def add(x, y=10):\n",
    "    return x + y\n",
    "\n",
    "def sub(x, y=10):\n",
    "    return x - y\n",
    "\n",
    "print('add(10)', timer(add,10))\n",
    "print('add(20, 30)', timer(add,20, 30))\n",
    "print('add(\"a\", \"b\")', timer(add,\"a\", \"b\"))\n",
    "print('sub(10)', timer(sub,10))\n",
    "print('sub(20, 30)', timer(sub,20, 30))"
   ]
  },
  {
   "cell_type": "code",
   "execution_count": 8,
   "metadata": {},
   "outputs": [
    {
     "name": "stdout",
     "output_type": "stream",
     "text": [
      "elapsed 0.0\n",
      "add(10) 20\n",
      "elapsed 0.0\n",
      "add(20, 30) 50\n",
      "elapsed 0.0\n",
      "add(\"a\", \"b\") ab\n",
      "elapsed 0.0\n",
      "sub(10) 0\n",
      "elapsed 0.0\n",
      "sub(20, 30) -10\n"
     ]
    }
   ],
   "source": [
    "from time import time    \n",
    "\n",
    "def timer(func):\n",
    "    def f(x, y=10):\n",
    "        before = time()\n",
    "        rv = func(x, y)\n",
    "        after = time()\n",
    "        print('elapsed', after - before)\n",
    "        return rv\n",
    "    return f\n",
    "\n",
    "def add(x, y=10):\n",
    "    return x + y\n",
    "add = timer(add)\n",
    "\n",
    "def sub(x, y=10):\n",
    "    return x - y\n",
    "sub = timer(sub)\n",
    "\n",
    "print('add(10)', add(10))\n",
    "print('add(20, 30)', add(20, 30))\n",
    "print('add(\"a\", \"b\")', add(\"a\", \"b\"))\n",
    "print('sub(10)', sub(10))\n",
    "print('sub(20, 30)', sub(20, 30))"
   ]
  },
  {
   "cell_type": "code",
   "execution_count": 10,
   "metadata": {},
   "outputs": [
    {
     "name": "stdout",
     "output_type": "stream",
     "text": [
      "elapsed 0.0\n",
      "add(10) 20\n",
      "elapsed 0.0\n",
      "add(20, 30) 50\n",
      "elapsed 0.0\n",
      "add(\"a\", \"b\") ab\n",
      "elapsed 0.0\n",
      "sub(10) 0\n",
      "elapsed 0.0\n",
      "sub(20, 30) -10\n"
     ]
    }
   ],
   "source": [
    "from time import time    \n",
    "\n",
    "def timer(func):\n",
    "    #def f(x, y=10):\n",
    "    def f(*args, **kwargs):\n",
    "        before = time()\n",
    "        rv = func(*args, **kwargs)\n",
    "        after = time()\n",
    "        print('elapsed', after - before)\n",
    "        return rv\n",
    "    return f\n",
    "\n",
    "@timer\n",
    "def add(x, y=10):\n",
    "    return x + y\n",
    "\n",
    "@timer\n",
    "def sub(x, y=10):\n",
    "    return x - y\n",
    "\n",
    "\n",
    "print('add(10)', add(10))\n",
    "print('add(20, 30)', add(20, 30))\n",
    "print('add(\"a\", \"b\")', add(\"a\", \"b\"))\n",
    "print('sub(10)', sub(10))\n",
    "print('sub(20, 30)', sub(20, 30))\n"
   ]
  },
  {
   "cell_type": "code",
   "execution_count": 13,
   "metadata": {},
   "outputs": [
    {
     "name": "stdout",
     "output_type": "stream",
     "text": [
      "runnign add\n",
      "runnign add\n",
      "add(10) 20\n",
      "runnign add\n",
      "runnign add\n",
      "add(20, 30) 50\n"
     ]
    }
   ],
   "source": [
    "from time import time    \n",
    "\n",
    "def timer(func):\n",
    "    #def f(x, y=10):\n",
    "    def f(*args, **kwargs):\n",
    "        before = time()\n",
    "        rv = func(*args, **kwargs)\n",
    "        after = time()\n",
    "        print('elapsed', after - before)\n",
    "        return rv\n",
    "    return f\n",
    "\n",
    "n = 2\n",
    "def ntimes(f):\n",
    "    def wrapper(*args, **kwargs):\n",
    "        for _ in range(n):\n",
    "            print('running add')\n",
    "            rv = f(*args, **kwargs)\n",
    "        return rv\n",
    "    return wrapper\n",
    "\n",
    "\n",
    "@ntimes\n",
    "def add(x, y=10):\n",
    "    return x + y\n",
    "\n",
    "\n",
    "print('add(10)', add(10))\n",
    "print('add(20, 30)', add(20, 30))\n"
   ]
  },
  {
   "cell_type": "code",
   "execution_count": 14,
   "metadata": {},
   "outputs": [
    {
     "name": "stdout",
     "output_type": "stream",
     "text": [
      "running add\n",
      "running add\n",
      "running add\n",
      "running add\n",
      "add(10) 20\n",
      "running add\n",
      "running add\n",
      "running add\n",
      "running add\n",
      "add(20, 30) 50\n"
     ]
    }
   ],
   "source": [
    "from time import time    \n",
    "\n",
    "def timer(func):\n",
    "    #def f(x, y=10):\n",
    "    def f(*args, **kwargs):\n",
    "        before = time()\n",
    "        rv = func(*args, **kwargs)\n",
    "        after = time()\n",
    "        print('elapsed', after - before)\n",
    "        return rv\n",
    "    return f\n",
    "\n",
    "def ntimes(n):\n",
    "    def inner(f):\n",
    "        def wrapper(*args, **kwargs):\n",
    "            for _ in range(n):\n",
    "                print('running add')\n",
    "                rv = f(*args, **kwargs)\n",
    "            return rv\n",
    "        return wrapper\n",
    "    return inner\n",
    "\n",
    "\n",
    "@ntimes(4)\n",
    "def add(x, y=10):\n",
    "    return x + y\n",
    "\n",
    "\n",
    "print('add(10)', add(10))\n",
    "print('add(20, 30)', add(20, 30))\n"
   ]
  },
  {
   "cell_type": "code",
   "execution_count": null,
   "metadata": {
    "collapsed": true
   },
   "outputs": [],
   "source": []
  }
 ],
 "metadata": {
  "kernelspec": {
   "display_name": "Python 3",
   "language": "python",
   "name": "python3"
  },
  "language_info": {
   "codemirror_mode": {
    "name": "ipython",
    "version": 3
   },
   "file_extension": ".py",
   "mimetype": "text/x-python",
   "name": "python",
   "nbconvert_exporter": "python",
   "pygments_lexer": "ipython3",
   "version": "3.6.3"
  }
 },
 "nbformat": 4,
 "nbformat_minor": 2
}
