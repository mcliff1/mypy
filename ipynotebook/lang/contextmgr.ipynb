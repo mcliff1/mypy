{
 "cells": [
  {
   "cell_type": "code",
   "execution_count": 2,
   "metadata": {},
   "outputs": [],
   "source": [
    "from sqlite3 import connect"
   ]
  },
  {
   "cell_type": "code",
   "execution_count": 4,
   "metadata": {},
   "outputs": [
    {
     "name": "stdout",
     "output_type": "stream",
     "text": [
      "(1, 1)\n",
      "(1, 2)\n",
      "(2, 1)\n",
      "(5,)\n"
     ]
    }
   ],
   "source": [
    "with connect('test.db') as conn:\n",
    "    cur = conn.cursor()\n",
    "    cur.execute('create table points (x int, y int)')\n",
    "    cur.execute('insert into points (x, y) values (1, 1)')\n",
    "    cur.execute('insert into points (x, y) values (1, 2)')\n",
    "    cur.execute('insert into points (x, y) values (2, 1)')\n",
    "    for row in cur.execute('select x, y from points'):\n",
    "        print(row)\n",
    "    for row in cur.execute('select sum(x * y) from points'):\n",
    "        print(row)\n",
    "    cur.execute('drop table points')"
   ]
  },
  {
   "cell_type": "code",
   "execution_count": 7,
   "metadata": {},
   "outputs": [
    {
     "name": "stdout",
     "output_type": "stream",
     "text": [
      "(1, 1)\n",
      "(1, 2)\n",
      "(2, 1)\n",
      "(5,)\n"
     ]
    }
   ],
   "source": [
    "#with ctx() as x:\n",
    "#    pass\n",
    "\n",
    "# x = ctx().__enter__()\n",
    "# try:\n",
    "#     pass\n",
    "# finally:\n",
    "#     x.__exit()\n",
    "\n",
    "class temptable:\n",
    "    def __init__(self, cur):\n",
    "        self.cur = cur\n",
    "    def __enter__(self):\n",
    "        cur.execute('create table points (x int, y int)')\n",
    "    def __exit__(self, *args):\n",
    "        cur.execute('drop table points')\n",
    "\n",
    "\n",
    "with connect('test.db') as conn:\n",
    "    cur = conn.cursor()\n",
    "    with temptable(cur):\n",
    "        cur.execute('insert into points (x, y) values (1, 1)')\n",
    "        cur.execute('insert into points (x, y) values (1, 2)')\n",
    "        cur.execute('insert into points (x, y) values (2, 1)')\n",
    "        for row in cur.execute('select x, y from points'):\n",
    "            print(row)\n",
    "        for row in cur.execute('select sum(x * y) from points'):\n",
    "            print(row)\n",
    "    \n",
    "    \n",
    "    "
   ]
  },
  {
   "cell_type": "code",
   "execution_count": 19,
   "metadata": {},
   "outputs": [
    {
     "name": "stdout",
     "output_type": "stream",
     "text": [
      "(1, 1)\n",
      "(1, 2)\n",
      "(2, 1)\n",
      "(5,)\n"
     ]
    }
   ],
   "source": [
    "#  can the exit evry be called before enter?\n",
    "#   No!   it is all about sequencing to enforce that which is what generators are\n",
    "\n",
    "\n",
    "def temptable(cur):\n",
    "    cur.execute('create table points (x int, y int)')\n",
    "    yield\n",
    "    cur.execute('drop table points')\n",
    "    \n",
    "    \n",
    "class contextmanager:\n",
    "    def __init__(self, cur):\n",
    "        self.cur = cur\n",
    "    def __enter__(self):\n",
    "        self.gen = temptable(self.cur)\n",
    "        next(self.gen)\n",
    "    def __exit__(self, *args):\n",
    "        next(self.gen, None)\n",
    "\n",
    "with connect('test.db') as conn:\n",
    "    cur = conn.cursor()\n",
    "    with contextmanager(cur):\n",
    "        cur.execute('insert into points (x, y) values (1, 1)')\n",
    "        cur.execute('insert into points (x, y) values (1, 2)')\n",
    "        cur.execute('insert into points (x, y) values (2, 1)')\n",
    "        for row in cur.execute('select x, y from points'):\n",
    "            print(row)\n",
    "        for row in cur.execute('select sum(x * y) from points'):\n",
    "            print(row)\n",
    "    \n",
    " "
   ]
  },
  {
   "cell_type": "code",
   "execution_count": 15,
   "metadata": {
    "collapsed": true
   },
   "outputs": [],
   "source": [
    "# in case anything goes wrong this deletes the table\n",
    "with connect('test.db') as conn:\n",
    "    cur = conn.cursor()\n",
    "    cur.execute('drop table points')"
   ]
  },
  {
   "cell_type": "code",
   "execution_count": 21,
   "metadata": {},
   "outputs": [
    {
     "name": "stdout",
     "output_type": "stream",
     "text": [
      "(1, 1)\n",
      "(1, 2)\n",
      "(2, 1)\n",
      "(5,)\n"
     ]
    }
   ],
   "source": [
    "# now lets make it more generic\n",
    "def temptable(cur):\n",
    "    cur.execute('create table points (x int, y int)')\n",
    "    yield\n",
    "    cur.execute('drop table points')\n",
    "    \n",
    "# much more generic\n",
    "class contextmanager:\n",
    "    def __init__(self, gen):\n",
    "        self.gen = gen\n",
    "    def __call__(self, *args, **kwargs):\n",
    "        self.args, self.kwargs = args, kwargs\n",
    "        return self\n",
    "    def __enter__(self):\n",
    "        self.gen_inst = self.gen(*self.args, **self.kwargs)\n",
    "        next(self.gen_inst)\n",
    "    def __exit__(self, *args):\n",
    "        next(self.gen_inst, None)\n",
    "\n",
    "with connect('test.db') as conn:\n",
    "    cur = conn.cursor()\n",
    "    with contextmanager(temptable)(cur):\n",
    "        cur.execute('insert into points (x, y) values (1, 1)')\n",
    "        cur.execute('insert into points (x, y) values (1, 2)')\n",
    "        cur.execute('insert into points (x, y) values (2, 1)')\n",
    "        for row in cur.execute('select x, y from points'):\n",
    "            print(row)\n",
    "        for row in cur.execute('select sum(x * y) from points'):\n",
    "            print(row)\n",
    "    \n",
    " "
   ]
  },
  {
   "cell_type": "code",
   "execution_count": 22,
   "metadata": {},
   "outputs": [
    {
     "name": "stdout",
     "output_type": "stream",
     "text": [
      "(1, 1)\n",
      "(1, 2)\n",
      "(2, 1)\n",
      "(5,)\n"
     ]
    }
   ],
   "source": [
    "# now lets make it more generic\n",
    "# much more generic\n",
    "class contextmanager:\n",
    "    def __init__(self, gen):\n",
    "        self.gen = gen\n",
    "    def __call__(self, *args, **kwargs):\n",
    "        self.args, self.kwargs = args, kwargs\n",
    "        return self\n",
    "    def __enter__(self):\n",
    "        self.gen_inst = self.gen(*self.args, **self.kwargs)\n",
    "        next(self.gen_inst)\n",
    "    def __exit__(self, *args):\n",
    "        next(self.gen_inst, None)\n",
    "\n",
    "# now wrap it\n",
    "def temptable(cur):\n",
    "    cur.execute('create table points (x int, y int)')\n",
    "    yield\n",
    "    cur.execute('drop table points')\n",
    "temptable = contextmanager(temptable)    \n",
    "\n",
    "        \n",
    "with connect('test.db') as conn:\n",
    "    cur = conn.cursor()\n",
    "    with temptable(cur):\n",
    "        cur.execute('insert into points (x, y) values (1, 1)')\n",
    "        cur.execute('insert into points (x, y) values (1, 2)')\n",
    "        cur.execute('insert into points (x, y) values (2, 1)')\n",
    "        for row in cur.execute('select x, y from points'):\n",
    "            print(row)\n",
    "        for row in cur.execute('select sum(x * y) from points'):\n",
    "            print(row)\n",
    "    \n",
    " "
   ]
  },
  {
   "cell_type": "code",
   "execution_count": 23,
   "metadata": {},
   "outputs": [
    {
     "name": "stdout",
     "output_type": "stream",
     "text": [
      "(1, 1)\n",
      "(1, 2)\n",
      "(2, 1)\n",
      "(5,)\n"
     ]
    }
   ],
   "source": [
    "# now lets make it more generic\n",
    "# much more generic\n",
    "class contextmanager:\n",
    "    def __init__(self, gen):\n",
    "        self.gen = gen\n",
    "    def __call__(self, *args, **kwargs):\n",
    "        self.args, self.kwargs = args, kwargs\n",
    "        return self\n",
    "    def __enter__(self):\n",
    "        self.gen_inst = self.gen(*self.args, **self.kwargs)\n",
    "        next(self.gen_inst)\n",
    "    def __exit__(self, *args):\n",
    "        next(self.gen_inst, None)\n",
    "\n",
    "@contextmanager\n",
    "def temptable(cur):\n",
    "    cur.execute('create table points (x int, y int)')\n",
    "    yield\n",
    "    cur.execute('drop table points')\n",
    "\n",
    "        \n",
    "with connect('test.db') as conn:\n",
    "    cur = conn.cursor()\n",
    "    with temptable(cur):\n",
    "        cur.execute('insert into points (x, y) values (1, 1)')\n",
    "        cur.execute('insert into points (x, y) values (1, 2)')\n",
    "        cur.execute('insert into points (x, y) values (2, 1)')\n",
    "        for row in cur.execute('select x, y from points'):\n",
    "            print(row)\n",
    "        for row in cur.execute('select sum(x * y) from points'):\n",
    "            print(row)\n",
    "    \n",
    " "
   ]
  },
  {
   "cell_type": "code",
   "execution_count": 25,
   "metadata": {},
   "outputs": [
    {
     "name": "stdout",
     "output_type": "stream",
     "text": [
      "(1, 1)\n",
      "(1, 2)\n",
      "(2, 1)\n",
      "(5,)\n"
     ]
    }
   ],
   "source": [
    "# use the library\n",
    "from contextlib import contextmanager\n",
    "\n",
    "@contextmanager\n",
    "def temptable(cur):\n",
    "    cur.execute('create table points (x int, y int)')\n",
    "    try:\n",
    "        yield\n",
    "    finally:\n",
    "        cur.execute('drop table points')\n",
    "\n",
    "        \n",
    "with connect('test.db') as conn:\n",
    "    cur = conn.cursor()\n",
    "    with temptable(cur):\n",
    "        cur.execute('insert into points (x, y) values (1, 1)')\n",
    "        cur.execute('insert into points (x, y) values (1, 2)')\n",
    "        cur.execute('insert into points (x, y) values (2, 1)')\n",
    "        for row in cur.execute('select x, y from points'):\n",
    "            print(row)\n",
    "        for row in cur.execute('select sum(x * y) from points'):\n",
    "            print(row)\n",
    "    \n",
    " "
   ]
  }
 ],
 "metadata": {
  "kernelspec": {
   "display_name": "Python 3",
   "language": "python",
   "name": "python3"
  },
  "language_info": {
   "codemirror_mode": {
    "name": "ipython",
    "version": 3
   },
   "file_extension": ".py",
   "mimetype": "text/x-python",
   "name": "python",
   "nbconvert_exporter": "python",
   "pygments_lexer": "ipython3",
   "version": "3.6.3"
  }
 },
 "nbformat": 4,
 "nbformat_minor": 2
}
